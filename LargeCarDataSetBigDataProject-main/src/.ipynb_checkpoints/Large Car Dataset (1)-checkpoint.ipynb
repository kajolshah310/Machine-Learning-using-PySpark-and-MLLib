{
 "cells": [
  {
   "cell_type": "code",
   "execution_count": 1,
   "id": "4312672e",
   "metadata": {},
   "outputs": [],
   "source": [
    "import findspark\n",
    "findspark.init()"
   ]
  },
  {
   "cell_type": "code",
   "execution_count": 2,
   "id": "37d31987",
   "metadata": {},
   "outputs": [],
   "source": [
    "import pyspark"
   ]
  },
  {
   "cell_type": "code",
   "execution_count": 3,
   "id": "b0b0535e",
   "metadata": {},
   "outputs": [],
   "source": [
    "from pyspark.sql import SparkSession"
   ]
  },
  {
   "cell_type": "code",
   "execution_count": 4,
   "id": "20c9076e",
   "metadata": {},
   "outputs": [],
   "source": [
    "spark = SparkSession.builder.appName('BigdataProject').getOrCreate()"
   ]
  },
  {
   "cell_type": "code",
   "execution_count": 5,
   "id": "dfd48713",
   "metadata": {},
   "outputs": [
    {
     "data": {
      "text/html": [
       "\n",
       "            <div>\n",
       "                <p><b>SparkSession - in-memory</b></p>\n",
       "                \n",
       "        <div>\n",
       "            <p><b>SparkContext</b></p>\n",
       "\n",
       "            <p><a href=\"http://host.docker.internal:4040\">Spark UI</a></p>\n",
       "\n",
       "            <dl>\n",
       "              <dt>Version</dt>\n",
       "                <dd><code>v3.3.1</code></dd>\n",
       "              <dt>Master</dt>\n",
       "                <dd><code>local[*]</code></dd>\n",
       "              <dt>AppName</dt>\n",
       "                <dd><code>BigdataProject</code></dd>\n",
       "            </dl>\n",
       "        </div>\n",
       "        \n",
       "            </div>\n",
       "        "
      ],
      "text/plain": [
       "<pyspark.sql.session.SparkSession at 0x1a58ca115e0>"
      ]
     },
     "execution_count": 5,
     "metadata": {},
     "output_type": "execute_result"
    }
   ],
   "source": [
    "spark"
   ]
  },
  {
   "cell_type": "code",
   "execution_count": 6,
   "id": "5e7f4b31",
   "metadata": {},
   "outputs": [],
   "source": [
    "df = spark.read.option('header','true').csv('CIS_Automotive_Kaggle_Sample.csv',inferSchema=True)"
   ]
  },
  {
   "cell_type": "code",
   "execution_count": 7,
   "id": "1bbf3bc4",
   "metadata": {
    "scrolled": true
   },
   "outputs": [
    {
     "data": {
      "text/plain": [
       "['vin',\n",
       " 'stockNum',\n",
       " 'firstSeen',\n",
       " 'lastSeen',\n",
       " 'msrp',\n",
       " 'askPrice',\n",
       " 'mileage',\n",
       " 'isNew',\n",
       " 'color',\n",
       " 'interiorColor',\n",
       " 'brandName',\n",
       " 'modelName',\n",
       " 'dealerID',\n",
       " 'vf_ABS',\n",
       " 'vf_ActiveSafetySysNote',\n",
       " 'vf_AdaptiveCruiseControl',\n",
       " 'vf_AdaptiveDrivingBeam',\n",
       " 'vf_AdaptiveHeadlights',\n",
       " 'vf_AdditionalErrorText',\n",
       " 'vf_AirBagLocCurtain',\n",
       " 'vf_AirBagLocFront',\n",
       " 'vf_AirBagLocKnee',\n",
       " 'vf_AirBagLocSeatCushion',\n",
       " 'vf_AirBagLocSide',\n",
       " 'vf_AutoReverseSystem',\n",
       " 'vf_AutomaticPedestrianAlertingSound',\n",
       " 'vf_AxleConfiguration',\n",
       " 'vf_Axles',\n",
       " 'vf_BasePrice',\n",
       " 'vf_BatteryA',\n",
       " 'vf_BatteryA_to',\n",
       " 'vf_BatteryCells',\n",
       " 'vf_BatteryInfo',\n",
       " 'vf_BatteryKWh',\n",
       " 'vf_BatteryKWh_to',\n",
       " 'vf_BatteryModules',\n",
       " 'vf_BatteryPacks',\n",
       " 'vf_BatteryType',\n",
       " 'vf_BatteryV',\n",
       " 'vf_BatteryV_to',\n",
       " 'vf_BedLengthIN',\n",
       " 'vf_BedType',\n",
       " 'vf_BlindSpotMon',\n",
       " 'vf_BodyCabType',\n",
       " 'vf_BodyClass',\n",
       " 'vf_BrakeSystemDesc',\n",
       " 'vf_BrakeSystemType',\n",
       " 'vf_BusFloorConfigType',\n",
       " 'vf_BusLength',\n",
       " 'vf_BusType',\n",
       " 'vf_CAN_AACN',\n",
       " 'vf_CIB',\n",
       " 'vf_CashForClunkers',\n",
       " 'vf_ChargerLevel',\n",
       " 'vf_ChargerPowerKW',\n",
       " 'vf_CoolingType',\n",
       " 'vf_CurbWeightLB',\n",
       " 'vf_CustomMotorcycleType',\n",
       " 'vf_DaytimeRunningLight',\n",
       " 'vf_DestinationMarket',\n",
       " 'vf_DisplacementCC',\n",
       " 'vf_DisplacementCI',\n",
       " 'vf_DisplacementL',\n",
       " 'vf_Doors',\n",
       " 'vf_DriveType',\n",
       " 'vf_DriverAssist',\n",
       " 'vf_DynamicBrakeSupport',\n",
       " 'vf_EDR',\n",
       " 'vf_ESC',\n",
       " 'vf_EVDriveUnit',\n",
       " 'vf_ElectrificationLevel',\n",
       " 'vf_EngineConfiguration',\n",
       " 'vf_EngineCycles',\n",
       " 'vf_EngineCylinders',\n",
       " 'vf_EngineHP',\n",
       " 'vf_EngineHP_to',\n",
       " 'vf_EngineKW',\n",
       " 'vf_EngineManufacturer',\n",
       " 'vf_EngineModel',\n",
       " 'vf_EntertainmentSystem',\n",
       " 'vf_ForwardCollisionWarning',\n",
       " 'vf_FuelInjectionType',\n",
       " 'vf_FuelTypePrimary',\n",
       " 'vf_FuelTypeSecondary',\n",
       " 'vf_GCWR',\n",
       " 'vf_GCWR_to',\n",
       " 'vf_GVWR',\n",
       " 'vf_GVWR_to',\n",
       " 'vf_KeylessIgnition',\n",
       " 'vf_LaneDepartureWarning',\n",
       " 'vf_LaneKeepSystem',\n",
       " 'vf_LowerBeamHeadlampLightSource',\n",
       " 'vf_Make',\n",
       " 'vf_MakeID',\n",
       " 'vf_Manufacturer',\n",
       " 'vf_ManufacturerId',\n",
       " 'vf_Model',\n",
       " 'vf_ModelID',\n",
       " 'vf_ModelYear',\n",
       " 'vf_MotorcycleChassisType',\n",
       " 'vf_MotorcycleSuspensionType',\n",
       " 'vf_NCSABodyType',\n",
       " 'vf_NCSAMake',\n",
       " 'vf_NCSAMapExcApprovedBy',\n",
       " 'vf_NCSAMapExcApprovedOn',\n",
       " 'vf_NCSAMappingException',\n",
       " 'vf_NCSAModel',\n",
       " 'vf_NCSANote',\n",
       " 'vf_Note',\n",
       " 'vf_OtherBusInfo',\n",
       " 'vf_OtherEngineInfo',\n",
       " 'vf_OtherMotorcycleInfo',\n",
       " 'vf_OtherRestraintSystemInfo',\n",
       " 'vf_OtherTrailerInfo',\n",
       " 'vf_ParkAssist',\n",
       " 'vf_PedestrianAutomaticEmergencyBraking',\n",
       " 'vf_PlantCity',\n",
       " 'vf_PlantCompanyName',\n",
       " 'vf_PlantCountry',\n",
       " 'vf_PlantState',\n",
       " 'vf_PossibleValues',\n",
       " 'vf_Pretensioner',\n",
       " 'vf_RearCrossTrafficAlert',\n",
       " 'vf_RearVisibilitySystem',\n",
       " 'vf_SAEAutomationLevel',\n",
       " 'vf_SAEAutomationLevel_to',\n",
       " 'vf_SeatBeltsAll',\n",
       " 'vf_SeatRows',\n",
       " 'vf_Seats',\n",
       " 'vf_SemiautomaticHeadlampBeamSwitching',\n",
       " 'vf_Series',\n",
       " 'vf_Series2',\n",
       " 'vf_SteeringLocation',\n",
       " 'vf_SuggestedVIN',\n",
       " 'vf_TPMS',\n",
       " 'vf_TopSpeedMPH',\n",
       " 'vf_TrackWidth',\n",
       " 'vf_TractionControl',\n",
       " 'vf_TrailerBodyType',\n",
       " 'vf_TrailerLength',\n",
       " 'vf_TrailerType',\n",
       " 'vf_TransmissionSpeeds',\n",
       " 'vf_TransmissionStyle',\n",
       " 'vf_Trim',\n",
       " 'vf_Trim2',\n",
       " 'vf_Turbo',\n",
       " 'vf_VIN',\n",
       " 'vf_ValveTrainDesign',\n",
       " 'vf_VehicleType',\n",
       " 'vf_WheelBaseLong',\n",
       " 'vf_WheelBaseShort',\n",
       " 'vf_WheelBaseType',\n",
       " 'vf_WheelSizeFront',\n",
       " 'vf_WheelSizeRear',\n",
       " 'vf_Wheels',\n",
       " 'vf_Windows']"
      ]
     },
     "execution_count": 7,
     "metadata": {},
     "output_type": "execute_result"
    }
   ],
   "source": [
    "df.columns"
   ]
  },
  {
   "cell_type": "code",
   "execution_count": 8,
   "id": "fa4a431b",
   "metadata": {},
   "outputs": [],
   "source": [
    "from pyspark.sql.types import StringType, BooleanType, IntegerType"
   ]
  },
  {
   "cell_type": "code",
   "execution_count": 9,
   "id": "dd11792d",
   "metadata": {},
   "outputs": [],
   "source": [
    "df_pyspark = df.select(['vin','firstseen','lastseen','askPrice','mileage','isNew','brandName','modelName',\n",
    "  'vf_AirBagLocFront','vf_AirBagLocKnee', 'vf_AirBagLocSide','vf_Axles','vf_BasePrice','vf_DisplacementCC','vf_DisplacementCI','vf_DisplacementL','vf_Doors', \n",
    "  'vf_EngineCylinders','vf_EngineHP','vf_EngineKW','vf_SeatRows','vf_Seats','vf_TopSpeedMPH','vf_TransmissionSpeeds','vf_WheelBaseShort','vf_WheelSizeFront','vf_WheelSizeRear','vf_Wheels','vf_Windows','msrp'])"
   ]
  },
  {
   "cell_type": "code",
   "execution_count": 10,
   "id": "4e18a28f",
   "metadata": {},
   "outputs": [
    {
     "data": {
      "text/plain": [
       "DataFrame[vin: string, firstseen: timestamp, lastseen: timestamp, askPrice: int, mileage: int, isNew: boolean, brandName: string, modelName: string, vf_AirBagLocFront: string, vf_AirBagLocKnee: string, vf_AirBagLocSide: string, vf_Axles: int, vf_BasePrice: double, vf_DisplacementCC: double, vf_DisplacementCI: double, vf_DisplacementL: double, vf_Doors: int, vf_EngineCylinders: int, vf_EngineHP: double, vf_EngineKW: double, vf_SeatRows: int, vf_Seats: int, vf_TopSpeedMPH: int, vf_TransmissionSpeeds: int, vf_WheelBaseShort: double, vf_WheelSizeFront: int, vf_WheelSizeRear: int, vf_Wheels: int, vf_Windows: int, msrp: int]"
      ]
     },
     "execution_count": 10,
     "metadata": {},
     "output_type": "execute_result"
    }
   ],
   "source": [
    "df_pyspark"
   ]
  },
  {
   "cell_type": "code",
   "execution_count": 11,
   "id": "11da41bb",
   "metadata": {},
   "outputs": [],
   "source": [
    "#Q1\n",
    "from pyspark.sql.functions import datediff,col,lit\n",
    "df1 = df_pyspark.withColumn('Time in lot',datediff(df['lastSeen'],df['FirstSeen']))"
   ]
  },
  {
   "cell_type": "code",
   "execution_count": 12,
   "id": "1fb7ef1a",
   "metadata": {},
   "outputs": [
    {
     "data": {
      "text/plain": [
       "[('vin', 'string'),\n",
       " ('askPrice', 'int'),\n",
       " ('mileage', 'int'),\n",
       " ('isNew', 'boolean'),\n",
       " ('brandName', 'string'),\n",
       " ('modelName', 'string'),\n",
       " ('vf_AirBagLocFront', 'string'),\n",
       " ('vf_AirBagLocKnee', 'string'),\n",
       " ('vf_AirBagLocSide', 'string'),\n",
       " ('vf_Axles', 'int'),\n",
       " ('vf_BasePrice', 'double'),\n",
       " ('vf_DisplacementCC', 'double'),\n",
       " ('vf_DisplacementCI', 'double'),\n",
       " ('vf_DisplacementL', 'double'),\n",
       " ('vf_Doors', 'int'),\n",
       " ('vf_EngineCylinders', 'int'),\n",
       " ('vf_EngineHP', 'double'),\n",
       " ('vf_EngineKW', 'double'),\n",
       " ('vf_SeatRows', 'int'),\n",
       " ('vf_Seats', 'int'),\n",
       " ('vf_TopSpeedMPH', 'int'),\n",
       " ('vf_TransmissionSpeeds', 'int'),\n",
       " ('vf_WheelBaseShort', 'double'),\n",
       " ('vf_WheelSizeFront', 'int'),\n",
       " ('vf_WheelSizeRear', 'int'),\n",
       " ('vf_Wheels', 'int'),\n",
       " ('vf_Windows', 'int'),\n",
       " ('msrp', 'int'),\n",
       " ('Time in lot', 'int')]"
      ]
     },
     "execution_count": 12,
     "metadata": {},
     "output_type": "execute_result"
    }
   ],
   "source": [
    "#dropping first seen and last seen columns as we have already added a new column 'Time in Lot' for it\n",
    "df2 = df1.drop(col(\"firstseen\"))\n",
    "df2 = df2.drop(col(\"lastseen\"))\n",
    "df2.dtypes"
   ]
  },
  {
   "cell_type": "code",
   "execution_count": 13,
   "id": "341ce8c2",
   "metadata": {},
   "outputs": [],
   "source": [
    "from pyspark.sql.functions import mean\n",
    "df2 = df2.na.drop(subset=['msrp','vf_BasePrice','askPrice'])"
   ]
  },
  {
   "cell_type": "code",
   "execution_count": 14,
   "id": "50287478",
   "metadata": {},
   "outputs": [
    {
     "name": "stdout",
     "output_type": "stream",
     "text": [
      "+-----+------------+--------+\n",
      "| msrp|vf_BasePrice|askPrice|\n",
      "+-----+------------+--------+\n",
      "|12387|     23475.0|   12387|\n",
      "|12970|     26500.0|   12970|\n",
      "|15218|     23940.0|   15218|\n",
      "|18755|     38495.0|   18755|\n",
      "|36999|     34175.0|   36999|\n",
      "|18276|     24105.0|   18276|\n",
      "|22140|     28000.0|   22140|\n",
      "|    0|     34175.0|       0|\n",
      "|20494|     30530.0|   20494|\n",
      "|19026|     26500.0|   19026|\n",
      "|18951|     26500.0|   18951|\n",
      "|16649|     27995.0|   16649|\n",
      "|16671|     30420.0|   16671|\n",
      "|16998|     27995.0|   16998|\n",
      "|20294|     30530.0|   20294|\n",
      "|45996|     63000.0|   45996|\n",
      "|23537|     29995.0|   23537|\n",
      "|12999|     23740.0|   12999|\n",
      "|13398|     23740.0|   13398|\n",
      "|14121|     19995.0|   13692|\n",
      "+-----+------------+--------+\n",
      "only showing top 20 rows\n",
      "\n"
     ]
    }
   ],
   "source": [
    "df2.select('msrp','vf_BasePrice','askPrice').show()"
   ]
  },
  {
   "cell_type": "code",
   "execution_count": 15,
   "id": "f7a36162",
   "metadata": {},
   "outputs": [
    {
     "name": "stdout",
     "output_type": "stream",
     "text": [
      "+-----+\n",
      "|isNew|\n",
      "+-----+\n",
      "|    0|\n",
      "|    0|\n",
      "|    0|\n",
      "|    0|\n",
      "|    0|\n",
      "|    1|\n",
      "|    1|\n",
      "|    1|\n",
      "|    0|\n",
      "|    1|\n",
      "|    1|\n",
      "|    0|\n",
      "|    0|\n",
      "|    0|\n",
      "|    0|\n",
      "|    0|\n",
      "|    1|\n",
      "|    0|\n",
      "|    0|\n",
      "|    0|\n",
      "+-----+\n",
      "only showing top 20 rows\n",
      "\n"
     ]
    }
   ],
   "source": [
    "import pyspark.sql.functions as F\n",
    "df3 = df2.withColumn('isNew', F.when(df2['isNew'] == 'FALSE', 0).otherwise(1))\n",
    "df3.select('isNew').show()"
   ]
  },
  {
   "cell_type": "code",
   "execution_count": 16,
   "id": "56693b9d",
   "metadata": {},
   "outputs": [
    {
     "name": "stdout",
     "output_type": "stream",
     "text": [
      "+-----------------+\n",
      "|vf_AirBagLocFront|\n",
      "+-----------------+\n",
      "|                2|\n",
      "|                2|\n",
      "|                2|\n",
      "|                2|\n",
      "|                2|\n",
      "|                2|\n",
      "|                2|\n",
      "|                2|\n",
      "|                2|\n",
      "|                2|\n",
      "|                2|\n",
      "|                2|\n",
      "|                2|\n",
      "|                2|\n",
      "|                2|\n",
      "|                2|\n",
      "|                2|\n",
      "|                2|\n",
      "|                2|\n",
      "|                2|\n",
      "|                2|\n",
      "|                2|\n",
      "|                2|\n",
      "|                2|\n",
      "|                2|\n",
      "|                2|\n",
      "|                2|\n",
      "|                2|\n",
      "|                2|\n",
      "|                2|\n",
      "|                2|\n",
      "|                2|\n",
      "|                2|\n",
      "|                2|\n",
      "|                2|\n",
      "|                2|\n",
      "|                2|\n",
      "|                2|\n",
      "|                2|\n",
      "|                2|\n",
      "|                2|\n",
      "|                2|\n",
      "|                2|\n",
      "|                2|\n",
      "|                2|\n",
      "+-----------------+\n",
      "only showing top 45 rows\n",
      "\n"
     ]
    }
   ],
   "source": [
    "#changing vf_AirBagLocFront from string to integer\n",
    "from pyspark.sql.functions import when\n",
    "df4 = df3.withColumn('vf_AirBagLocFront', (when(df3['vf_AirBagLocFront'] == '1st Row (Driver & Passenger)', 2).when(df3['vf_AirBagLocFront'] == 'Driver Seat Only', 1).when(df3['vf_AirBagLocFront'] == 'Passenger Seat Only', 1).when(df3['vf_AirBagLocFront'] == '1st & 2nd Rows', 4).when(df3['vf_AirBagLocFront'] == '1st & 2nd & 3rd Rows', 6).when(df3['vf_AirBagLocFront'] == 'All Rows', 4).otherwise(0)))\n",
    "df4.select('vf_AirBagLocFront').show(45)"
   ]
  },
  {
   "cell_type": "code",
   "execution_count": 17,
   "id": "ed64e9f4",
   "metadata": {},
   "outputs": [
    {
     "name": "stdout",
     "output_type": "stream",
     "text": [
      "+----------------+\n",
      "|vf_AirBagLocSide|\n",
      "+----------------+\n",
      "|               4|\n",
      "|               4|\n",
      "|               4|\n",
      "|               6|\n",
      "|               6|\n",
      "|               4|\n",
      "|               4|\n",
      "|               6|\n",
      "|               6|\n",
      "|               4|\n",
      "|               4|\n",
      "|               4|\n",
      "|               4|\n",
      "|               4|\n",
      "|               6|\n",
      "|               2|\n",
      "|               4|\n",
      "|               4|\n",
      "|               4|\n",
      "|               4|\n",
      "+----------------+\n",
      "only showing top 20 rows\n",
      "\n"
     ]
    }
   ],
   "source": [
    "#changing vf_AirBagLocSide from string to integer\n",
    "df5 = df4.withColumn('vf_AirBagLocSide', (when(df4['vf_AirBagLocSide'] == '1st Row (Driver & Passenger)', 2).when(df4['vf_AirBagLocSide'] == 'Driver Seat Only', 1).when(df4['vf_AirBagLocSide'] == 'Passenger Seat Only', 1).when(df4['vf_AirBagLocSide'] == '1st & 2nd Rows', 4).when(df4['vf_AirBagLocSide'] == '1st & 2nd & 3rd Rows', 6).when(df4['vf_AirBagLocSide'] == 'All Rows', 4).otherwise(0)))\n",
    "df5.select('vf_AirBagLocSide').show()"
   ]
  },
  {
   "cell_type": "code",
   "execution_count": 18,
   "id": "04eb0657",
   "metadata": {},
   "outputs": [
    {
     "name": "stdout",
     "output_type": "stream",
     "text": [
      "+----------------+\n",
      "|vf_AirBagLocKnee|\n",
      "+----------------+\n",
      "|               2|\n",
      "|               2|\n",
      "|               0|\n",
      "|               0|\n",
      "|               0|\n",
      "|               0|\n",
      "|               0|\n",
      "|               0|\n",
      "|               0|\n",
      "|               0|\n",
      "|               0|\n",
      "|               0|\n",
      "|               2|\n",
      "|               0|\n",
      "|               0|\n",
      "|               0|\n",
      "|               0|\n",
      "|               2|\n",
      "|               2|\n",
      "|               0|\n",
      "+----------------+\n",
      "only showing top 20 rows\n",
      "\n"
     ]
    }
   ],
   "source": [
    "#changing vf_AirBagLocKnee from string to integer\n",
    "df6 = df5.withColumn('vf_AirBagLocKnee', (when(df5['vf_AirBagLocKnee'] == '1st Row (Driver & Passenger)', 2).when(df5['vf_AirBagLocSide'] == 'Driver Seat Only', 1).when(df5['vf_AirBagLocSide'] == 'Passenger Seat Only', 1).when(df5['vf_AirBagLocSide'] == '1st & 2nd Rows', 4).when(df5['vf_AirBagLocSide'] == '1st & 2nd & 3rd Rows', 6).when(df5['vf_AirBagLocSide'] == 'All Rows', 4).otherwise(0)))\n",
    "df6.select('vf_AirBagLocKnee').show()"
   ]
  },
  {
   "cell_type": "code",
   "execution_count": 19,
   "id": "50803670",
   "metadata": {},
   "outputs": [
    {
     "name": "stdout",
     "output_type": "stream",
     "text": [
      "+--------+\n",
      "|vf_Axles|\n",
      "+--------+\n",
      "|       2|\n",
      "|       2|\n",
      "|       2|\n",
      "|       2|\n",
      "|       2|\n",
      "|       2|\n",
      "|       2|\n",
      "|       2|\n",
      "|       2|\n",
      "|       2|\n",
      "|       2|\n",
      "|       2|\n",
      "|       2|\n",
      "|       2|\n",
      "|       2|\n",
      "|       2|\n",
      "|       2|\n",
      "|       2|\n",
      "|       2|\n",
      "|       2|\n",
      "+--------+\n",
      "only showing top 20 rows\n",
      "\n"
     ]
    }
   ],
   "source": [
    "df6.select('vf_Axles').show()"
   ]
  },
  {
   "cell_type": "code",
   "execution_count": 20,
   "id": "e2f71eb2",
   "metadata": {},
   "outputs": [
    {
     "name": "stdout",
     "output_type": "stream",
     "text": [
      "+--------+\n",
      "|vf_Axles|\n",
      "+--------+\n",
      "|       2|\n",
      "|       2|\n",
      "|       2|\n",
      "|       2|\n",
      "|       2|\n",
      "|       2|\n",
      "|       2|\n",
      "|       2|\n",
      "|       2|\n",
      "|       2|\n",
      "|       2|\n",
      "|       2|\n",
      "|       2|\n",
      "|       2|\n",
      "|       2|\n",
      "|       2|\n",
      "|       2|\n",
      "|       2|\n",
      "|       2|\n",
      "|       2|\n",
      "+--------+\n",
      "only showing top 20 rows\n",
      "\n"
     ]
    }
   ],
   "source": [
    "#vf_Axles - filling null values with average\n",
    "avg_axles = df6.agg({'vf_Axles': 'mean' })\n",
    "df7 = df6.na.fill(value=avg_axles.first()[0],subset=[\"vf_Axles\"])\n",
    "df7.select('vf_Axles').show()"
   ]
  },
  {
   "cell_type": "code",
   "execution_count": 21,
   "id": "3e05cefa",
   "metadata": {},
   "outputs": [
    {
     "name": "stdout",
     "output_type": "stream",
     "text": [
      "+------------+\n",
      "|vf_BasePrice|\n",
      "+------------+\n",
      "|     23475.0|\n",
      "|     26500.0|\n",
      "|     23940.0|\n",
      "|     38495.0|\n",
      "|     34175.0|\n",
      "|     24105.0|\n",
      "|     28000.0|\n",
      "|     34175.0|\n",
      "|     30530.0|\n",
      "|     26500.0|\n",
      "|     26500.0|\n",
      "|     27995.0|\n",
      "|     30420.0|\n",
      "|     27995.0|\n",
      "|     30530.0|\n",
      "|     63000.0|\n",
      "|     29995.0|\n",
      "|     23740.0|\n",
      "|     23740.0|\n",
      "|     19995.0|\n",
      "+------------+\n",
      "only showing top 20 rows\n",
      "\n"
     ]
    }
   ],
   "source": [
    "df7.select('vf_BasePrice').show()"
   ]
  },
  {
   "cell_type": "code",
   "execution_count": 22,
   "id": "a74f8ab6",
   "metadata": {},
   "outputs": [
    {
     "name": "stdout",
     "output_type": "stream",
     "text": [
      "+------------+\n",
      "|vf_BasePrice|\n",
      "+------------+\n",
      "|     23475.0|\n",
      "|     26500.0|\n",
      "|     23940.0|\n",
      "|     38495.0|\n",
      "|     34175.0|\n",
      "|     24105.0|\n",
      "|     28000.0|\n",
      "|     34175.0|\n",
      "|     30530.0|\n",
      "|     26500.0|\n",
      "|     26500.0|\n",
      "|     27995.0|\n",
      "|     30420.0|\n",
      "|     27995.0|\n",
      "|     30530.0|\n",
      "|     63000.0|\n",
      "|     29995.0|\n",
      "|     23740.0|\n",
      "|     23740.0|\n",
      "|     19995.0|\n",
      "+------------+\n",
      "only showing top 20 rows\n",
      "\n"
     ]
    }
   ],
   "source": [
    "#vf_BasePrice - filling null values with average\n",
    "avg_bprice = df7.agg({'vf_BasePrice': 'mean' })\n",
    "df8 = df7.na.fill(value=int(avg_bprice.first()[0]),subset=[\"vf_BasePrice\"])\n",
    "df8.select('vf_BasePrice').show()"
   ]
  },
  {
   "cell_type": "code",
   "execution_count": 23,
   "id": "2f0c8089",
   "metadata": {},
   "outputs": [
    {
     "name": "stdout",
     "output_type": "stream",
     "text": [
      "+-----------------+-----------------+----------------+--------+------------------+------------------+-----------------+-----------+--------+--------------+---------------------+-----------------+-----------------+----------------+---------+----------+\n",
      "|vf_DisplacementCC|vf_DisplacementCI|vf_DisplacementL|vf_Doors|vf_EngineCylinders|       vf_EngineHP|      vf_EngineKW|vf_SeatRows|vf_Seats|vf_TopSpeedMPH|vf_TransmissionSpeeds|vf_WheelBaseShort|vf_WheelSizeFront|vf_WheelSizeRear|vf_Wheels|vf_Windows|\n",
      "+-----------------+-----------------+----------------+--------+------------------+------------------+-----------------+-----------+--------+--------------+---------------------+-----------------+-----------------+----------------+---------+----------+\n",
      "|           1400.0|   85.43324173262|             1.4|       4|                 4|231.21825842998672|172.3428422091031|          2|       5|           130|                    6|            106.3|               17|              17|        4|         4|\n",
      "|           2000.0|  122.04748818946|             2.0|       4|                 4|             188.0|         140.1916|          2|       5|           105|                    6|            112.2|               17|              17|        4|         4|\n",
      "|           2500.0|  152.55936023683|             2.5|       4|                 4|             171.0|         127.5147|          2|       5|           114|                    6|            105.9|               17|              17|        4|         4|\n",
      "|           3500.0|  213.58310433156|             3.5|       4|                 6|             287.0|         214.0159|          2|       7|           126|                    6|            117.9|               19|              19|        4|         4|\n",
      "|           3500.0|  213.58310433156|             3.5|       4|                 6|             290.0|          216.253|          3|       7|           122|                    6|            112.8|               18|              18|        4|         4|\n",
      "|           2500.0|  152.55936023683|             2.5|       4|                 4|             171.0|         127.5147|          2|       5|           126|                    6|            105.9|               17|              17|        4|         4|\n",
      "|           1500.0|   91.53561614209|             1.5|       4|                 4|             170.0|          126.769|          2|       5|           126|                    6|            105.9|               17|              17|        4|         4|\n",
      "|           3500.0|  213.58310433156|             3.5|       4|                 6|             290.0|          216.253|          3|       7|           122|                    6|            112.8|               18|              18|        4|         4|\n",
      "|           2500.0|  152.55936023683|             2.5|       4|                 4|             169.0|         126.0233|          3|       7|           126|                    6|            120.6|               16|              16|        4|         4|\n",
      "|           1500.0|   91.53561614209|             1.5|       4|                 4|             170.0|          126.769|          2|       5|           126|                    6|            105.9|               17|              17|        4|         4|\n",
      "|           1500.0|   91.53561614209|             1.5|       4|                 4|             170.0|          126.769|          2|       5|           126|                    6|            105.9|               17|              17|        4|         4|\n",
      "|           3600.0|  219.68547874103|             3.6|       4|                 6|             283.0|         211.0331|          2|       7|           126|                    4|            113.8|               19|              19|        4|         4|\n",
      "|           2500.0|  152.55936023683|             2.5|       4|                 4|231.21825842998672|172.3428422091031|          2|       5|           126|                    6|            111.7|               18|              18|        4|         4|\n",
      "|           3600.0|  219.68547874103|             3.6|       4|                 6|             283.0|         211.0331|          2|       7|           126|                    4|            113.8|               19|              19|        4|         4|\n",
      "|           2500.0|  152.55936023683|             2.5|       4|                 4|             169.0|         126.0233|          3|       7|           126|                    6|            120.6|               16|              16|        4|         4|\n",
      "|           3000.0|   183.0712322841|             3.0|       4|                 6|             340.0|          253.538|          1|       2|           126|                    8|            103.2|               18|              18|        4|         4|\n",
      "|           2000.0|  122.04748818946|             2.0|       4|                 4|             245.0|         182.6965|          2|       5|           126|                    6|            112.2|               18|              18|        4|         4|\n",
      "|           1500.0|   91.53561614209|             1.5|       4|                 4|             181.0|         134.9717|          2|       5|           155|                    6|            112.2|               17|              17|        4|         4|\n",
      "|           1500.0|   91.53561614209|             1.5|       4|                 4|             181.0|         134.9717|          2|       5|           155|                    6|            112.2|               17|              17|        4|         4|\n",
      "|           2400.0|  146.45698582735|             2.4|       4|                 4|             180.0|          134.226|          2|       5|           126|                    6|            101.2|               16|              16|        4|         4|\n",
      "+-----------------+-----------------+----------------+--------+------------------+------------------+-----------------+-----------+--------+--------------+---------------------+-----------------+-----------------+----------------+---------+----------+\n",
      "only showing top 20 rows\n",
      "\n"
     ]
    }
   ],
   "source": [
    "#vf_SeatRows, vf_Seats, vf_TopSpeedMPH, vf_TransmissionSpeeds, vf_WheelBaseShort, vf_WheelSizeFront, \n",
    "#vf_WheelSizeRear, vf_Wheels, vf_Windows - filling null values with average\n",
    "avg_dcc = df8.agg({'vf_DisplacementCC': 'mean' })\n",
    "df9 = df8.na.fill(value=int(avg_dcc.first()[0]),subset=[\"vf_DisplacementCC\"])\n",
    "avg_dci = df9.agg({'vf_DisplacementCI': 'mean' })\n",
    "df9 = df9.na.fill(value=int(avg_dci.first()[0]),subset=[\"vf_DisplacementCI\"])\n",
    "avg_dl = df9.agg({'vf_DisplacementL': 'mean' })\n",
    "df9 = df9.na.fill(value=int(avg_dl.first()[0]),subset=[\"vf_DisplacementL\"])\n",
    "df9 = df9.na.fill(value=4,subset=['vf_Doors'])\n",
    "avg_cyl = df9.agg({'vf_EngineCylinders': 'mean' })\n",
    "df9 = df9.na.fill(value=int(avg_cyl.first()[0]),subset=[\"vf_EngineCylinders\"])\n",
    "avg_ehp = df9.agg({'vf_EngineHP': 'mean' })\n",
    "df9 = df9.na.fill(value=avg_ehp.first()[0],subset=[\"vf_EngineHP\"])\n",
    "avg_ekw = df9.agg({'vf_EngineKW': 'mean' })\n",
    "df9 = df9.na.fill(value=avg_ekw.first()[0],subset=[\"vf_EngineKW\"])\n",
    "avg_sr = df9.agg({'vf_SeatRows': 'mean' })\n",
    "df9 = df9.na.fill(value=int(avg_sr.first()[0]),subset=[\"vf_SeatRows\"])\n",
    "avg_seats = df9.agg({'vf_Seats': 'mean' })\n",
    "df9 = df9.na.fill(value=int(avg_seats.first()[0]),subset=[\"vf_Seats\"])\n",
    "avg_speed = df9.agg({'vf_TopSpeedMPH': 'mean' })\n",
    "df9 = df9.na.fill(value=int(avg_speed.first()[0]),subset=[\"vf_TopSpeedMPH\"])\n",
    "avg_tspeed = df9.agg({'vf_TransmissionSpeeds': 'mean' })\n",
    "df9 = df9.na.fill(value=int(avg_tspeed.first()[0]),subset=[\"vf_TransmissionSpeeds\"])\n",
    "avg_wbs = df9.agg({'vf_WheelBaseShort': 'mean' })\n",
    "df9 = df9.na.fill(value=avg_wbs.first()[0],subset=[\"vf_WheelBaseShort\"])\n",
    "avg_wsf = df9.agg({'vf_WheelSizeFront': 'mean' })\n",
    "df9 = df9.na.fill(value=int(avg_wsf.first()[0]),subset=[\"vf_WheelSizeFront\"])\n",
    "avg_wsr = df9.agg({'vf_WheelSizeRear': 'mean' })\n",
    "df9 = df9.na.fill(value=int(avg_wsr.first()[0]),subset=[\"vf_WheelSizeRear\"])\n",
    "avg_wheels = df9.agg({'vf_Wheels': 'mean' })\n",
    "df9 = df9.na.fill(value=int(avg_wheels.first()[0]),subset=[\"vf_Wheels\"])\n",
    "df9 = df9.na.fill(value=4,subset=['vf_Windows'])\n",
    "df9.select('vf_DisplacementCC','vf_DisplacementCI','vf_DisplacementL','vf_Doors','vf_EngineCylinders','vf_EngineHP','vf_EngineKW','vf_SeatRows','vf_Seats','vf_TopSpeedMPH','vf_TransmissionSpeeds','vf_WheelBaseShort','vf_WheelSizeFront','vf_WheelSizeRear','vf_Wheels','vf_Windows').show()"
   ]
  },
  {
   "cell_type": "code",
   "execution_count": 24,
   "id": "43835c8d",
   "metadata": {},
   "outputs": [
    {
     "data": {
      "text/plain": [
       "[('vin', 'string'),\n",
       " ('askPrice', 'int'),\n",
       " ('mileage', 'int'),\n",
       " ('isNew', 'int'),\n",
       " ('brandName', 'string'),\n",
       " ('modelName', 'string'),\n",
       " ('vf_AirBagLocFront', 'int'),\n",
       " ('vf_AirBagLocKnee', 'int'),\n",
       " ('vf_AirBagLocSide', 'int'),\n",
       " ('vf_Axles', 'int'),\n",
       " ('vf_BasePrice', 'double'),\n",
       " ('vf_DisplacementCC', 'double'),\n",
       " ('vf_DisplacementCI', 'double'),\n",
       " ('vf_DisplacementL', 'double'),\n",
       " ('vf_Doors', 'int'),\n",
       " ('vf_EngineCylinders', 'int'),\n",
       " ('vf_EngineHP', 'double'),\n",
       " ('vf_EngineKW', 'double'),\n",
       " ('vf_SeatRows', 'int'),\n",
       " ('vf_Seats', 'int'),\n",
       " ('vf_TopSpeedMPH', 'int'),\n",
       " ('vf_TransmissionSpeeds', 'int'),\n",
       " ('vf_WheelBaseShort', 'double'),\n",
       " ('vf_WheelSizeFront', 'int'),\n",
       " ('vf_WheelSizeRear', 'int'),\n",
       " ('vf_Wheels', 'int'),\n",
       " ('vf_Windows', 'int'),\n",
       " ('msrp', 'int'),\n",
       " ('Time in lot', 'int')]"
      ]
     },
     "execution_count": 24,
     "metadata": {},
     "output_type": "execute_result"
    }
   ],
   "source": [
    "df9.dtypes"
   ]
  },
  {
   "cell_type": "code",
   "execution_count": 25,
   "id": "de6dafde",
   "metadata": {},
   "outputs": [
    {
     "data": {
      "text/html": [
       "<div>\n",
       "<style scoped>\n",
       "    .dataframe tbody tr th:only-of-type {\n",
       "        vertical-align: middle;\n",
       "    }\n",
       "\n",
       "    .dataframe tbody tr th {\n",
       "        vertical-align: top;\n",
       "    }\n",
       "\n",
       "    .dataframe thead th {\n",
       "        text-align: right;\n",
       "    }\n",
       "</style>\n",
       "<table border=\"1\" class=\"dataframe\">\n",
       "  <thead>\n",
       "    <tr style=\"text-align: right;\">\n",
       "      <th></th>\n",
       "      <th>Features</th>\n",
       "    </tr>\n",
       "  </thead>\n",
       "  <tbody>\n",
       "    <tr>\n",
       "      <th>0</th>\n",
       "      <td>[12387.0, 0.0, 0.0, 2.0, 2.0, 4.0, 2.0, 23475....</td>\n",
       "    </tr>\n",
       "    <tr>\n",
       "      <th>1</th>\n",
       "      <td>[12970.0, 0.0, 0.0, 2.0, 2.0, 4.0, 2.0, 26500....</td>\n",
       "    </tr>\n",
       "    <tr>\n",
       "      <th>2</th>\n",
       "      <td>[15218.0, 0.0, 0.0, 2.0, 0.0, 4.0, 2.0, 23940....</td>\n",
       "    </tr>\n",
       "    <tr>\n",
       "      <th>3</th>\n",
       "      <td>[18755.0, 0.0, 0.0, 2.0, 0.0, 6.0, 2.0, 38495....</td>\n",
       "    </tr>\n",
       "    <tr>\n",
       "      <th>4</th>\n",
       "      <td>[36999.0, 0.0, 0.0, 2.0, 0.0, 6.0, 2.0, 34175....</td>\n",
       "    </tr>\n",
       "  </tbody>\n",
       "</table>\n",
       "</div>"
      ],
      "text/plain": [
       "                                            Features\n",
       "0  [12387.0, 0.0, 0.0, 2.0, 2.0, 4.0, 2.0, 23475....\n",
       "1  [12970.0, 0.0, 0.0, 2.0, 2.0, 4.0, 2.0, 26500....\n",
       "2  [15218.0, 0.0, 0.0, 2.0, 0.0, 4.0, 2.0, 23940....\n",
       "3  [18755.0, 0.0, 0.0, 2.0, 0.0, 6.0, 2.0, 38495....\n",
       "4  [36999.0, 0.0, 0.0, 2.0, 0.0, 6.0, 2.0, 34175...."
      ]
     },
     "execution_count": 25,
     "metadata": {},
     "output_type": "execute_result"
    }
   ],
   "source": [
    "from pyspark.ml.feature import VectorAssembler\n",
    "ip_cols = ['askPrice','mileage','isNew','vf_AirBagLocFront','vf_AirBagLocKnee', 'vf_AirBagLocSide','vf_Axles','vf_BasePrice','vf_DisplacementCC','vf_DisplacementCI','vf_DisplacementL','vf_Doors', \n",
    "  'vf_EngineCylinders','vf_EngineHP','vf_EngineKW','vf_SeatRows','vf_Seats','vf_TopSpeedMPH','vf_TransmissionSpeeds','vf_WheelBaseShort','vf_WheelSizeFront','vf_WheelSizeRear','vf_Wheels','vf_Windows','Time in lot']\n",
    "op_col = \"Features\"\n",
    "vec_df = VectorAssembler(inputCols = ip_cols, outputCol = op_col)\n",
    "\n",
    "df_ml = vec_df.transform(df9)\n",
    "df_ml.select(['Features']).toPandas().head(5)"
   ]
  },
  {
   "cell_type": "code",
   "execution_count": 26,
   "id": "3d242e18",
   "metadata": {},
   "outputs": [
    {
     "name": "stdout",
     "output_type": "stream",
     "text": [
      "+--------------------+-----+\n",
      "|            Features| msrp|\n",
      "+--------------------+-----+\n",
      "|[12387.0,0.0,0.0,...|12387|\n",
      "+--------------------+-----+\n",
      "only showing top 1 row\n",
      "\n"
     ]
    }
   ],
   "source": [
    "final_df = df_ml.select(['Features','msrp'])\n",
    "final_df.show(1)"
   ]
  },
  {
   "cell_type": "code",
   "execution_count": 27,
   "id": "8ec4fd41",
   "metadata": {},
   "outputs": [
    {
     "data": {
      "text/plain": [
       "1299720"
      ]
     },
     "execution_count": 27,
     "metadata": {},
     "output_type": "execute_result"
    }
   ],
   "source": [
    "len_df = final_df.count()\n",
    "\n",
    "train_len = int(0.7*len_df)\n",
    "train_len"
   ]
  },
  {
   "cell_type": "code",
   "execution_count": 28,
   "id": "b893ec49",
   "metadata": {},
   "outputs": [
    {
     "name": "stdout",
     "output_type": "stream",
     "text": [
      "+--------------------+-----+\n",
      "|            Features| msrp|\n",
      "+--------------------+-----+\n",
      "|[12387.0,0.0,0.0,...|12387|\n",
      "|[12970.0,0.0,0.0,...|12970|\n",
      "|[15218.0,0.0,0.0,...|15218|\n",
      "|[18755.0,0.0,0.0,...|18755|\n",
      "|[36999.0,0.0,0.0,...|36999|\n",
      "|[18276.0,0.0,1.0,...|18276|\n",
      "|[22140.0,0.0,1.0,...|22140|\n",
      "|[0.0,0.0,1.0,2.0,...|    0|\n",
      "|[20494.0,0.0,0.0,...|20494|\n",
      "|[19026.0,0.0,1.0,...|19026|\n",
      "|[18951.0,0.0,1.0,...|18951|\n",
      "|[16649.0,0.0,0.0,...|16649|\n",
      "|[16671.0,0.0,0.0,...|16671|\n",
      "|[16998.0,0.0,0.0,...|16998|\n",
      "|[20294.0,0.0,0.0,...|20294|\n",
      "|[45996.0,0.0,0.0,...|45996|\n",
      "|[23537.0,0.0,1.0,...|23537|\n",
      "|[12999.0,0.0,0.0,...|12999|\n",
      "|[13398.0,0.0,0.0,...|13398|\n",
      "|[13692.0,0.0,0.0,...|14121|\n",
      "+--------------------+-----+\n",
      "only showing top 20 rows\n",
      "\n"
     ]
    },
    {
     "data": {
      "text/plain": [
       "1299720"
      ]
     },
     "execution_count": 28,
     "metadata": {},
     "output_type": "execute_result"
    }
   ],
   "source": [
    "test_df = final_df\n",
    "train_df = final_df.limit(train_len)\n",
    "train_df.show()\n",
    "train_df.count()"
   ]
  },
  {
   "cell_type": "code",
   "execution_count": 29,
   "id": "ab3c18bd",
   "metadata": {},
   "outputs": [
    {
     "name": "stdout",
     "output_type": "stream",
     "text": [
      "+--------------------+-----+\n",
      "|            Features| msrp|\n",
      "+--------------------+-----+\n",
      "|[0.0,0.0,1.0,2.0,...|    0|\n",
      "|[0.0,0.0,1.0,2.0,...|    0|\n",
      "|[0.0,0.0,1.0,2.0,...|    0|\n",
      "|[0.0,0.0,1.0,2.0,...|    0|\n",
      "|[0.0,0.0,1.0,2.0,...|    0|\n",
      "|[0.0,3.0,1.0,2.0,...|    0|\n",
      "|[0.0,9.0,1.0,2.0,...|    0|\n",
      "|[0.0,12153.0,0.0,...|    0|\n",
      "|[0.0,15144.0,0.0,...|    0|\n",
      "|[11499.0,45603.0,...|12399|\n",
      "|[12928.0,0.0,1.0,...|16828|\n",
      "|[12995.0,0.0,0.0,...|14031|\n",
      "|[13500.0,0.0,0.0,...|14500|\n",
      "|[14309.0,27687.0,...|15000|\n",
      "|[14950.0,9905.0,0...|14950|\n",
      "|[14994.0,0.0,0.0,...|16975|\n",
      "|[15303.0,38997.0,...|15599|\n",
      "|[15395.0,0.0,0.0,...|16995|\n",
      "|[15626.0,0.0,0.0,...|15726|\n",
      "|[15919.0,0.0,1.0,...|19570|\n",
      "+--------------------+-----+\n",
      "only showing top 20 rows\n",
      "\n"
     ]
    },
    {
     "data": {
      "text/plain": [
       "360992"
      ]
     },
     "execution_count": 29,
     "metadata": {},
     "output_type": "execute_result"
    }
   ],
   "source": [
    "test_df = test_df.subtract(train_df)\n",
    "test_df.show()\n",
    "test_df.count()"
   ]
  },
  {
   "cell_type": "code",
   "execution_count": 30,
   "id": "a1ebb517",
   "metadata": {},
   "outputs": [
    {
     "data": {
      "text/plain": [
       "1299720"
      ]
     },
     "execution_count": 30,
     "metadata": {},
     "output_type": "execute_result"
    }
   ],
   "source": [
    "train_df.count()"
   ]
  },
  {
   "cell_type": "code",
   "execution_count": 31,
   "id": "f8d0171c",
   "metadata": {},
   "outputs": [
    {
     "data": {
      "text/plain": [
       "360992"
      ]
     },
     "execution_count": 31,
     "metadata": {},
     "output_type": "execute_result"
    }
   ],
   "source": [
    "test_df.count()"
   ]
  },
  {
   "cell_type": "code",
   "execution_count": 32,
   "id": "0b3cd51c",
   "metadata": {},
   "outputs": [],
   "source": [
    "from pyspark.ml.regression import LinearRegression"
   ]
  },
  {
   "cell_type": "code",
   "execution_count": 33,
   "id": "0c13e99c",
   "metadata": {},
   "outputs": [],
   "source": [
    "lr = LinearRegression(featuresCol = 'Features', labelCol='msrp', maxIter=1000)"
   ]
  },
  {
   "cell_type": "code",
   "execution_count": 34,
   "id": "e2258d74",
   "metadata": {},
   "outputs": [
    {
     "name": "stdout",
     "output_type": "stream",
     "text": [
      "+--------------------+-----+\n",
      "|            Features| msrp|\n",
      "+--------------------+-----+\n",
      "|[12387.0,0.0,0.0,...|12387|\n",
      "|[12970.0,0.0,0.0,...|12970|\n",
      "|[15218.0,0.0,0.0,...|15218|\n",
      "|[18755.0,0.0,0.0,...|18755|\n",
      "|[36999.0,0.0,0.0,...|36999|\n",
      "|[18276.0,0.0,1.0,...|18276|\n",
      "|[22140.0,0.0,1.0,...|22140|\n",
      "|[0.0,0.0,1.0,2.0,...|    0|\n",
      "|[20494.0,0.0,0.0,...|20494|\n",
      "|[19026.0,0.0,1.0,...|19026|\n",
      "|[18951.0,0.0,1.0,...|18951|\n",
      "|[16649.0,0.0,0.0,...|16649|\n",
      "|[16671.0,0.0,0.0,...|16671|\n",
      "|[16998.0,0.0,0.0,...|16998|\n",
      "|[20294.0,0.0,0.0,...|20294|\n",
      "|[45996.0,0.0,0.0,...|45996|\n",
      "|[23537.0,0.0,1.0,...|23537|\n",
      "|[12999.0,0.0,0.0,...|12999|\n",
      "|[13398.0,0.0,0.0,...|13398|\n",
      "|[13692.0,0.0,0.0,...|14121|\n",
      "|[20997.0,0.0,0.0,...|20997|\n",
      "|[12568.0,0.0,1.0,...|12568|\n",
      "|[14680.0,0.0,1.0,...|15680|\n",
      "|[16829.0,0.0,1.0,...|17829|\n",
      "|[12568.0,0.0,1.0,...|12568|\n",
      "|[12959.0,0.0,0.0,...|12959|\n",
      "|[12998.0,0.0,0.0,...|12998|\n",
      "|[19514.0,0.0,1.0,...|19514|\n",
      "|[12930.0,0.0,0.0,...|12930|\n",
      "|[12970.0,0.0,0.0,...|12994|\n",
      "|[20978.0,0.0,0.0,...|20978|\n",
      "|[23652.0,0.0,1.0,...|23652|\n",
      "|[10999.0,0.0,0.0,...|10999|\n",
      "|[12575.0,0.0,0.0,...|12575|\n",
      "|[24457.0,0.0,0.0,...|24457|\n",
      "|[12799.0,0.0,0.0,...|12799|\n",
      "|[14529.0,0.0,0.0,...|14529|\n",
      "|[15683.0,0.0,0.0,...|15683|\n",
      "|[24726.0,0.0,0.0,...|24726|\n",
      "|[12572.0,0.0,1.0,...|12572|\n",
      "|[17999.0,0.0,0.0,...|17999|\n",
      "|[45644.0,0.0,0.0,...|45644|\n",
      "|[12568.0,0.0,1.0,...|12568|\n",
      "|[18868.0,0.0,1.0,...|19868|\n",
      "|[24286.0,0.0,1.0,...|24286|\n",
      "|[12394.0,0.0,0.0,...|12394|\n",
      "|[14520.0,0.0,0.0,...|14999|\n",
      "|[24885.0,0.0,0.0,...|24885|\n",
      "|[24998.0,0.0,0.0,...|24998|\n",
      "|[11999.0,0.0,0.0,...|11999|\n",
      "|[15976.0,0.0,1.0,...|16476|\n",
      "|[13769.0,0.0,0.0,...|13819|\n",
      "|[12902.0,0.0,0.0,...|12902|\n",
      "|[17645.0,0.0,0.0,...|17695|\n",
      "|[12357.0,0.0,1.0,...|12357|\n",
      "|[14384.0,0.0,0.0,...|14384|\n",
      "|[18781.0,0.0,1.0,...|18781|\n",
      "|[23550.0,0.0,1.0,...|23550|\n",
      "|[13295.0,0.0,0.0,...|13295|\n",
      "|[18328.0,0.0,0.0,...|18328|\n",
      "|[26060.0,0.0,0.0,...|26060|\n",
      "|[12949.0,0.0,0.0,...|12999|\n",
      "|[16925.0,0.0,1.0,...|16925|\n",
      "|[15900.0,0.0,0.0,...|15986|\n",
      "|[12899.0,0.0,0.0,...|12900|\n",
      "|[17821.0,0.0,0.0,...|17821|\n",
      "|[33841.0,0.0,1.0,...|33841|\n",
      "|[33125.0,0.0,1.0,...|33125|\n",
      "|[12998.0,0.0,0.0,...|12998|\n",
      "|[14621.0,0.0,0.0,...|14667|\n",
      "|[20383.0,0.0,1.0,...|20383|\n",
      "|[29288.0,0.0,1.0,...|29288|\n",
      "|[36163.0,0.0,1.0,...|36163|\n",
      "|[16860.0,0.0,1.0,...|16860|\n",
      "|[12994.0,0.0,0.0,...|12994|\n",
      "|[12995.0,0.0,0.0,...|13509|\n",
      "|[12281.0,0.0,0.0,...|12685|\n",
      "|[16462.0,0.0,1.0,...|17462|\n",
      "|[23481.0,0.0,1.0,...|23481|\n",
      "|[15999.0,0.0,0.0,...|16475|\n",
      "|[18787.0,0.0,1.0,...|23787|\n",
      "|[16648.0,0.0,0.0,...|16648|\n",
      "|[18787.0,0.0,1.0,...|18787|\n",
      "|[12687.0,0.0,0.0,...|12951|\n",
      "|[12998.0,0.0,0.0,...|13596|\n",
      "|[18851.0,0.0,0.0,...|18875|\n",
      "|[16860.0,0.0,1.0,...|21360|\n",
      "|[18787.0,0.0,1.0,...|20037|\n",
      "|[20663.0,0.0,1.0,...|24163|\n",
      "|[12407.0,0.0,1.0,...|12407|\n",
      "|[12568.0,0.0,1.0,...|12568|\n",
      "|[16860.0,0.0,1.0,...|21360|\n",
      "|[24999.0,0.0,0.0,...|24999|\n",
      "|[13998.0,0.0,0.0,...|13998|\n",
      "|[21689.0,0.0,0.0,...|21689|\n",
      "|[14800.0,0.0,0.0,...|14800|\n",
      "|[16349.0,0.0,0.0,...|16428|\n",
      "|[18272.0,0.0,0.0,...|18273|\n",
      "|[10339.0,0.0,0.0,...|10752|\n",
      "|[21935.0,0.0,0.0,...|21935|\n",
      "+--------------------+-----+\n",
      "only showing top 100 rows\n",
      "\n"
     ]
    }
   ],
   "source": [
    "train_df.show(100)"
   ]
  },
  {
   "cell_type": "code",
   "execution_count": 35,
   "id": "22f9e8f0",
   "metadata": {},
   "outputs": [
    {
     "name": "stdout",
     "output_type": "stream",
     "text": [
      "+--------------------+-----+\n",
      "|            Features| msrp|\n",
      "+--------------------+-----+\n",
      "|[0.0,0.0,1.0,2.0,...|    0|\n",
      "|[0.0,0.0,1.0,2.0,...|    0|\n",
      "|[0.0,0.0,1.0,2.0,...|    0|\n",
      "|[0.0,0.0,1.0,2.0,...|    0|\n",
      "|[0.0,0.0,1.0,2.0,...|    0|\n",
      "|[0.0,3.0,1.0,2.0,...|    0|\n",
      "|[0.0,9.0,1.0,2.0,...|    0|\n",
      "|[0.0,12153.0,0.0,...|    0|\n",
      "|[0.0,15144.0,0.0,...|    0|\n",
      "|[11499.0,45603.0,...|12399|\n",
      "|[12928.0,0.0,1.0,...|16828|\n",
      "|[12995.0,0.0,0.0,...|14031|\n",
      "|[13500.0,0.0,0.0,...|14500|\n",
      "|[14309.0,27687.0,...|15000|\n",
      "|[14950.0,9905.0,0...|14950|\n",
      "|[14994.0,0.0,0.0,...|16975|\n",
      "|[15303.0,38997.0,...|15599|\n",
      "|[15395.0,0.0,0.0,...|16995|\n",
      "|[15626.0,0.0,0.0,...|15726|\n",
      "|[15919.0,0.0,1.0,...|19570|\n",
      "+--------------------+-----+\n",
      "only showing top 20 rows\n",
      "\n"
     ]
    }
   ],
   "source": [
    "test_df.show()"
   ]
  },
  {
   "cell_type": "code",
   "execution_count": 36,
   "id": "8a86b163",
   "metadata": {},
   "outputs": [],
   "source": [
    "lr_model = lr.fit(train_df)"
   ]
  },
  {
   "cell_type": "code",
   "execution_count": 37,
   "id": "a827780c",
   "metadata": {},
   "outputs": [],
   "source": [
    "y_pred = lr_model.transform(test_df)"
   ]
  },
  {
   "cell_type": "code",
   "execution_count": 38,
   "id": "15c12322",
   "metadata": {},
   "outputs": [
    {
     "name": "stdout",
     "output_type": "stream",
     "text": [
      "+--------------------+-----+-------------------+\n",
      "|            Features| msrp|         prediction|\n",
      "+--------------------+-----+-------------------+\n",
      "|[0.0,0.0,1.0,2.0,...|    0| 1125.0722357587292|\n",
      "|[0.0,0.0,1.0,2.0,...|    0| 16652.786260337907|\n",
      "|[0.0,0.0,1.0,2.0,...|    0|-1202.6032615360382|\n",
      "|[0.0,0.0,1.0,2.0,...|    0|  9599.820605161342|\n",
      "|[0.0,0.0,1.0,2.0,...|    0|-15991.774871472644|\n",
      "|[0.0,3.0,1.0,2.0,...|    0|  -17861.4783095269|\n",
      "|[0.0,9.0,1.0,2.0,...|    0| 18427.370204653864|\n",
      "|[0.0,12153.0,0.0,...|    0| 13243.816229516342|\n",
      "|[0.0,15144.0,0.0,...|    0| 13290.599226041759|\n",
      "|[11499.0,45603.0,...|12399|  42487.73347571959|\n",
      "|[12928.0,0.0,1.0,...|16828| 27972.138046448712|\n",
      "|[12995.0,0.0,0.0,...|14031|  40274.64985817963|\n",
      "|[13500.0,0.0,0.0,...|14500| 31408.758727997727|\n",
      "|[14309.0,27687.0,...|15000|  42971.42268637994|\n",
      "|[14950.0,9905.0,0...|14950| 21933.404842900036|\n",
      "|[14994.0,0.0,0.0,...|16975| 43991.068482176444|\n",
      "|[15303.0,38997.0,...|15599|  39046.84608497289|\n",
      "|[15395.0,0.0,0.0,...|16995|  16904.26493510482|\n",
      "|[15626.0,0.0,0.0,...|15726|  24146.79598416574|\n",
      "|[15919.0,0.0,1.0,...|19570| 12697.472309073622|\n",
      "+--------------------+-----+-------------------+\n",
      "only showing top 20 rows\n",
      "\n"
     ]
    }
   ],
   "source": [
    "y_pred.show()"
   ]
  },
  {
   "cell_type": "code",
   "execution_count": 39,
   "id": "142ca062",
   "metadata": {},
   "outputs": [
    {
     "name": "stdout",
     "output_type": "stream",
     "text": [
      "+-------+-------------------+--------------------+\n",
      "|summary|               msrp|          prediction|\n",
      "+-------+-------------------+--------------------+\n",
      "|  count|             360992|              360992|\n",
      "|   mean| 2000863.2584406303|  446060.76193985925|\n",
      "| stddev|6.499651648471686E7| 3.225782477478744E7|\n",
      "|    min|                  0|  -72687.01466037614|\n",
      "|    max|         2147483647|2.5674029905667214E9|\n",
      "+-------+-------------------+--------------------+\n",
      "\n"
     ]
    }
   ],
   "source": [
    "y_pred.describe().show()"
   ]
  },
  {
   "cell_type": "code",
   "execution_count": 40,
   "id": "fcf69b44",
   "metadata": {},
   "outputs": [
    {
     "name": "stdout",
     "output_type": "stream",
     "text": [
      "Coefficients: [1.1955130707373247,0.39095921094982955,-4256.668333671143,-960.4479598289017,-4513.473353312087,4829.620689285545,0.0,-0.02818322086852489,-0.026681537555876916,-0.45795822902252364,-19.074779173113654,3924.2135531015383,-2861.0278897925405,-54.87006199341723,36.44750887391078,-4903.386131088277,-2160.188891211929,290.9167649494918,-57.52588882733706,-0.5990587556657906,3441.0627458695367,-2841.2497410185674,3197.880073594043,-5646.643740351718,84.31609582145248]\n",
      "Intercept: -19468.11755917413\n"
     ]
    }
   ],
   "source": [
    "print(\"Coefficients: \" + str(lr_model.coefficients))\n",
    "print(\"Intercept: \" + str(lr_model.intercept))"
   ]
  },
  {
   "cell_type": "code",
   "execution_count": 41,
   "id": "3fb3eb20",
   "metadata": {},
   "outputs": [
    {
     "name": "stdout",
     "output_type": "stream",
     "text": [
      "RMSE: 3938430.054993\n",
      "r2: 0.000040\n"
     ]
    }
   ],
   "source": [
    "trainingSummary = lr_model.summary\n",
    "print(\"RMSE: %f\" % trainingSummary.rootMeanSquaredError)\n",
    "print(\"r2: %f\" % trainingSummary.r2)"
   ]
  },
  {
   "cell_type": "code",
   "execution_count": 42,
   "id": "363d0cb4",
   "metadata": {},
   "outputs": [
    {
     "name": "stdout",
     "output_type": "stream",
     "text": [
      "+-------------------+-----+--------------------+\n",
      "|         prediction| msrp|            Features|\n",
      "+-------------------+-----+--------------------+\n",
      "| 1125.0722357587292|    0|[0.0,0.0,1.0,2.0,...|\n",
      "| 16652.786260337907|    0|[0.0,0.0,1.0,2.0,...|\n",
      "|-1202.6032615360382|    0|[0.0,0.0,1.0,2.0,...|\n",
      "|  9599.820605161342|    0|[0.0,0.0,1.0,2.0,...|\n",
      "|-15991.774871472644|    0|[0.0,0.0,1.0,2.0,...|\n",
      "|  -17861.4783095269|    0|[0.0,3.0,1.0,2.0,...|\n",
      "| 18427.370204653864|    0|[0.0,9.0,1.0,2.0,...|\n",
      "| 13243.816229516342|    0|[0.0,12153.0,0.0,...|\n",
      "| 13290.599226041759|    0|[0.0,15144.0,0.0,...|\n",
      "|  42487.73347571959|12399|[11499.0,45603.0,...|\n",
      "| 27972.138046448712|16828|[12928.0,0.0,1.0,...|\n",
      "|  40274.64985817963|14031|[12995.0,0.0,0.0,...|\n",
      "| 31408.758727997727|14500|[13500.0,0.0,0.0,...|\n",
      "|  42971.42268637994|15000|[14309.0,27687.0,...|\n",
      "| 21933.404842900036|14950|[14950.0,9905.0,0...|\n",
      "| 43991.068482176444|16975|[14994.0,0.0,0.0,...|\n",
      "|  39046.84608497289|15599|[15303.0,38997.0,...|\n",
      "|  16904.26493510482|16995|[15395.0,0.0,0.0,...|\n",
      "|  24146.79598416574|15726|[15626.0,0.0,0.0,...|\n",
      "| 12697.472309073622|19570|[15919.0,0.0,1.0,...|\n",
      "+-------------------+-----+--------------------+\n",
      "only showing top 20 rows\n",
      "\n",
      "R Squared (R2) on test data = 0.164857\n"
     ]
    }
   ],
   "source": [
    "y_pred.select(\"prediction\",\"msrp\",\"Features\").show()\n",
    "from pyspark.ml.evaluation import RegressionEvaluator\n",
    "lr_evaluator = RegressionEvaluator(predictionCol=\"prediction\", labelCol=\"msrp\",metricName=\"r2\")\n",
    "print(\"R Squared (R2) on test data = %g\" % lr_evaluator.evaluate(y_pred))"
   ]
  },
  {
   "cell_type": "code",
   "execution_count": 43,
   "id": "d2a22f65",
   "metadata": {},
   "outputs": [
    {
     "name": "stdout",
     "output_type": "stream",
     "text": [
      "+----------+----+--------------------+\n",
      "|prediction|msrp|            Features|\n",
      "+----------+----+--------------------+\n",
      "|       0.0|   0|[0.0,0.0,1.0,2.0,...|\n",
      "|       0.0|   0|[0.0,0.0,1.0,2.0,...|\n",
      "|       0.0|   0|[0.0,0.0,1.0,2.0,...|\n",
      "|       0.0|   0|[0.0,0.0,1.0,2.0,...|\n",
      "|       0.0|   0|[0.0,0.0,1.0,2.0,...|\n",
      "+----------+----+--------------------+\n",
      "only showing top 5 rows\n",
      "\n",
      "Root Mean Squared Error (RMSE) on test data = 6.5025e+07\n"
     ]
    }
   ],
   "source": [
    "#Decision tree\n",
    "from pyspark.ml.regression import DecisionTreeRegressor\n",
    "dt = DecisionTreeRegressor(featuresCol ='Features', labelCol = 'msrp')\n",
    "dt_model = dt.fit(train_df)\n",
    "dt_pred = dt_model.transform(test_df)\n",
    "dt_evaluator = RegressionEvaluator(\n",
    "    labelCol=\"msrp\", predictionCol=\"prediction\", metricName=\"rmse\")\n",
    "rmse = dt_evaluator.evaluate(dt_pred)\n",
    "dt_pred.select(\"prediction\",\"msrp\",\"Features\").show(5)\n",
    "print(\"Root Mean Squared Error (RMSE) on test data = %g\" % rmse)"
   ]
  },
  {
   "cell_type": "code",
   "execution_count": 44,
   "id": "8aa516e8",
   "metadata": {},
   "outputs": [
    {
     "name": "stdout",
     "output_type": "stream",
     "text": [
      "+------------------+----+--------------------+\n",
      "|        prediction|msrp|            Features|\n",
      "+------------------+----+--------------------+\n",
      "| 1049.659896873842|   0|[0.0,0.0,1.0,2.0,...|\n",
      "|-790.2891629690153|   0|[0.0,0.0,1.0,2.0,...|\n",
      "|232.09748683109802|   0|[0.0,0.0,1.0,2.0,...|\n",
      "| 1124.774128229476|   0|[0.0,0.0,1.0,2.0,...|\n",
      "| 95.70418929729463|   0|[0.0,0.0,1.0,2.0,...|\n",
      "+------------------+----+--------------------+\n",
      "only showing top 5 rows\n",
      "\n"
     ]
    }
   ],
   "source": [
    "#Gradient boosted tree regression\n",
    "\n",
    "from pyspark.ml.regression import GBTRegressor\n",
    "gbt = GBTRegressor(featuresCol = 'Features', labelCol = 'msrp', maxIter=10)\n",
    "gbt_model = gbt.fit(train_df)\n",
    "gbt_predictions = gbt_model.transform(test_df)\n",
    "gbt_predictions.select('prediction', 'msrp', 'Features').show(5)"
   ]
  },
  {
   "cell_type": "code",
   "execution_count": 45,
   "id": "34a37596",
   "metadata": {},
   "outputs": [
    {
     "name": "stdout",
     "output_type": "stream",
     "text": [
      "Root Mean Squared Error (RMSE) on test data = 6.50247e+07\n"
     ]
    }
   ],
   "source": [
    "gbt_evaluator = RegressionEvaluator(\n",
    "    labelCol=\"msrp\", predictionCol=\"prediction\", metricName=\"rmse\")\n",
    "rmse = gbt_evaluator.evaluate(gbt_predictions)\n",
    "print(\"Root Mean Squared Error (RMSE) on test data = %g\" % rmse)"
   ]
  },
  {
   "cell_type": "code",
   "execution_count": 46,
   "id": "e11211ad",
   "metadata": {},
   "outputs": [
    {
     "name": "stdout",
     "output_type": "stream",
     "text": [
      "+------------------+----+--------------------+\n",
      "|        prediction|msrp|            Features|\n",
      "+------------------+----+--------------------+\n",
      "|10450.204172665788|   0|[0.0,0.0,1.0,2.0,...|\n",
      "|12339.358591085871|   0|[0.0,0.0,1.0,2.0,...|\n",
      "|10912.716874344278|   0|[0.0,0.0,1.0,2.0,...|\n",
      "| 17527.58963664177|   0|[0.0,0.0,1.0,2.0,...|\n",
      "| 17342.74259213676|   0|[0.0,0.0,1.0,2.0,...|\n",
      "+------------------+----+--------------------+\n",
      "only showing top 5 rows\n",
      "\n"
     ]
    }
   ],
   "source": [
    "#Random Forest regression\n",
    "\n",
    "from pyspark.ml.regression import RandomForestRegressor\n",
    "rf = RandomForestRegressor(featuresCol = 'Features', labelCol = 'msrp')\n",
    "rf_model = rf.fit(train_df)\n",
    "rf_predictions = rf_model.transform(test_df)\n",
    "rf_predictions.select('prediction', 'msrp', 'Features').show(5)"
   ]
  },
  {
   "cell_type": "code",
   "execution_count": 47,
   "id": "c01c2267",
   "metadata": {},
   "outputs": [
    {
     "name": "stdout",
     "output_type": "stream",
     "text": [
      "Root Mean Squared Error (RMSE) on test data = 6.50259e+07\n"
     ]
    }
   ],
   "source": [
    "rf_evaluator = RegressionEvaluator(\n",
    "    labelCol=\"msrp\", predictionCol=\"prediction\", metricName=\"rmse\")\n",
    "rmse = rf_evaluator.evaluate(rf_predictions)\n",
    "print(\"Root Mean Squared Error (RMSE) on test data = %g\" % rmse)\n"
   ]
  },
  {
   "cell_type": "code",
   "execution_count": 48,
   "id": "bd2e7461",
   "metadata": {},
   "outputs": [
    {
     "name": "stdout",
     "output_type": "stream",
     "text": [
      "+----------+----+--------------------+\n",
      "|prediction|msrp|            Features|\n",
      "+----------+----+--------------------+\n",
      "|       0.0|   0|[0.0,0.0,1.0,2.0,...|\n",
      "|       0.0|   0|[0.0,0.0,1.0,2.0,...|\n",
      "|       0.0|   0|[0.0,0.0,1.0,2.0,...|\n",
      "|       0.0|   0|[0.0,0.0,1.0,2.0,...|\n",
      "|       0.0|   0|[0.0,0.0,1.0,2.0,...|\n",
      "+----------+----+--------------------+\n",
      "only showing top 5 rows\n",
      "\n"
     ]
    }
   ],
   "source": [
    "#isotonic regressor\n",
    "\n",
    "from pyspark.ml.regression import IsotonicRegression\n",
    "ir = IsotonicRegression(featuresCol = 'Features', labelCol = 'msrp')\n",
    "ir_model = ir.fit(train_df)\n",
    "ir_predictions = ir_model.transform(test_df)\n",
    "ir_predictions.select('prediction', 'msrp', 'Features').show(5)"
   ]
  },
  {
   "cell_type": "code",
   "execution_count": 49,
   "id": "d8854c27",
   "metadata": {},
   "outputs": [
    {
     "name": "stdout",
     "output_type": "stream",
     "text": [
      "Root Mean Squared Error (RMSE) on test data = 6.49957e+07\n"
     ]
    }
   ],
   "source": [
    "ir_evaluator = RegressionEvaluator(\n",
    "    labelCol=\"msrp\", predictionCol=\"prediction\", metricName=\"rmse\")\n",
    "rmse = ir_evaluator.evaluate(ir_predictions)\n",
    "print(\"Root Mean Squared Error (RMSE) on test data = %g\" % rmse)"
   ]
  },
  {
   "cell_type": "markdown",
   "id": "21e2ba09",
   "metadata": {},
   "source": [
    "## Specific Question Proposed"
   ]
  },
  {
   "cell_type": "code",
   "execution_count": 50,
   "id": "585e51ee",
   "metadata": {},
   "outputs": [],
   "source": [
    "# \n",
    "df = df.select('firstSeen',\n",
    " 'lastSeen',\n",
    " 'msrp',\n",
    " 'askPrice',\n",
    " 'mileage',\n",
    " (df.isNew.cast(IntegerType())),         ## Converting Boolean to Numeric\n",
    " 'color',\n",
    " 'brandName',\n",
    " 'modelName')"
   ]
  },
  {
   "cell_type": "code",
   "execution_count": 51,
   "id": "3514c0a5",
   "metadata": {},
   "outputs": [
    {
     "data": {
      "text/plain": [
       "5695015"
      ]
     },
     "execution_count": 51,
     "metadata": {},
     "output_type": "execute_result"
    }
   ],
   "source": [
    "df.count()"
   ]
  },
  {
   "cell_type": "code",
   "execution_count": 52,
   "id": "7225a960",
   "metadata": {},
   "outputs": [
    {
     "data": {
      "text/plain": [
       "DataFrame[firstSeen: timestamp, lastSeen: timestamp, msrp: int, askPrice: int, mileage: int, isNew: int, color: string, brandName: string, modelName: string]"
      ]
     },
     "execution_count": 52,
     "metadata": {},
     "output_type": "execute_result"
    }
   ],
   "source": [
    "df.na.drop(how = \"any\")"
   ]
  },
  {
   "cell_type": "code",
   "execution_count": 53,
   "id": "4c487401",
   "metadata": {},
   "outputs": [],
   "source": [
    "df_car_pyspark = df.sample(0.1)"
   ]
  },
  {
   "cell_type": "code",
   "execution_count": 54,
   "id": "359255bd",
   "metadata": {},
   "outputs": [
    {
     "data": {
      "text/plain": [
       "570977"
      ]
     },
     "execution_count": 54,
     "metadata": {},
     "output_type": "execute_result"
    }
   ],
   "source": [
    "df_car_pyspark.count()"
   ]
  },
  {
   "cell_type": "code",
   "execution_count": 55,
   "id": "55f90bf3",
   "metadata": {},
   "outputs": [
    {
     "name": "stdout",
     "output_type": "stream",
     "text": [
      "root\n",
      " |-- firstSeen: timestamp (nullable = true)\n",
      " |-- lastSeen: timestamp (nullable = true)\n",
      " |-- msrp: integer (nullable = true)\n",
      " |-- askPrice: integer (nullable = true)\n",
      " |-- mileage: integer (nullable = true)\n",
      " |-- isNew: integer (nullable = true)\n",
      " |-- color: string (nullable = true)\n",
      " |-- brandName: string (nullable = true)\n",
      " |-- modelName: string (nullable = true)\n",
      "\n"
     ]
    }
   ],
   "source": [
    "df_car_pyspark.printSchema()"
   ]
  },
  {
   "cell_type": "code",
   "execution_count": 56,
   "id": "b0e7b36b",
   "metadata": {},
   "outputs": [
    {
     "name": "stdout",
     "output_type": "stream",
     "text": [
      "+-------+-------------------+-------------------+-----------------+-------------------+--------------------+---------+------------------+\n",
      "|summary|               msrp|           askPrice|          mileage|              isNew|               color|brandName|         modelName|\n",
      "+-------+-------------------+-------------------+-----------------+-------------------+--------------------+---------+------------------+\n",
      "|  count|             570977|             570977|           570977|             570977|              570977|   570861|            570371|\n",
      "|   mean|   720776.410953506| 177120.53963119356|22006.17455869501|0.34448497925485616|  16413.890410958906|     null|1352.6327305489415|\n",
      "| stddev|3.864848769443795E7|1.819671471510693E7|45503.31890962189|0.47520045645206654|    49950.7067227175|     null| 835.4543171304593|\n",
      "|    min|                  0|                  0|                0|                  0|                    |    ACURA|        124 Spider|\n",
      "|    max|         2147483647|         2147483647|          9024018|                  1|white silver meta...|   YAMAHA|        new Passat|\n",
      "+-------+-------------------+-------------------+-----------------+-------------------+--------------------+---------+------------------+\n",
      "\n"
     ]
    }
   ],
   "source": [
    "df_car_pyspark.describe().show()"
   ]
  },
  {
   "cell_type": "code",
   "execution_count": 57,
   "id": "cbe1658c",
   "metadata": {},
   "outputs": [],
   "source": [
    "#Q1 How long brfore the car is sold?\n",
    "\n",
    "from pyspark.sql.functions import datediff,col,lit\n",
    "\n",
    "df1 = df_car_pyspark.withColumn('Time_in_lot',datediff(df_car_pyspark['lastSeen'],df_car_pyspark['FirstSeen']))"
   ]
  },
  {
   "cell_type": "code",
   "execution_count": 58,
   "id": "3768f81c",
   "metadata": {},
   "outputs": [],
   "source": [
    "df1 = df1.select('Time_in_lot')"
   ]
  },
  {
   "cell_type": "code",
   "execution_count": 59,
   "id": "4a519830",
   "metadata": {},
   "outputs": [
    {
     "data": {
      "text/plain": [
       "[('Time_in_lot', 'int')]"
      ]
     },
     "execution_count": 59,
     "metadata": {},
     "output_type": "execute_result"
    }
   ],
   "source": [
    "df1.dtypes"
   ]
  },
  {
   "cell_type": "code",
   "execution_count": 60,
   "id": "00b48c12",
   "metadata": {
    "scrolled": true
   },
   "outputs": [
    {
     "name": "stdout",
     "output_type": "stream",
     "text": [
      "+-----------+\n",
      "|Time_in_lot|\n",
      "+-----------+\n",
      "|       1396|\n",
      "|       1395|\n",
      "|       1369|\n",
      "|       1365|\n",
      "|       1364|\n",
      "+-----------+\n",
      "only showing top 5 rows\n",
      "\n"
     ]
    }
   ],
   "source": [
    "df1.sort(df1.Time_in_lot.desc()).show(5)"
   ]
  },
  {
   "cell_type": "code",
   "execution_count": 61,
   "id": "8468332a",
   "metadata": {},
   "outputs": [
    {
     "name": "stdout",
     "output_type": "stream",
     "text": [
      "+-------+------------------+\n",
      "|summary|       Time_in_lot|\n",
      "+-------+------------------+\n",
      "|  count|            570977|\n",
      "|   mean| 67.92468172973692|\n",
      "| stddev|106.31335378028105|\n",
      "|    min|             -1032|\n",
      "|    max|              1396|\n",
      "+-------+------------------+\n",
      "\n"
     ]
    }
   ],
   "source": [
    "df1.describe().show()"
   ]
  },
  {
   "cell_type": "markdown",
   "id": "08032751",
   "metadata": {},
   "source": [
    "As seen above, a summary of the timeInLot variable (measured in days) shows that the\n",
    "minimum number of days that a car was in a dealer’s lot was zero, whereas the max was 1,409\n",
    "days (~3.9 years)."
   ]
  },
  {
   "cell_type": "code",
   "execution_count": 62,
   "id": "bc334195",
   "metadata": {},
   "outputs": [],
   "source": [
    "#Q2 Which Cars are the Most Popular?\n",
    "\n",
    "from pyspark.sql.functions import concat,col,lit,asc,desc"
   ]
  },
  {
   "cell_type": "code",
   "execution_count": 63,
   "id": "23052785",
   "metadata": {},
   "outputs": [],
   "source": [
    "df2 = df_car_pyspark.select(concat(col(\"brandName\"),lit(\" \"),col(\"modelName\")).alias(\"Cars\"))"
   ]
  },
  {
   "cell_type": "code",
   "execution_count": 64,
   "id": "74ce9cbb",
   "metadata": {},
   "outputs": [
    {
     "name": "stdout",
     "output_type": "stream",
     "text": [
      "+--------------------+\n",
      "|                Cars|\n",
      "+--------------------+\n",
      "|MITSUBISHI Eclips...|\n",
      "|       NISSAN Altima|\n",
      "|       FORD Explorer|\n",
      "|           FORD Edge|\n",
      "|         FORD Fusion|\n",
      "|         FORD Fusion|\n",
      "|         FORD Fusion|\n",
      "|         FORD Fiesta|\n",
      "|         LINCOLN MKX|\n",
      "|         FORD Fiesta|\n",
      "+--------------------+\n",
      "only showing top 10 rows\n",
      "\n"
     ]
    }
   ],
   "source": [
    "df2.show(10)"
   ]
  },
  {
   "cell_type": "code",
   "execution_count": 65,
   "id": "5fa3cecc",
   "metadata": {},
   "outputs": [],
   "source": [
    "count = df2.groupBy('Cars').count()"
   ]
  },
  {
   "cell_type": "code",
   "execution_count": 66,
   "id": "2582c506",
   "metadata": {
    "scrolled": true
   },
   "outputs": [],
   "source": [
    "sparkcount_df = count.orderBy(col(\"count\").desc())"
   ]
  },
  {
   "cell_type": "code",
   "execution_count": 67,
   "id": "1d1ab716",
   "metadata": {},
   "outputs": [
    {
     "name": "stdout",
     "output_type": "stream",
     "text": [
      "+-------------------+-----+\n",
      "|               Cars|count|\n",
      "+-------------------+-----+\n",
      "|         FORD F-150|17366|\n",
      "|CHEVROLET Silverado|16400|\n",
      "|  CHEVROLET Equinox|15499|\n",
      "|        FORD Escape|11810|\n",
      "|JEEP Grand Cherokee|10780|\n",
      "+-------------------+-----+\n",
      "only showing top 5 rows\n",
      "\n"
     ]
    }
   ],
   "source": [
    "sparkcount_df.show(5)"
   ]
  },
  {
   "cell_type": "code",
   "execution_count": 68,
   "id": "844adc50",
   "metadata": {},
   "outputs": [],
   "source": [
    "import matplotlib.pyplot as plt\n",
    "import pandas as pd\n",
    "\n",
    "pandascount_df = sparkcount_df.toPandas()"
   ]
  },
  {
   "cell_type": "code",
   "execution_count": 69,
   "id": "ead2061a",
   "metadata": {},
   "outputs": [],
   "source": [
    "pandascount_df.set_index('Cars',inplace =True)"
   ]
  },
  {
   "cell_type": "code",
   "execution_count": 70,
   "id": "1652b673",
   "metadata": {},
   "outputs": [],
   "source": [
    "pandascount_df = pandascount_df.head(5)"
   ]
  },
  {
   "cell_type": "code",
   "execution_count": 71,
   "id": "f304a360",
   "metadata": {},
   "outputs": [
    {
     "data": {
      "text/html": [
       "<div>\n",
       "<style scoped>\n",
       "    .dataframe tbody tr th:only-of-type {\n",
       "        vertical-align: middle;\n",
       "    }\n",
       "\n",
       "    .dataframe tbody tr th {\n",
       "        vertical-align: top;\n",
       "    }\n",
       "\n",
       "    .dataframe thead th {\n",
       "        text-align: right;\n",
       "    }\n",
       "</style>\n",
       "<table border=\"1\" class=\"dataframe\">\n",
       "  <thead>\n",
       "    <tr style=\"text-align: right;\">\n",
       "      <th></th>\n",
       "      <th>count</th>\n",
       "    </tr>\n",
       "    <tr>\n",
       "      <th>Cars</th>\n",
       "      <th></th>\n",
       "    </tr>\n",
       "  </thead>\n",
       "  <tbody>\n",
       "    <tr>\n",
       "      <th>FORD F-150</th>\n",
       "      <td>17366</td>\n",
       "    </tr>\n",
       "    <tr>\n",
       "      <th>CHEVROLET Silverado</th>\n",
       "      <td>16400</td>\n",
       "    </tr>\n",
       "    <tr>\n",
       "      <th>CHEVROLET Equinox</th>\n",
       "      <td>15499</td>\n",
       "    </tr>\n",
       "    <tr>\n",
       "      <th>FORD Escape</th>\n",
       "      <td>11810</td>\n",
       "    </tr>\n",
       "    <tr>\n",
       "      <th>JEEP Grand Cherokee</th>\n",
       "      <td>10780</td>\n",
       "    </tr>\n",
       "  </tbody>\n",
       "</table>\n",
       "</div>"
      ],
      "text/plain": [
       "                     count\n",
       "Cars                      \n",
       "FORD F-150           17366\n",
       "CHEVROLET Silverado  16400\n",
       "CHEVROLET Equinox    15499\n",
       "FORD Escape          11810\n",
       "JEEP Grand Cherokee  10780"
      ]
     },
     "execution_count": 71,
     "metadata": {},
     "output_type": "execute_result"
    }
   ],
   "source": [
    "pandascount_df"
   ]
  },
  {
   "cell_type": "code",
   "execution_count": 72,
   "id": "34a55530",
   "metadata": {},
   "outputs": [
    {
     "data": {
      "image/png": "[encoded data removed]",
      "text/plain": [
       "<Figure size 1000x1500 with 1 Axes>"
      ]
     },
     "metadata": {},
     "output_type": "display_data"
    }
   ],
   "source": [
    "plot = pandascount_df.plot.pie(y= 'count', figsize = (10,15))"
   ]
  },
  {
   "cell_type": "code",
   "execution_count": 73,
   "id": "38f865a3",
   "metadata": {},
   "outputs": [],
   "source": [
    "#Q3 What Color of the car do people like the most?\n",
    "\n",
    "df3 = df_car_pyspark.select('color')"
   ]
  },
  {
   "cell_type": "code",
   "execution_count": 74,
   "id": "a50798a0",
   "metadata": {},
   "outputs": [],
   "source": [
    "color = df3.groupby(\"color\").count()"
   ]
  },
  {
   "cell_type": "code",
   "execution_count": 75,
   "id": "6384ef2b",
   "metadata": {},
   "outputs": [],
   "source": [
    "sparkcolor_df = color.orderBy(col(\"count\").desc())"
   ]
  },
  {
   "cell_type": "code",
   "execution_count": 76,
   "id": "b17d3522",
   "metadata": {},
   "outputs": [
    {
     "name": "stdout",
     "output_type": "stream",
     "text": [
      "+------------+------+\n",
      "|       color| count|\n",
      "+------------+------+\n",
      "|         N/A|211012|\n",
      "|       Black| 21084|\n",
      "|       White| 11049|\n",
      "|        Gray|  7887|\n",
      "|Summit White|  7221|\n",
      "|      Silver|  6794|\n",
      "+------------+------+\n",
      "only showing top 6 rows\n",
      "\n"
     ]
    }
   ],
   "source": [
    "sparkcolor_df.show(6)"
   ]
  },
  {
   "cell_type": "code",
   "execution_count": 77,
   "id": "c40aba95",
   "metadata": {},
   "outputs": [],
   "source": [
    "sparkcolor_df = sparkcolor_df.filter(sparkcolor_df.color!= 'N/A')"
   ]
  },
  {
   "cell_type": "code",
   "execution_count": 78,
   "id": "63f9f7c5",
   "metadata": {},
   "outputs": [],
   "source": [
    "colorpandas_df = sparkcolor_df.toPandas()"
   ]
  },
  {
   "cell_type": "code",
   "execution_count": 79,
   "id": "712f0b79",
   "metadata": {},
   "outputs": [],
   "source": [
    "colorpandas_df.set_index('color',inplace =True)"
   ]
  },
  {
   "cell_type": "code",
   "execution_count": 80,
   "id": "4c014cd4",
   "metadata": {},
   "outputs": [],
   "source": [
    "colorpandas_df = colorpandas_df.head(6)"
   ]
  },
  {
   "cell_type": "code",
   "execution_count": 81,
   "id": "c1dbe566",
   "metadata": {},
   "outputs": [
    {
     "data": {
      "text/html": [
       "<div>\n",
       "<style scoped>\n",
       "    .dataframe tbody tr th:only-of-type {\n",
       "        vertical-align: middle;\n",
       "    }\n",
       "\n",
       "    .dataframe tbody tr th {\n",
       "        vertical-align: top;\n",
       "    }\n",
       "\n",
       "    .dataframe thead th {\n",
       "        text-align: right;\n",
       "    }\n",
       "</style>\n",
       "<table border=\"1\" class=\"dataframe\">\n",
       "  <thead>\n",
       "    <tr style=\"text-align: right;\">\n",
       "      <th></th>\n",
       "      <th>count</th>\n",
       "    </tr>\n",
       "    <tr>\n",
       "      <th>color</th>\n",
       "      <th></th>\n",
       "    </tr>\n",
       "  </thead>\n",
       "  <tbody>\n",
       "    <tr>\n",
       "      <th>Black</th>\n",
       "      <td>21084</td>\n",
       "    </tr>\n",
       "    <tr>\n",
       "      <th>White</th>\n",
       "      <td>11049</td>\n",
       "    </tr>\n",
       "    <tr>\n",
       "      <th>Gray</th>\n",
       "      <td>7887</td>\n",
       "    </tr>\n",
       "    <tr>\n",
       "      <th>Summit White</th>\n",
       "      <td>7221</td>\n",
       "    </tr>\n",
       "    <tr>\n",
       "      <th>Silver</th>\n",
       "      <td>6794</td>\n",
       "    </tr>\n",
       "    <tr>\n",
       "      <th>Blue</th>\n",
       "      <td>6171</td>\n",
       "    </tr>\n",
       "  </tbody>\n",
       "</table>\n",
       "</div>"
      ],
      "text/plain": [
       "              count\n",
       "color              \n",
       "Black         21084\n",
       "White         11049\n",
       "Gray           7887\n",
       "Summit White   7221\n",
       "Silver         6794\n",
       "Blue           6171"
      ]
     },
     "execution_count": 81,
     "metadata": {},
     "output_type": "execute_result"
    }
   ],
   "source": [
    "colorpandas_df"
   ]
  },
  {
   "cell_type": "code",
   "execution_count": 82,
   "id": "2a81db2e",
   "metadata": {},
   "outputs": [
    {
     "data": {
      "image/png": "[encoded data removed]",
      "text/plain": [
       "<Figure size 1000x1500 with 1 Axes>"
      ]
     },
     "metadata": {},
     "output_type": "display_data"
    }
   ],
   "source": [
    "plot = colorpandas_df.plot.pie(y= 'count', figsize = (10,15))"
   ]
  },
  {
   "cell_type": "code",
   "execution_count": 83,
   "id": "b4d648ed",
   "metadata": {},
   "outputs": [],
   "source": [
    "#Q5 How much will the final price differ from MSRP on avg\n",
    "\n",
    "df5 = df_car_pyspark.select('msrp','askPrice')"
   ]
  },
  {
   "cell_type": "code",
   "execution_count": 84,
   "id": "f69f00da",
   "metadata": {},
   "outputs": [
    {
     "name": "stdout",
     "output_type": "stream",
     "text": [
      "root\n",
      " |-- msrp: integer (nullable = true)\n",
      " |-- askPrice: integer (nullable = true)\n",
      "\n"
     ]
    }
   ],
   "source": [
    "df5.printSchema()"
   ]
  },
  {
   "cell_type": "code",
   "execution_count": 85,
   "id": "536ad966",
   "metadata": {},
   "outputs": [
    {
     "name": "stdout",
     "output_type": "stream",
     "text": [
      "+-----+--------+\n",
      "| msrp|askPrice|\n",
      "+-----+--------+\n",
      "| 1498|    1498|\n",
      "|10589|   10589|\n",
      "|36999|   36999|\n",
      "|23652|   23652|\n",
      "|12575|   12575|\n",
      "|15683|   15683|\n",
      "|11763|   11763|\n",
      "|12572|   12572|\n",
      "|24885|   24885|\n",
      "| 7685|    7650|\n",
      "|18781|   18781|\n",
      "|26060|   26060|\n",
      "|36163|   36163|\n",
      "|13509|   12995|\n",
      "|12685|   12281|\n",
      "|17321|   16993|\n",
      "|20037|   18787|\n",
      "|23888|   22396|\n",
      "|12689|   12689|\n",
      "|    0|       0|\n",
      "+-----+--------+\n",
      "only showing top 20 rows\n",
      "\n"
     ]
    }
   ],
   "source": [
    "df5.show()"
   ]
  },
  {
   "cell_type": "code",
   "execution_count": 86,
   "id": "3fe85cbc",
   "metadata": {},
   "outputs": [
    {
     "data": {
      "text/plain": [
       "0.4707036907884924"
      ]
     },
     "execution_count": 86,
     "metadata": {},
     "output_type": "execute_result"
    }
   ],
   "source": [
    "df5.corr(\"msrp\",\"askPrice\")"
   ]
  },
  {
   "cell_type": "code",
   "execution_count": 87,
   "id": "aa5497ad",
   "metadata": {},
   "outputs": [],
   "source": [
    "import matplotlib.pyplot as plt\n",
    "import seaborn as sns"
   ]
  },
  {
   "cell_type": "code",
   "execution_count": 88,
   "id": "8860b11d",
   "metadata": {},
   "outputs": [
    {
     "data": {
      "image/png": "[encoded data removed]",
      "text/plain": [
       "<Figure size 2500x1500 with 2 Axes>"
      ]
     },
     "metadata": {},
     "output_type": "display_data"
    }
   ],
   "source": [
    "fig = plt.figure(figsize=(25, 15))\n",
    "st = fig.suptitle(\"Distribution of Features\", fontsize=50, verticalalignment=\"baseline\")\n",
    "for col, num in zip(df5.toPandas().describe().columns, range(1,11)):\n",
    "  ax = fig.add_subplot(3,4, num)\n",
    "  ax.hist(df5.toPandas()[col])\n",
    "  plt.grid(False)\n",
    "  plt.xticks(rotation=45, fontsize=20)\n",
    "  plt.yticks(fontsize=15)\n",
    "  plt.title(col.upper(), fontsize=20)\n",
    "\n",
    "plt.tight_layout()\n",
    "st.set_y(0.95)\n",
    "fig.subplots_adjust(top=0.85, hspace=0.4)\n",
    "plt.show()\n",
    "     "
   ]
  },
  {
   "cell_type": "code",
   "execution_count": 89,
   "id": "5a514d3e",
   "metadata": {},
   "outputs": [],
   "source": [
    "df5 = df5.withColumn('Price_diff', df5['msrp']- df5['askPrice'])"
   ]
  },
  {
   "cell_type": "code",
   "execution_count": 90,
   "id": "4984230e",
   "metadata": {},
   "outputs": [
    {
     "name": "stdout",
     "output_type": "stream",
     "text": [
      "+-----+--------+----------+\n",
      "| msrp|askPrice|Price_diff|\n",
      "+-----+--------+----------+\n",
      "| 1498|    1498|         0|\n",
      "|10589|   10589|         0|\n",
      "|36999|   36999|         0|\n",
      "|23652|   23652|         0|\n",
      "|12575|   12575|         0|\n",
      "|15683|   15683|         0|\n",
      "|11763|   11763|         0|\n",
      "|12572|   12572|         0|\n",
      "|24885|   24885|         0|\n",
      "| 7685|    7650|        35|\n",
      "|18781|   18781|         0|\n",
      "|26060|   26060|         0|\n",
      "|36163|   36163|         0|\n",
      "|13509|   12995|       514|\n",
      "|12685|   12281|       404|\n",
      "|17321|   16993|       328|\n",
      "|20037|   18787|      1250|\n",
      "|23888|   22396|      1492|\n",
      "|12689|   12689|         0|\n",
      "|    0|       0|         0|\n",
      "+-----+--------+----------+\n",
      "only showing top 20 rows\n",
      "\n"
     ]
    }
   ],
   "source": [
    "df5.show()"
   ]
  },
  {
   "cell_type": "code",
   "execution_count": 91,
   "id": "df720cba",
   "metadata": {},
   "outputs": [
    {
     "name": "stdout",
     "output_type": "stream",
     "text": [
      "+-------+-------------------+\n",
      "|summary|         price_diff|\n",
      "+-------+-------------------+\n",
      "|  count|             570977|\n",
      "|   mean|  543655.8713223125|\n",
      "| stddev|3.409922691264347E7|\n",
      "|    min|                  0|\n",
      "|    max|         2147480657|\n",
      "+-------+-------------------+\n",
      "\n"
     ]
    }
   ],
   "source": [
    "df5.select('price_diff').describe().show()"
   ]
  },
  {
   "cell_type": "code",
   "execution_count": null,
   "id": "9056e4be",
   "metadata": {},
   "outputs": [],
   "source": []
  },
  {
   "cell_type": "code",
   "execution_count": null,
   "id": "c2195cc6",
   "metadata": {},
   "outputs": [],
   "source": []
  },
  {
   "cell_type": "code",
   "execution_count": null,
   "id": "236d1813",
   "metadata": {},
   "outputs": [],
   "source": []
  },
  {
   "cell_type": "code",
   "execution_count": null,
   "id": "3798e02e",
   "metadata": {},
   "outputs": [],
   "source": []
  },
  {
   "cell_type": "code",
   "execution_count": null,
   "id": "e77d1d38",
   "metadata": {},
   "outputs": [],
   "source": []
  },
  {
   "cell_type": "code",
   "execution_count": null,
   "id": "02b7816a",
   "metadata": {},
   "outputs": [],
   "source": []
  }
 ],
 "metadata": {
  "kernelspec": {
   "display_name": "Python 3 (ipykernel)",
   "language": "python",
   "name": "python3"
  },
  "language_info": {
   "codemirror_mode": {
    "name": "ipython",
    "version": 3
   },
   "file_extension": ".py",
   "mimetype": "text/x-python",
   "name": "python",
   "nbconvert_exporter": "python",
   "pygments_lexer": "ipython3",
   "version": "3.9.13"
  }
 },
 "nbformat": 4,
 "nbformat_minor": 5
}
