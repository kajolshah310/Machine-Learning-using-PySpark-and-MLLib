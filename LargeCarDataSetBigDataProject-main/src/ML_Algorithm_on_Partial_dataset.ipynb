{
 "cells": [
  {
   "cell_type": "code",
   "execution_count": 1,
   "id": "29017fa3",
   "metadata": {
    "scrolled": true
   },
   "outputs": [
    {
     "name": "stdout",
     "output_type": "stream",
     "text": [
      "Requirement already satisfied: pyspark in /Users/kajoltaneshshah/opt/anaconda3/lib/python3.9/site-packages (3.3.1)\n",
      "Requirement already satisfied: py4j==0.10.9.5 in /Users/kajoltaneshshah/opt/anaconda3/lib/python3.9/site-packages (from pyspark) (0.10.9.5)\n",
      "Note: you may need to restart the kernel to use updated packages.\n"
     ]
    }
   ],
   "source": [
    "pip install pyspark"
   ]
  },
  {
   "cell_type": "code",
   "execution_count": 2,
   "id": "7e024f61",
   "metadata": {
    "scrolled": true
   },
   "outputs": [
    {
     "name": "stdout",
     "output_type": "stream",
     "text": [
      "Requirement already satisfied: findspark in /Users/kajoltaneshshah/opt/anaconda3/lib/python3.9/site-packages (2.0.1)\n",
      "Note: you may need to restart the kernel to use updated packages.\n"
     ]
    }
   ],
   "source": [
    "pip install findspark"
   ]
  },
  {
   "cell_type": "code",
   "execution_count": 3,
   "id": "743021b3",
   "metadata": {},
   "outputs": [],
   "source": [
    "import pyspark\n",
    "from pyspark.sql import SparkSession"
   ]
  },
  {
   "cell_type": "code",
   "execution_count": 4,
   "id": "073abd23",
   "metadata": {
    "scrolled": true
   },
   "outputs": [
    {
     "name": "stderr",
     "output_type": "stream",
     "text": [
      "Setting default log level to \"WARN\".\n",
      "To adjust logging level use sc.setLogLevel(newLevel). For SparkR, use setLogLevel(newLevel).\n"
     ]
    },
    {
     "name": "stdout",
     "output_type": "stream",
     "text": [
      "22/12/07 08:02:22 WARN NativeCodeLoader: Unable to load native-hadoop library for your platform... using builtin-java classes where applicable\n"
     ]
    }
   ],
   "source": [
    "spark = SparkSession.builder.appName('BigdataProject').getOrCreate()\n"
   ]
  },
  {
   "cell_type": "code",
   "execution_count": 8,
   "id": "4312672e",
   "metadata": {
    "id": "4312672e",
    "outputId": "7dfd5e07-89f1-47cd-eae5-5789e8d6e24d",
    "scrolled": true
   },
   "outputs": [],
   "source": [
    "import findspark\n",
    "findspark.init('/usr/local/Cellar/apache-spark/2.2.0/libexec')\n"
   ]
  },
  {
   "cell_type": "code",
   "execution_count": 9,
   "id": "37d31987",
   "metadata": {
    "id": "37d31987"
   },
   "outputs": [],
   "source": [
    "import pyspark"
   ]
  },
  {
   "cell_type": "code",
   "execution_count": 10,
   "id": "b0b0535e",
   "metadata": {
    "id": "b0b0535e"
   },
   "outputs": [],
   "source": [
    "from pyspark.sql import SparkSession"
   ]
  },
  {
   "cell_type": "code",
   "execution_count": 11,
   "id": "20c9076e",
   "metadata": {
    "id": "20c9076e",
    "outputId": "e475fdbe-8a33-4b8a-d014-e7384871faff"
   },
   "outputs": [],
   "source": [
    "spark = SparkSession.builder.appName('BigdataProject').getOrCreate()"
   ]
  },
  {
   "cell_type": "code",
   "execution_count": 12,
   "id": "dfd48713",
   "metadata": {
    "id": "dfd48713",
    "outputId": "0b0359ed-5378-429e-f7d1-bbc57d35939a"
   },
   "outputs": [
    {
     "data": {
      "text/html": [
       "\n",
       "            <div>\n",
       "                <p><b>SparkSession - in-memory</b></p>\n",
       "                \n",
       "        <div>\n",
       "            <p><b>SparkContext</b></p>\n",
       "\n",
       "            <p><a href=\"http://kajols-mbp.attlocal.net:4040\">Spark UI</a></p>\n",
       "\n",
       "            <dl>\n",
       "              <dt>Version</dt>\n",
       "                <dd><code>v3.3.1</code></dd>\n",
       "              <dt>Master</dt>\n",
       "                <dd><code>local[*]</code></dd>\n",
       "              <dt>AppName</dt>\n",
       "                <dd><code>BigdataProject</code></dd>\n",
       "            </dl>\n",
       "        </div>\n",
       "        \n",
       "            </div>\n",
       "        "
      ],
      "text/plain": [
       "<pyspark.sql.session.SparkSession at 0x7f9a31c9da60>"
      ]
     },
     "execution_count": 12,
     "metadata": {},
     "output_type": "execute_result"
    }
   ],
   "source": [
    "spark"
   ]
  },
  {
   "cell_type": "code",
   "execution_count": 13,
   "id": "5e7f4b31",
   "metadata": {
    "id": "5e7f4b31"
   },
   "outputs": [
    {
     "name": "stderr",
     "output_type": "stream",
     "text": [
      "                                                                                \r"
     ]
    }
   ],
   "source": [
    "#df = spark.read.option('header','true').csv('CIS_Automotive_Kaggle_Sample.csv',inferSchema=True)\n",
    "df = spark.read.option('header','true').csv('Part1.csv',inferSchema=True)"
   ]
  },
  {
   "cell_type": "code",
   "execution_count": 14,
   "id": "8336122b",
   "metadata": {
    "id": "8336122b",
    "outputId": "8a2c6a56-1a4e-440b-c551-930f5a1b99b7"
   },
   "outputs": [
    {
     "name": "stderr",
     "output_type": "stream",
     "text": [
      "[Stage 2:===================>                                       (1 + 2) / 3]\r"
     ]
    },
    {
     "name": "stdout",
     "output_type": "stream",
     "text": [
      "22/12/07 08:07:24 WARN DAGScheduler: Broadcasting large task binary with size 1249.5 KiB\n"
     ]
    },
    {
     "name": "stderr",
     "output_type": "stream",
     "text": [
      "                                                                                \r"
     ]
    },
    {
     "name": "stdout",
     "output_type": "stream",
     "text": [
      "22/12/07 08:07:26 WARN package: Truncated the string representation of a plan since it was too large. This behavior can be adjusted by setting 'spark.sql.debug.maxToStringFields'.\n",
      "+-------+--------------------+------------------+------------------+------------------+------------------+--------------------+-------------+---------+------------------+------------------+--------+----------------------+------------------------+----------------------+---------------------+----------------------+--------------------+--------------------+--------------------+-----------------------+--------------------+--------------------+-----------------------------------+--------------------+--------+-----------------+-----------+--------------+---------------+--------------------+-------------+----------------+-----------------+------------------+------------------+-----------+--------------+-----------------+----------+---------------+--------------------+------------+--------------------+------------------+---------------------+------------+--------------+--------------+--------------+------------------+---------------+-----------------+--------------+-----------------+-----------------------+----------------------+--------------------+-----------------+-----------------+------------------+-------------------+--------------------+---------------+----------------------+--------------+--------+--------------+-----------------------+----------------------+---------------+------------------+-----------------+------------------+------------------+---------------------+--------------+----------------------+--------------------------+--------------------+------------------+--------------------+-------+----------+--------------------+----------+------------------+-----------------------+-----------------+-------------------------------+-------+------------------+-----------------+------------------+------------------+-----------------+------------------+------------------------+---------------------------+---------------+-----------+-----------------------+-----------------------+-----------------------+------------+------------------+--------------------+---------------+--------------------+----------------------+---------------------------+-------------------+--------------+--------------------------------------+--------------+-------------------+-------------------+--------------+--------------------+---------------+------------------------+-----------------------+---------------------+------------------------+---------------+-------------------+------------------+-------------------------------------+--------------------+--------------------+--------------------+---------------+--------+------------------+------------------+------------------+------------------+----------------+--------------+---------------------+--------------------+-----------------+----------+--------+--------------------+--------------------+--------------+------------------+------------------+----------------+------------------+------------------+-------------------+------------------+\n",
      "|summary|                 vin|          stockNum|              msrp|          askPrice|           mileage|               color|interiorColor|brandName|         modelName|          dealerID|  vf_ABS|vf_ActiveSafetySysNote|vf_AdaptiveCruiseControl|vf_AdaptiveDrivingBeam|vf_AdaptiveHeadlights|vf_AdditionalErrorText| vf_AirBagLocCurtain|   vf_AirBagLocFront|    vf_AirBagLocKnee|vf_AirBagLocSeatCushion|    vf_AirBagLocSide|vf_AutoReverseSystem|vf_AutomaticPedestrianAlertingSound|vf_AxleConfiguration|vf_Axles|     vf_BasePrice|vf_BatteryA|vf_BatteryA_to|vf_BatteryCells|      vf_BatteryInfo|vf_BatteryKWh|vf_BatteryKWh_to|vf_BatteryModules|   vf_BatteryPacks|    vf_BatteryType|vf_BatteryV|vf_BatteryV_to|   vf_BedLengthIN|vf_BedType|vf_BlindSpotMon|      vf_BodyCabType|vf_BodyClass|  vf_BrakeSystemDesc|vf_BrakeSystemType|vf_BusFloorConfigType|vf_BusLength|    vf_BusType|   vf_CAN_AACN|        vf_CIB|vf_CashForClunkers|vf_ChargerLevel|vf_ChargerPowerKW|vf_CoolingType|  vf_CurbWeightLB|vf_CustomMotorcycleType|vf_DaytimeRunningLight|vf_DestinationMarket|vf_DisplacementCC|vf_DisplacementCI|  vf_DisplacementL|           vf_Doors|        vf_DriveType|vf_DriverAssist|vf_DynamicBrakeSupport|        vf_EDR|  vf_ESC|vf_EVDriveUnit|vf_ElectrificationLevel|vf_EngineConfiguration|vf_EngineCycles|vf_EngineCylinders|      vf_EngineHP|    vf_EngineHP_to|       vf_EngineKW|vf_EngineManufacturer|vf_EngineModel|vf_EntertainmentSystem|vf_ForwardCollisionWarning|vf_FuelInjectionType|vf_FuelTypePrimary|vf_FuelTypeSecondary|vf_GCWR|vf_GCWR_to|             vf_GVWR|vf_GVWR_to|vf_KeylessIgnition|vf_LaneDepartureWarning|vf_LaneKeepSystem|vf_LowerBeamHeadlampLightSource|vf_Make|         vf_MakeID|  vf_Manufacturer| vf_ManufacturerId|          vf_Model|       vf_ModelID|      vf_ModelYear|vf_MotorcycleChassisType|vf_MotorcycleSuspensionType|vf_NCSABodyType|vf_NCSAMake|vf_NCSAMapExcApprovedBy|vf_NCSAMapExcApprovedOn|vf_NCSAMappingException|vf_NCSAModel|       vf_NCSANote|             vf_Note|vf_OtherBusInfo|  vf_OtherEngineInfo|vf_OtherMotorcycleInfo|vf_OtherRestraintSystemInfo|vf_OtherTrailerInfo| vf_ParkAssist|vf_PedestrianAutomaticEmergencyBraking|  vf_PlantCity|vf_PlantCompanyName|    vf_PlantCountry| vf_PlantState|   vf_PossibleValues|vf_Pretensioner|vf_RearCrossTrafficAlert|vf_RearVisibilitySystem|vf_SAEAutomationLevel|vf_SAEAutomationLevel_to|vf_SeatBeltsAll|        vf_SeatRows|          vf_Seats|vf_SemiautomaticHeadlampBeamSwitching|           vf_Series|          vf_Series2| vf_SteeringLocation|vf_SuggestedVIN| vf_TPMS|    vf_TopSpeedMPH|     vf_TrackWidth|vf_TractionControl|vf_TrailerBodyType|vf_TrailerLength|vf_TrailerType|vf_TransmissionSpeeds|vf_TransmissionStyle|          vf_Trim|  vf_Trim2|vf_Turbo|              vf_VIN| vf_ValveTrainDesign|vf_VehicleType|  vf_WheelBaseLong| vf_WheelBaseShort|vf_WheelBaseType| vf_WheelSizeFront|  vf_WheelSizeRear|          vf_Wheels|        vf_Windows|\n",
      "+-------+--------------------+------------------+------------------+------------------+------------------+--------------------+-------------+---------+------------------+------------------+--------+----------------------+------------------------+----------------------+---------------------+----------------------+--------------------+--------------------+--------------------+-----------------------+--------------------+--------------------+-----------------------------------+--------------------+--------+-----------------+-----------+--------------+---------------+--------------------+-------------+----------------+-----------------+------------------+------------------+-----------+--------------+-----------------+----------+---------------+--------------------+------------+--------------------+------------------+---------------------+------------+--------------+--------------+--------------+------------------+---------------+-----------------+--------------+-----------------+-----------------------+----------------------+--------------------+-----------------+-----------------+------------------+-------------------+--------------------+---------------+----------------------+--------------+--------+--------------+-----------------------+----------------------+---------------+------------------+-----------------+------------------+------------------+---------------------+--------------+----------------------+--------------------------+--------------------+------------------+--------------------+-------+----------+--------------------+----------+------------------+-----------------------+-----------------+-------------------------------+-------+------------------+-----------------+------------------+------------------+-----------------+------------------+------------------------+---------------------------+---------------+-----------+-----------------------+-----------------------+-----------------------+------------+------------------+--------------------+---------------+--------------------+----------------------+---------------------------+-------------------+--------------+--------------------------------------+--------------+-------------------+-------------------+--------------+--------------------+---------------+------------------------+-----------------------+---------------------+------------------------+---------------+-------------------+------------------+-------------------------------------+--------------------+--------------------+--------------------+---------------+--------+------------------+------------------+------------------+------------------+----------------+--------------+---------------------+--------------------+-----------------+----------+--------+--------------------+--------------------+--------------+------------------+------------------+----------------+------------------+------------------+-------------------+------------------+\n",
      "|  count|                9999|              9963|              9999|              9999|              9999|                9999|         9999|     9998|              9995|              9999|    4248|                  1611|                    1576|                  1672|                    6|                    20|                1838|                9614|                2111|                     46|                9045|                3364|                                128|                   0|    3994|             3678|          0|             0|              0|                   3|            0|               0|                0|                14|                 2|          3|             0|                9|      2315|           2544|                5040|        9993|                  37|              7452|                 9974|           0|          9974|          2537|          1699|                 0|              0|                0|           233|              368|                   9992|                  3142|                 246|             9966|             9966|              9966|               7128|                8632|              6|                  3700|            12|    4147|             0|                    195|                  8025|             74|              9695|             6695|               273|              6695|                 7513|          3875|                   192|                      2015|                2388|              9843|                1084|      0|         0|                8106|         0|              3026|                   1968|             1799|                             35|   9998|              9998|             9998|              9998|              9995|             9995|              9998|                    9992|                       9992|              0|          0|                      0|                      0|                      0|           0|                 8|                 717|              0|                3138|                     2|                       2665|                  0|          1049|                                   620|          9275|               8494|               9543|          8534|                   5|            279|                      34|                   4030|                    0|                       0|           9624|               3109|              3746|                                 3583|                7084|                 406|                5232|             20|    7329|              1902|                16|              3821|              9998|               0|          9998|                 1696|                2025|             3921|        67|    2074|                9999|                1309|          9998|               169|              3536|             188|              3514|              3514|               4138|               235|\n",
      "|   mean|                null|12568.853476821192|23733.083708370836| 22955.33793379338| 6320.328532853286|                null|         null|     null|1609.7791095890411| 7631.715571557155|    null|                  null|                    null|                  null|                 null|                  null|                null|                null|                null|                   null|                null|                null|                               null|                null|     2.0|36063.16204458945|       null|          null|           null|                null|         null|            null|             null|1.0714285714285714|              null|      270.0|          null|62.22222222222222|      null|           null|                null|        null|                null|              null|                 null|        null|          null|          null|          null|              null|           null|             null|          null|4413.016304347826|                   null|                  null|                null|4797.272173786794|292.7561052006703| 4.797513735148326|   3.94486531986532|                null|           null|                  null|          null|    null|          null|                   null|                  null|            4.0|5.9844249613202685|289.4704770198656|322.24542124542126|215.54971520836534|                 null|        3176.0|                  null|                      null|                null|              null|                null|   null|      null|                null|      null|              null|                   null|             null|                           null|   null| 473.6537307461492|             null|1122.4759951990397|1609.7791095890411|3587.089544772386|2015.2177435487097|                    null|                       null|           null|       null|                   null|                   null|                   null|        null|              null|                null|           null|                null|                  null|                       null|               null|          null|                                  null|          null|               null|               null|          null|                null|           null|                    null|                   null|                 null|                    null|           null| 2.2563525249276295| 5.677255739455419|                                 null|  1669.6629213483145|               460.0|                null|           null|    null|123.88906414300736| 66.22500000000001|              null|              null|            null|          null|    7.076061320754717|                null|       1758.64375|      null|    null|                null|                null|          null| 155.6852071005917|115.91787330316743|            null|17.978372225384177|17.978372225384177|  4.000241662638956| 4.093617021276596|\n",
      "| stddev|                null| 10054.13633968241|16930.018699810367|15235.056685347567|22770.516908204565|                null|         null|     null| 706.7657261101508|53.469068598679584|    null|                  null|                    null|                  null|                 null|                  null|                null|                null|                null|                   null|                null|                null|                               null|                null|     0.0| 12615.0830108456|       null|          null|           null|                null|         null|            null|             null|0.2672612419124244|              null|        0.0|          null|4.493822920904254|      null|           null|                null|        null|                null|              null|                 null|        null|          null|          null|          null|              null|           null|             null|          null|478.5725479560537|                   null|                  null|                null|14150.20336434486|863.4973427737722|14.150176193197973|0.48887325901473916|                null|           null|                  null|          null|    null|          null|                   null|                  null|            0.0|1.4962523905175527|84.16461615843923| 329.0914551769797|63.083782139885145|                 null|          null|                  null|                      null|                null|              null|                null|   null|      null|                null|      null|              null|                   null|             null|                           null|   null|107.27139071982062|             null|1418.1142332574807| 706.7657261101508|4569.155348534909| 4.095696479030181|                    null|                       null|           null|       null|                   null|                   null|                   null|        null|              null|                null|           null|                null|                  null|                       null|               null|          null|                                  null|          null|               null|               null|          null|                null|           null|                    null|                   null|                 null|                    null|           null|0.46660933561448026|1.1413811450569364|                                 null|   743.3270561196805|                null|                null|           null|    null|16.333253412450844|5.7271866275394485|              null|              null|            null|          null|    1.453545779502903|                null|766.8377502434349|      null|    null|                null|                null|          null|13.689114770535811| 11.61029648874238|            null| 1.402526723290619| 1.402526723290619|0.06021426237702447|0.4233586986743347|\n",
      "|    min|0004a1ef6e4dea132...|           1.8T SE|                 0|                 0|                 0|Agate Black Metallic|        Adobe|    ACURA|        124 Spider|              7514|Standard|  (Blind Spot Detec...|          Not Applicable|        Not Applicable|       Not Applicable|  In the Possible v...|1st & 2nd & 3rd Rows|1st Row (Driver &...|1st Row (Driver &...|         1st & 2nd Rows|1st & 2nd & 3rd Rows|      Not Applicable|                     Not Applicable|                null|       2|          13005.0|       null|          null|           null|     Capacity : 6 Ah|         null|            null|             null|                 1|Lithium-ion/Li-Ion|        270|          null|               60|  Extended| Not Applicable|Crew/ Super Crew/...|         Bus|         4-Wheel ABS|         Hydraulic|       Not Applicable|        null|Not Applicable|Not Applicable|Not Applicable|              null|           null|             null|           Air|             2436|         Not Applicable|        Not Applicable|49 states (Except...|            471.0|     28.742183468|             0.471|                  2|             2WD/4WD| Not Applicable|        Not Applicable|Not Applicable|Standard|          null|   BEV (Battery Elec...|  Horizontally oppo...|              4|                 2|             49.6|             136.0|          36.98672|     ALFA ROMEO S.P.A|         7A-FE|           CD + stereo|            Not Applicable|Common Rail Direc...|            Diesel|Compressed Natura...|   null|      null|Class 1: 6000 lb ...|      null|          Optional|         Not Applicable|   Not Applicable|                        Halogen|  ACURA|               442|     ADAM OPEL AG|               959|        124 Spider|             1709|              1991|          Not Applicable|             Not Applicable|           null|       null|                   null|                   null|                   null|        null|  4-Door Sedan LWB| 4-Wheel ABS Mode...|           null|                    |  Heavyweight Motor...|        Advanced Front A...|               null|Not Applicable|                        Not Applicable|AGUASCALIENTES|                AAI|          AUSTRALIA|AGUASCALIENTES|     (11:ABCEGHLSTU)|            Yes|          Not Applicable|         Not Applicable|                 null|                    null|      Automatic|                  1|                 2|                       Not Applicable|1.4 TSI (S/SE/R-L...|                  AN|Left Hand Drive (...| 1G1JD5SB*J41  |  Direct|                85|              61.4|          Standard|    Not Applicable|            null|Not Applicable|                    1|Automated Manual ...|                 |Access Cab|      No|0004a1ef6e4dea132...|Dual Overhead Cam...|           BUS|             103.1|              90.9|            Long|                15|                15|                  2|                 4|\n",
      "|    max|fffbea84036abbbe6...|         xDrive28i|            412623|             93500|            270326|granite crystal m...|shale colored|    VOLVO|            e-Golf|              7656|Standard|  Vehicle Stability...|                Standard|              Standard|       Not Applicable|  Unused position(s...|            All Rows|    Driver Seat Only| Passenger Seat Only|    Passenger Seat Only|    Driver Seat Only|            Standard|                           Standard|                null|       2|         143600.0|       null|          null|           null|Capacity: 5.3Ah; ...|         null|            null|             null|                 2|Lithium-ion/Li-Ion|        270|          null|               73|  Standard|       Standard|             Regular|       Wagon|Front and rear ve...|         Hydraulic|       Not Applicable|        null|Not Applicable|      Standard|      Standard|              null|           null|             null|         Water|             5750|         Not Applicable|              Standard|U.S. Puerto Rico ...|         200000.0| 12204.7488189464|             200.0|                  5|RWD/ Rear Wheel D...| Not Applicable|              Standard|      Standard|Standard|          null|   Strong HEV (Hybri...|              V-Shaped|              4|                10|            797.0|            5600.0|          594.3229|               Warren|        VQ35DE|  Rear Entertainmen...|                  Standard|Unit Injector Dir...|          Gasoline|            Gasoline|   null|      null|Class 5: 16001 - ...|      null|          Standard|               Standard|         Standard|                 Not Applicable|  VOLVO|              5083|VOLVO CAR USA LLC|             16564|            e-Golf|            25919|              2020|          Not Applicable|             Not Applicable|           null|       null|                   null|                   null|                   null|        null|4-Door Wagon (SUV)|position 6:Model ...|           null|w/o EGR w/o air p...|  Heavyweight Motor...|       second generation...|               null|      Standard|                              Standard|          YORK|       Yajima Plant|UNITED STATES (USA)|     YAMAGUCHI|(8:12456789ABCDEF...|            Yes|                Standard|               Standard|                 null|                    null|         Manual|                  3|                 8|                             Standard|           xDrive28i|quattro Progressi...|Left Hand Drive (...| WBAPL5G5*BNN  |Indirect|               200|              79.2|          Standard|    Not Applicable|            null|Not Applicable|                   10|     Manual/Standard|        xDrive50i|   X Grade|     Yes|fffbea84036abbbe6...|Single Overhead C...|        TRUCK |             176.0|             194.4|      Super Long|                22|                22|                  6|                 6|\n",
      "+-------+--------------------+------------------+------------------+------------------+------------------+--------------------+-------------+---------+------------------+------------------+--------+----------------------+------------------------+----------------------+---------------------+----------------------+--------------------+--------------------+--------------------+-----------------------+--------------------+--------------------+-----------------------------------+--------------------+--------+-----------------+-----------+--------------+---------------+--------------------+-------------+----------------+-----------------+------------------+------------------+-----------+--------------+-----------------+----------+---------------+--------------------+------------+--------------------+------------------+---------------------+------------+--------------+--------------+--------------+------------------+---------------+-----------------+--------------+-----------------+-----------------------+----------------------+--------------------+-----------------+-----------------+------------------+-------------------+--------------------+---------------+----------------------+--------------+--------+--------------+-----------------------+----------------------+---------------+------------------+-----------------+------------------+------------------+---------------------+--------------+----------------------+--------------------------+--------------------+------------------+--------------------+-------+----------+--------------------+----------+------------------+-----------------------+-----------------+-------------------------------+-------+------------------+-----------------+------------------+------------------+-----------------+------------------+------------------------+---------------------------+---------------+-----------+-----------------------+-----------------------+-----------------------+------------+------------------+--------------------+---------------+--------------------+----------------------+---------------------------+-------------------+--------------+--------------------------------------+--------------+-------------------+-------------------+--------------+--------------------+---------------+------------------------+-----------------------+---------------------+------------------------+---------------+-------------------+------------------+-------------------------------------+--------------------+--------------------+--------------------+---------------+--------+------------------+------------------+------------------+------------------+----------------+--------------+---------------------+--------------------+-----------------+----------+--------+--------------------+--------------------+--------------+------------------+------------------+----------------+------------------+------------------+-------------------+------------------+\n",
      "\n"
     ]
    }
   ],
   "source": [
    "df.describe().show()"
   ]
  },
  {
   "cell_type": "code",
   "execution_count": 21,
   "id": "35fd10a0",
   "metadata": {
    "id": "35fd10a0",
    "outputId": "7bbad4ca-c97d-4faf-a2b4-d7e35cbb18df",
    "scrolled": true
   },
   "outputs": [
    {
     "data": {
      "text/plain": [
       "DataFrame[vin: string, stockNum: string, firstSeen: timestamp, lastSeen: timestamp, msrp: int, askPrice: int, mileage: int, isNew: boolean, color: string, interiorColor: string, brandName: string, modelName: string, dealerID: int, vf_ABS: string, vf_ActiveSafetySysNote: string, vf_AdaptiveCruiseControl: string, vf_AdaptiveDrivingBeam: string, vf_AdaptiveHeadlights: string, vf_AdditionalErrorText: string, vf_AirBagLocCurtain: string, vf_AirBagLocFront: string, vf_AirBagLocKnee: string, vf_AirBagLocSeatCushion: string, vf_AirBagLocSide: string, vf_AutoReverseSystem: string, vf_AutomaticPedestrianAlertingSound: string, vf_AxleConfiguration: string, vf_Axles: int, vf_BasePrice: double, vf_BatteryA: string, vf_BatteryA_to: string, vf_BatteryCells: string, vf_BatteryInfo: string, vf_BatteryKWh: string, vf_BatteryKWh_to: string, vf_BatteryModules: string, vf_BatteryPacks: int, vf_BatteryType: string, vf_BatteryV: int, vf_BatteryV_to: string, vf_BedLengthIN: int, vf_BedType: string, vf_BlindSpotMon: string, vf_BodyCabType: string, vf_BodyClass: string, vf_BrakeSystemDesc: string, vf_BrakeSystemType: string, vf_BusFloorConfigType: string, vf_BusLength: string, vf_BusType: string, vf_CAN_AACN: string, vf_CIB: string, vf_CashForClunkers: string, vf_ChargerLevel: string, vf_ChargerPowerKW: string, vf_CoolingType: string, vf_CurbWeightLB: int, vf_CustomMotorcycleType: string, vf_DaytimeRunningLight: string, vf_DestinationMarket: string, vf_DisplacementCC: double, vf_DisplacementCI: double, vf_DisplacementL: double, vf_Doors: int, vf_DriveType: string, vf_DriverAssist: string, vf_DynamicBrakeSupport: string, vf_EDR: string, vf_ESC: string, vf_EVDriveUnit: string, vf_ElectrificationLevel: string, vf_EngineConfiguration: string, vf_EngineCycles: int, vf_EngineCylinders: int, vf_EngineHP: double, vf_EngineHP_to: double, vf_EngineKW: double, vf_EngineManufacturer: string, vf_EngineModel: string, vf_EntertainmentSystem: string, vf_ForwardCollisionWarning: string, vf_FuelInjectionType: string, vf_FuelTypePrimary: string, vf_FuelTypeSecondary: string, vf_GCWR: string, vf_GCWR_to: string, vf_GVWR: string, vf_GVWR_to: string, vf_KeylessIgnition: string, vf_LaneDepartureWarning: string, vf_LaneKeepSystem: string, vf_LowerBeamHeadlampLightSource: string, vf_Make: string, vf_MakeID: int, vf_Manufacturer: string, vf_ManufacturerId: int, vf_Model: string, vf_ModelID: int, vf_ModelYear: int, vf_MotorcycleChassisType: string, vf_MotorcycleSuspensionType: string, vf_NCSABodyType: string, vf_NCSAMake: string, vf_NCSAMapExcApprovedBy: string, vf_NCSAMapExcApprovedOn: string, vf_NCSAMappingException: string, vf_NCSAModel: string, vf_NCSANote: string, vf_Note: string, vf_OtherBusInfo: string, vf_OtherEngineInfo: string, vf_OtherMotorcycleInfo: string, vf_OtherRestraintSystemInfo: string, vf_OtherTrailerInfo: string, vf_ParkAssist: string, vf_PedestrianAutomaticEmergencyBraking: string, vf_PlantCity: string, vf_PlantCompanyName: string, vf_PlantCountry: string, vf_PlantState: string, vf_PossibleValues: string, vf_Pretensioner: string, vf_RearCrossTrafficAlert: string, vf_RearVisibilitySystem: string, vf_SAEAutomationLevel: string, vf_SAEAutomationLevel_to: string, vf_SeatBeltsAll: string, vf_SeatRows: int, vf_Seats: int, vf_SemiautomaticHeadlampBeamSwitching: string, vf_Series: string, vf_Series2: string, vf_SteeringLocation: string, vf_SuggestedVIN: string, vf_TPMS: string, vf_TopSpeedMPH: int, vf_TrackWidth: double, vf_TractionControl: string, vf_TrailerBodyType: string, vf_TrailerLength: string, vf_TrailerType: string, vf_TransmissionSpeeds: int, vf_TransmissionStyle: string, vf_Trim: string, vf_Trim2: string, vf_Turbo: string, vf_VIN: string, vf_ValveTrainDesign: string, vf_VehicleType: string, vf_WheelBaseLong: double, vf_WheelBaseShort: double, vf_WheelBaseType: string, vf_WheelSizeFront: int, vf_WheelSizeRear: int, vf_Wheels: int, vf_Windows: int]"
      ]
     },
     "execution_count": 21,
     "metadata": {},
     "output_type": "execute_result"
    }
   ],
   "source": [
    "#df.info()\n",
    "df"
   ]
  },
  {
   "cell_type": "code",
   "execution_count": 22,
   "id": "a42af228",
   "metadata": {
    "id": "a42af228"
   },
   "outputs": [
    {
     "data": {
      "text/plain": [
       "['vin',\n",
       " 'stockNum',\n",
       " 'firstSeen',\n",
       " 'lastSeen',\n",
       " 'msrp',\n",
       " 'askPrice',\n",
       " 'mileage',\n",
       " 'isNew',\n",
       " 'color',\n",
       " 'interiorColor',\n",
       " 'brandName',\n",
       " 'modelName',\n",
       " 'dealerID',\n",
       " 'vf_ABS',\n",
       " 'vf_ActiveSafetySysNote',\n",
       " 'vf_AdaptiveCruiseControl',\n",
       " 'vf_AdaptiveDrivingBeam',\n",
       " 'vf_AdaptiveHeadlights',\n",
       " 'vf_AdditionalErrorText',\n",
       " 'vf_AirBagLocCurtain',\n",
       " 'vf_AirBagLocFront',\n",
       " 'vf_AirBagLocKnee',\n",
       " 'vf_AirBagLocSeatCushion',\n",
       " 'vf_AirBagLocSide',\n",
       " 'vf_AutoReverseSystem',\n",
       " 'vf_AutomaticPedestrianAlertingSound',\n",
       " 'vf_AxleConfiguration',\n",
       " 'vf_Axles',\n",
       " 'vf_BasePrice',\n",
       " 'vf_BatteryA',\n",
       " 'vf_BatteryA_to',\n",
       " 'vf_BatteryCells',\n",
       " 'vf_BatteryInfo',\n",
       " 'vf_BatteryKWh',\n",
       " 'vf_BatteryKWh_to',\n",
       " 'vf_BatteryModules',\n",
       " 'vf_BatteryPacks',\n",
       " 'vf_BatteryType',\n",
       " 'vf_BatteryV',\n",
       " 'vf_BatteryV_to',\n",
       " 'vf_BedLengthIN',\n",
       " 'vf_BedType',\n",
       " 'vf_BlindSpotMon',\n",
       " 'vf_BodyCabType',\n",
       " 'vf_BodyClass',\n",
       " 'vf_BrakeSystemDesc',\n",
       " 'vf_BrakeSystemType',\n",
       " 'vf_BusFloorConfigType',\n",
       " 'vf_BusLength',\n",
       " 'vf_BusType',\n",
       " 'vf_CAN_AACN',\n",
       " 'vf_CIB',\n",
       " 'vf_CashForClunkers',\n",
       " 'vf_ChargerLevel',\n",
       " 'vf_ChargerPowerKW',\n",
       " 'vf_CoolingType',\n",
       " 'vf_CurbWeightLB',\n",
       " 'vf_CustomMotorcycleType',\n",
       " 'vf_DaytimeRunningLight',\n",
       " 'vf_DestinationMarket',\n",
       " 'vf_DisplacementCC',\n",
       " 'vf_DisplacementCI',\n",
       " 'vf_DisplacementL',\n",
       " 'vf_Doors',\n",
       " 'vf_DriveType',\n",
       " 'vf_DriverAssist',\n",
       " 'vf_DynamicBrakeSupport',\n",
       " 'vf_EDR',\n",
       " 'vf_ESC',\n",
       " 'vf_EVDriveUnit',\n",
       " 'vf_ElectrificationLevel',\n",
       " 'vf_EngineConfiguration',\n",
       " 'vf_EngineCycles',\n",
       " 'vf_EngineCylinders',\n",
       " 'vf_EngineHP',\n",
       " 'vf_EngineHP_to',\n",
       " 'vf_EngineKW',\n",
       " 'vf_EngineManufacturer',\n",
       " 'vf_EngineModel',\n",
       " 'vf_EntertainmentSystem',\n",
       " 'vf_ForwardCollisionWarning',\n",
       " 'vf_FuelInjectionType',\n",
       " 'vf_FuelTypePrimary',\n",
       " 'vf_FuelTypeSecondary',\n",
       " 'vf_GCWR',\n",
       " 'vf_GCWR_to',\n",
       " 'vf_GVWR',\n",
       " 'vf_GVWR_to',\n",
       " 'vf_KeylessIgnition',\n",
       " 'vf_LaneDepartureWarning',\n",
       " 'vf_LaneKeepSystem',\n",
       " 'vf_LowerBeamHeadlampLightSource',\n",
       " 'vf_Make',\n",
       " 'vf_MakeID',\n",
       " 'vf_Manufacturer',\n",
       " 'vf_ManufacturerId',\n",
       " 'vf_Model',\n",
       " 'vf_ModelID',\n",
       " 'vf_ModelYear',\n",
       " 'vf_MotorcycleChassisType',\n",
       " 'vf_MotorcycleSuspensionType',\n",
       " 'vf_NCSABodyType',\n",
       " 'vf_NCSAMake',\n",
       " 'vf_NCSAMapExcApprovedBy',\n",
       " 'vf_NCSAMapExcApprovedOn',\n",
       " 'vf_NCSAMappingException',\n",
       " 'vf_NCSAModel',\n",
       " 'vf_NCSANote',\n",
       " 'vf_Note',\n",
       " 'vf_OtherBusInfo',\n",
       " 'vf_OtherEngineInfo',\n",
       " 'vf_OtherMotorcycleInfo',\n",
       " 'vf_OtherRestraintSystemInfo',\n",
       " 'vf_OtherTrailerInfo',\n",
       " 'vf_ParkAssist',\n",
       " 'vf_PedestrianAutomaticEmergencyBraking',\n",
       " 'vf_PlantCity',\n",
       " 'vf_PlantCompanyName',\n",
       " 'vf_PlantCountry',\n",
       " 'vf_PlantState',\n",
       " 'vf_PossibleValues',\n",
       " 'vf_Pretensioner',\n",
       " 'vf_RearCrossTrafficAlert',\n",
       " 'vf_RearVisibilitySystem',\n",
       " 'vf_SAEAutomationLevel',\n",
       " 'vf_SAEAutomationLevel_to',\n",
       " 'vf_SeatBeltsAll',\n",
       " 'vf_SeatRows',\n",
       " 'vf_Seats',\n",
       " 'vf_SemiautomaticHeadlampBeamSwitching',\n",
       " 'vf_Series',\n",
       " 'vf_Series2',\n",
       " 'vf_SteeringLocation',\n",
       " 'vf_SuggestedVIN',\n",
       " 'vf_TPMS',\n",
       " 'vf_TopSpeedMPH',\n",
       " 'vf_TrackWidth',\n",
       " 'vf_TractionControl',\n",
       " 'vf_TrailerBodyType',\n",
       " 'vf_TrailerLength',\n",
       " 'vf_TrailerType',\n",
       " 'vf_TransmissionSpeeds',\n",
       " 'vf_TransmissionStyle',\n",
       " 'vf_Trim',\n",
       " 'vf_Trim2',\n",
       " 'vf_Turbo',\n",
       " 'vf_VIN',\n",
       " 'vf_ValveTrainDesign',\n",
       " 'vf_VehicleType',\n",
       " 'vf_WheelBaseLong',\n",
       " 'vf_WheelBaseShort',\n",
       " 'vf_WheelBaseType',\n",
       " 'vf_WheelSizeFront',\n",
       " 'vf_WheelSizeRear',\n",
       " 'vf_Wheels',\n",
       " 'vf_Windows']"
      ]
     },
     "execution_count": 22,
     "metadata": {},
     "output_type": "execute_result"
    }
   ],
   "source": [
    "df.columns"
   ]
  },
  {
   "cell_type": "code",
   "execution_count": 23,
   "id": "8909407b",
   "metadata": {
    "id": "8909407b",
    "scrolled": true
   },
   "outputs": [
    {
     "name": "stdout",
     "output_type": "stream",
     "text": [
      "+--------------------+--------+-------------------+-------------------+-----+--------+-------+-----+--------------------+-------------+----------+---------------+--------+--------+----------------------+------------------------+----------------------+---------------------+----------------------+-------------------+--------------------+--------------------+-----------------------+--------------------+--------------------+-----------------------------------+--------------------+--------+------------+-----------+--------------+---------------+--------------+-------------+----------------+-----------------+---------------+--------------+-----------+--------------+--------------+--------------+---------------+--------------------+--------------------+------------------+------------------+---------------------+------------+--------------+-----------+--------+------------------+---------------+-----------------+--------------+---------------+-----------------------+----------------------+--------------------+-----------------+-----------------+----------------+--------+--------------------+---------------+----------------------+------+--------+--------------+-----------------------+----------------------+---------------+------------------+-----------+--------------+-----------+---------------------+--------------------+----------------------+--------------------------+--------------------+--------------------+--------------------+-------+----------+--------------------+----------+------------------+-----------------------+-----------------+-------------------------------+----------+---------+--------------------+-----------------+---------------+----------+------------+------------------------+---------------------------+---------------+-----------+-----------------------+-----------------------+-----------------------+------------+-----------+--------------------+---------------+------------------+----------------------+---------------------------+-------------------+-------------+--------------------------------------+------------------+--------------------+-------------------+---------------+-----------------+---------------+------------------------+-----------------------+---------------------+------------------------+---------------+-----------+--------+-------------------------------------+---------------+----------+--------------------+---------------+-------+--------------+-------------+------------------+------------------+----------------+--------------+---------------------+--------------------+--------------------+--------+--------+--------------------+--------------------+--------------------+----------------+-----------------+----------------+-----------------+----------------+---------+----------+\n",
      "|                 vin|stockNum|          firstSeen|           lastSeen| msrp|askPrice|mileage|isNew|               color|interiorColor| brandName|      modelName|dealerID|  vf_ABS|vf_ActiveSafetySysNote|vf_AdaptiveCruiseControl|vf_AdaptiveDrivingBeam|vf_AdaptiveHeadlights|vf_AdditionalErrorText|vf_AirBagLocCurtain|   vf_AirBagLocFront|    vf_AirBagLocKnee|vf_AirBagLocSeatCushion|    vf_AirBagLocSide|vf_AutoReverseSystem|vf_AutomaticPedestrianAlertingSound|vf_AxleConfiguration|vf_Axles|vf_BasePrice|vf_BatteryA|vf_BatteryA_to|vf_BatteryCells|vf_BatteryInfo|vf_BatteryKWh|vf_BatteryKWh_to|vf_BatteryModules|vf_BatteryPacks|vf_BatteryType|vf_BatteryV|vf_BatteryV_to|vf_BedLengthIN|    vf_BedType|vf_BlindSpotMon|      vf_BodyCabType|        vf_BodyClass|vf_BrakeSystemDesc|vf_BrakeSystemType|vf_BusFloorConfigType|vf_BusLength|    vf_BusType|vf_CAN_AACN|  vf_CIB|vf_CashForClunkers|vf_ChargerLevel|vf_ChargerPowerKW|vf_CoolingType|vf_CurbWeightLB|vf_CustomMotorcycleType|vf_DaytimeRunningLight|vf_DestinationMarket|vf_DisplacementCC|vf_DisplacementCI|vf_DisplacementL|vf_Doors|        vf_DriveType|vf_DriverAssist|vf_DynamicBrakeSupport|vf_EDR|  vf_ESC|vf_EVDriveUnit|vf_ElectrificationLevel|vf_EngineConfiguration|vf_EngineCycles|vf_EngineCylinders|vf_EngineHP|vf_EngineHP_to|vf_EngineKW|vf_EngineManufacturer|      vf_EngineModel|vf_EntertainmentSystem|vf_ForwardCollisionWarning|vf_FuelInjectionType|  vf_FuelTypePrimary|vf_FuelTypeSecondary|vf_GCWR|vf_GCWR_to|             vf_GVWR|vf_GVWR_to|vf_KeylessIgnition|vf_LaneDepartureWarning|vf_LaneKeepSystem|vf_LowerBeamHeadlampLightSource|   vf_Make|vf_MakeID|     vf_Manufacturer|vf_ManufacturerId|       vf_Model|vf_ModelID|vf_ModelYear|vf_MotorcycleChassisType|vf_MotorcycleSuspensionType|vf_NCSABodyType|vf_NCSAMake|vf_NCSAMapExcApprovedBy|vf_NCSAMapExcApprovedOn|vf_NCSAMappingException|vf_NCSAModel|vf_NCSANote|             vf_Note|vf_OtherBusInfo|vf_OtherEngineInfo|vf_OtherMotorcycleInfo|vf_OtherRestraintSystemInfo|vf_OtherTrailerInfo|vf_ParkAssist|vf_PedestrianAutomaticEmergencyBraking|      vf_PlantCity| vf_PlantCompanyName|    vf_PlantCountry|  vf_PlantState|vf_PossibleValues|vf_Pretensioner|vf_RearCrossTrafficAlert|vf_RearVisibilitySystem|vf_SAEAutomationLevel|vf_SAEAutomationLevel_to|vf_SeatBeltsAll|vf_SeatRows|vf_Seats|vf_SemiautomaticHeadlampBeamSwitching|      vf_Series|vf_Series2| vf_SteeringLocation|vf_SuggestedVIN|vf_TPMS|vf_TopSpeedMPH|vf_TrackWidth|vf_TractionControl|vf_TrailerBodyType|vf_TrailerLength|vf_TrailerType|vf_TransmissionSpeeds|vf_TransmissionStyle|             vf_Trim|vf_Trim2|vf_Turbo|              vf_VIN| vf_ValveTrainDesign|      vf_VehicleType|vf_WheelBaseLong|vf_WheelBaseShort|vf_WheelBaseType|vf_WheelSizeFront|vf_WheelSizeRear|vf_Wheels|vf_Windows|\n",
      "+--------------------+--------+-------------------+-------------------+-----+--------+-------+-----+--------------------+-------------+----------+---------------+--------+--------+----------------------+------------------------+----------------------+---------------------+----------------------+-------------------+--------------------+--------------------+-----------------------+--------------------+--------------------+-----------------------------------+--------------------+--------+------------+-----------+--------------+---------------+--------------+-------------+----------------+-----------------+---------------+--------------+-----------+--------------+--------------+--------------+---------------+--------------------+--------------------+------------------+------------------+---------------------+------------+--------------+-----------+--------+------------------+---------------+-----------------+--------------+---------------+-----------------------+----------------------+--------------------+-----------------+-----------------+----------------+--------+--------------------+---------------+----------------------+------+--------+--------------+-----------------------+----------------------+---------------+------------------+-----------+--------------+-----------+---------------------+--------------------+----------------------+--------------------------+--------------------+--------------------+--------------------+-------+----------+--------------------+----------+------------------+-----------------------+-----------------+-------------------------------+----------+---------+--------------------+-----------------+---------------+----------+------------+------------------------+---------------------------+---------------+-----------+-----------------------+-----------------------+-----------------------+------------+-----------+--------------------+---------------+------------------+----------------------+---------------------------+-------------------+-------------+--------------------------------------+------------------+--------------------+-------------------+---------------+-----------------+---------------+------------------------+-----------------------+---------------------+------------------------+---------------+-----------+--------+-------------------------------------+---------------+----------+--------------------+---------------+-------+--------------+-------------+------------------+------------------+----------------+--------------+---------------------+--------------------+--------------------+--------+--------+--------------------+--------------------+--------------------+----------------+-----------------+----------------+-----------------+----------------+---------+----------+\n",
      "|abc5f0360059cf7b6...|  11701A|2019-05-06 00:00:00|2019-05-06 00:00:00| 1498|    1498|      0|false|                Gray|          N/A|MITSUBISHI| Eclipse Spyder|    7514|    null|                  null|                    null|                  null|                 null|                  null|               null|1st Row (Driver &...|                null|                   null|                null|                null|                               null|                null|    null|        null|       null|          null|           null|          null|         null|            null|             null|           null|          null|       null|          null|          null|Not Applicable|           null|      Not Applicable|Convertible/Cabri...|              null|              null|       Not Applicable|        null|Not Applicable|       null|    null|              null|           null|             null|          null|           null|         Not Applicable|                  null|                null|           3000.0|  183.07123228419|             3.0|       2|                null|           null|                  null|  null|    null|          null|                   null|                  null|           null|              null|       null|          null|       null|                 null|                null|                  null|                      null|Multipoint Fuel I...|                null|                null|   null|      null|                null|      null|              null|                   null|             null|                           null|MITSUBISHI|      481|MITSUBISHI MOTORS...|             1054| Eclipse Spyder|      2321|        2002|          Not Applicable|             Not Applicable|           null|       null|                   null|                   null|                   null|        null|       null|                null|           null|               MPI|                  null|                       null|               null|         null|                                  null|BLOOMINGTON-NORMAL|                null|UNITED STATES (USA)|       ILLINOIS|             null|           null|                    null|                   null|                 null|                    null|         Manual|       null|    null|                                 null|         SPORTS|      null|                null|           null|   null|          null|         null|              null|    Not Applicable|            null|Not Applicable|                 null|                null|                null|    null|    null|abc5f0360059cf7b6...|                null|       PASSENGER CAR|            null|             null|            null|             null|            null|     null|      null|\n",
      "|e24402cc77f6fd2d6...|   9055B|2019-05-06 00:00:00|2019-05-06 00:00:00|10589|   10589|      0|false|         Super Black|          N/A|    NISSAN|         Altima|    7514|    null|                  null|                    null|                  null|                 null|                  null|     1st & 2nd Rows|1st Row (Driver &...|                null|                   null|1st Row (Driver &...|                null|                               null|                null|    null|        null|       null|          null|           null|          null|         null|            null|             null|           null|          null|       null|          null|          null|Not Applicable|           null|      Not Applicable|        Sedan/Saloon|              null|              null|       Not Applicable|        null|Not Applicable|       null|    null|              null|           null|             null|          null|           null|         Not Applicable|                  null|                null|           2500.0|  152.55936023683|             2.5|       4|                 4x2|           null|                  null|  null|    null|          null|                   null|               In-Line|           null|                 4|       null|          null|       null|                 null|                null|                  null|                      null|                null|            Gasoline|                null|   null|      null|                null|      null|              null|                   null|             null|                           null|    NISSAN|      478|NISSAN NORTH AMER...|              997|         Altima|      1904|        2016|          Not Applicable|             Not Applicable|           null|       null|                   null|                   null|                   null|        null|       null|position 6:Model ...|           null|              null|                  null|       2nd row outboard ...|               null|         null|                                  null|            CANTON|Nissan North Amer...|UNITED STATES (USA)|    MISSISSIPPI|             null|           null|                    null|                   null|                 null|                    null|         Manual|       null|    null|                                 null|           null|      null|                null|           null| Direct|          null|         null|              null|    Not Applicable|            null|Not Applicable|                 null|                null|                null|    null|    null|e24402cc77f6fd2d6...|                null|       PASSENGER CAR|            null|             null|            null|             null|            null|     null|      null|\n",
      "|1c5a8dc966b3d3b37...|  11816A|2017-06-03 00:00:00|2019-05-07 00:00:00|11992|    9940|      0|false|               White|          N/A|      FORD|         Escape|    7514|    null|                  null|                    null|                  null|                 null|                  null|               null|1st Row (Driver &...|    Driver Seat Only|                   null|      1st & 2nd Rows|                null|                               null|                null|    null|        null|       null|          null|           null|          null|         null|            null|             null|           null|          null|       null|          null|          null|          null|           null|                null|Sport Utility Veh...|              null|         Hydraulic|       Not Applicable|        null|Not Applicable|       null|    null|              null|           null|             null|          null|           null|         Not Applicable|                  null|                null|           1600.0|   97.63799055157|             1.6|       4|                 4x2|           null|                  null|  null|    null|          null|                   null|               In-Line|           null|                 4|      178.0|          null|   132.7346|                 Ford|                null|                  null|                      null|Stoichiometric ga...|            Gasoline|                null|   null|      null|Class 1C: 4001 - ...|      null|              null|                   null|             null|                           null|      FORD|      460|FORD MOTOR COMPAN...|              976|         Escape|      1798|        2014|          Not Applicable|             Not Applicable|           null|       null|                   null|                   null|                   null|        null|       null|                null|           null|           Ti-VCT |                  null|                       null|               null|         null|                                  null|        LOUISVILLE|Louisville Assembly |UNITED STATES (USA)|       KENTUCKY|             null|           null|                    null|                   null|                 null|                    null|         Manual|       null|    null|                                 null|             SE|      null|                null|           null| Direct|          null|         null|              null|    Not Applicable|            null|Not Applicable|                 null|                null|                null|    null|    null|1c5a8dc966b3d3b37...|                null|MULTIPURPOSE PASS...|            null|             null|            null|             null|            null|     null|      null|\n",
      "|edce23814c88f5a1d...|   11847|2019-05-06 00:00:00|2019-05-07 00:00:00|12387|   12387|      0|false| Silver Ice Metallic|          N/A| CHEVROLET|          Cruze|    7514|Standard|                  null|                    null|              Optional|                 null|                  null|           All Rows|1st Row (Driver &...|1st Row (Driver &...|                   null|      1st & 2nd Rows|            Standard|                               null|                null|       2|     23475.0|       null|          null|           null|          null|         null|            null|             null|           null|          null|       null|          null|          null|Not Applicable|       Optional|      Not Applicable|        Sedan/Saloon|              null|              null|       Not Applicable|        null|Not Applicable|   Standard|    null|              null|           null|             null|          null|           null|         Not Applicable|              Standard|                null|           1400.0|   85.43324173262|             1.4|       4|                null|           null|              Standard|  null|Standard|          null|                   null|               In-Line|           null|                 4|       null|          null|       null|                 GMNA|LE2 -DI: Direct I...|                  null|                  Optional|                null|            Gasoline|                null|   null|      null|                null|      null|          Standard|               Optional|         Optional|                           null| CHEVROLET|      467|  GENERAL MOTORS LLC|              984|          Cruze|      1832|        2017|          Not Applicable|             Not Applicable|           null|       null|                   null|                   null|                   null|        null|       null|                null|           null|              null|                  null|                       null|               null|         null|                                  null|         LORDSTOWN|                GMNA|UNITED STATES (USA)|           OHIO|             null|           null|                    null|               Standard|                 null|                    null|         Manual|          2|       5|                             Standard|        Premier|      null|Left Hand Drive (...|           null| Direct|           130|         null|          Standard|    Not Applicable|            null|Not Applicable|                 null|           Automatic|                null|    null|     Yes|edce23814c88f5a1d...|Dual Overhead Cam...|       PASSENGER CAR|            null|            106.3|            null|               17|              17|        4|         4|\n",
      "|6b4f8c610d14d864f...|    9097|2019-05-06 00:00:00|2019-05-07 00:00:00|41659|   41659|      0| true|      Black Metallic|          N/A|      FORD|          F-150|    7514|Standard|                  null|                    null|              Standard|                 null|                  null|               null|1st Row (Driver &...|                null|                   null|      1st & 2nd Rows|            Standard|                               null|                null|       2|        null|       null|          null|           null|          null|         null|            null|             null|           null|          null|       null|          null|          null|          null|           null|Crew/ Super Crew/...|              Pickup|              null|         Hydraulic|       Not Applicable|        null|Not Applicable|   Standard|Standard|              null|           null|             null|          null|           null|         Not Applicable|              Standard|                null|           5000.0|   305.1187204736|             5.0|    null|4WD/4-Wheel Drive...|           null|              Standard|  null|Standard|          null|                   null|              V-Shaped|           null|                 8|      395.0|          null|   294.5515|                 Ford|             5.0L 4V|           CD + stereo|                  Standard|                null|            Gasoline|                null|   null|      null|Class 2E: 6001 - ...|      null|              null|               Optional|         Optional|                           null|      FORD|      460|FORD MOTOR COMPAN...|              976|          F-150|      1801|        2019|          Not Applicable|             Not Applicable|           null|       null|                   null|                   null|                   null|        null|       null|                null|           null|              null|                  null|                       null|               null|         null|                              Standard|          DEARBORN|            Dearborn|UNITED STATES (USA)|       MICHIGAN|             null|           null|                    null|               Standard|                 null|                    null|         Manual|          2|       6|                             Standard|           null|      null|Left Hand Drive (...|           null| Direct|          null|         null|          Standard|    Not Applicable|            null|Not Applicable|                 null|           Automatic|                null|    null|    null|6b4f8c610d14d864f...|                null|              TRUCK |           156.8|            145.0|            null|               17|              17|        4|      null|\n",
      "|7a7752d920ebee107...|   11712|2019-05-07 00:00:00|2019-05-07 00:00:00|12970|   12970|      0|false|      Lightning Blue|          N/A|      FORD|         Fusion|    7514|Standard|                  null|                Optional|              Optional|                 null|                  null|               null|1st Row (Driver &...|1st Row (Driver &...|                   null|      1st & 2nd Rows|            Standard|                           Standard|                null|       2|     26500.0|       null|          null|           null|          null|         null|            null|             null|           null|          null|       null|          null|          null|Not Applicable|       Optional|      Not Applicable|        Sedan/Saloon|              null|              null|       Not Applicable|        null|Not Applicable|   Standard|Optional|              null|           null|             null|          null|           null|         Not Applicable|              Standard|                null|           2000.0|  122.04748818946|             2.0|       4|                null|           null|              Standard|  null|Standard|          null|   Strong HEV (Hybri...|               In-Line|           null|                 4|      188.0|          null|   140.1916|                 Ford|    2.0L 4V AtK HEV |                  null|                  Optional|                null|            Gasoline|            Electric|   null|      null|                null|      null|          Optional|               Optional|         Optional|                           null|      FORD|      460|FORD MOTOR COMPAN...|              979|         Fusion|      1780|        2017|          Not Applicable|             Not Applicable|           null|       null|                   null|                   null|                   null|        null|       null|                null|           null|              null|                  null|                       null|               null|         null|                              Optional|        HERMOSILLO|          Hermosillo|             MEXICO|           null|             null|           null|                    null|               Standard|                 null|                    null|         Manual|          2|       5|                             Standard|     SE Hybrid |      null|Left Hand Drive (...|           null| Direct|           105|         null|          Standard|    Not Applicable|            null|Not Applicable|                 null|                null|                null|    null|    null|7a7752d920ebee107...|                null|       PASSENGER CAR|            null|            112.2|            null|               17|              17|        4|      null|\n",
      "|ec634358248242175...|   8677A|2019-05-07 00:00:00|2019-05-07 00:00:00|15218|   15218|      0|false|               White|          N/A|      FORD|         Escape|    7514|Standard|  My Key Tech Hill ...|                    null|                  null|                 null|                  null|               null|1st Row (Driver &...|    Driver Seat Only|                   null|      1st & 2nd Rows|            Standard|                               null|                null|       2|     23940.0|       null|          null|           null|          null|         null|            null|             null|           null|          null|       null|          null|          null|          null|           null|                null|Sport Utility Veh...|              null|         Hydraulic|       Not Applicable|        null|Not Applicable|   Standard|    null|              null|           null|             null|          null|           null|         Not Applicable|              Standard|                null|           2500.0|  152.55936023683|             2.5|       4|                 4x2|           null|              Standard|  null|Standard|          null|                   null|               In-Line|           null|                 4|      171.0|          null|   127.5147|                 Ford|          2.5L I-VCT|                  null|                      null|                null|            Gasoline|Flexible Fuel Veh...|   null|      null|Class 1C: 4001 - ...|      null|              null|                   null|             null|                           null|      FORD|      460|FORD MOTOR COMPAN...|              976|         Escape|      1798|        2018|          Not Applicable|             Not Applicable|           null|       null|                   null|                   null|                   null|        null|       null|                null|           null|              null|                  null|                       null|               null|         null|                                  null|        LOUISVILLE|Louisville Assembly |UNITED STATES (USA)|       KENTUCKY|             null|           null|                    null|               Standard|                 null|                    null|         Manual|          2|       5|                             Standard|              S|      null|Left Hand Drive (...|           null| Direct|           114|         null|          Standard|    Not Applicable|            null|Not Applicable|                    6|           Automatic|                null|    null|    null|ec634358248242175...|                null|MULTIPURPOSE PASS...|            null|            105.9|            null|               17|              17|        4|      null|\n",
      "|f64e8bdce175d66b9...|   11814|2019-05-07 00:00:00|2019-05-07 00:00:00|18755|   18755|      0|false|                Gray|          N/A|      FORD|           Flex|    7514|Standard|  Cross-traffic Ale...|                Optional|                  null|                 null|                  null|               null|1st Row (Driver &...|                null|                   null|1st & 2nd & 3rd Rows|            Standard|                               null|                null|       2|     38495.0|       null|          null|           null|          null|         null|            null|             null|           null|          null|       null|          null|          null|          null|       Standard|                null|Sport Utility Veh...|              null|         Hydraulic|       Not Applicable|        null|Not Applicable|   Standard|Optional|              null|           null|             null|          null|           null|         Not Applicable|              Standard|                null|           3500.0|  213.58310433156|             3.5|       4|FWD/Front Wheel D...|           null|              Standard|  null|Standard|          null|                   null|              V-Shaped|           null|                 6|      287.0|          null|   214.0159|                 Ford|                null|                  null|                  Optional|                null|            Gasoline|                null|   null|      null|Class 1D: 5001 - ...|      null|          Standard|                   null|             null|                           null|      FORD|      460|FORD MOTOR COMPAN...|              977|           Flex|      1802|        2018|          Not Applicable|             Not Applicable|           null|       null|                   null|                   null|                   null|        null|       null|                null|           null|              null|                  null|                       null|               null|     Optional|                                  null|          OAKVILLE|   Oakville Assembly|             CANADA|        ONTARIO|             null|           null|                    null|               Standard|                 null|                    null|         Manual|       null|       7|                             Standard|        Limited|      null|Left Hand Drive (...|           null| Direct|          null|         null|          Standard|    Not Applicable|            null|Not Applicable|                    6|           Automatic|                null|    null|    null|f64e8bdce175d66b9...|                null|MULTIPURPOSE PASS...|            null|            117.9|            null|               19|              19|        4|      null|\n",
      "|45c4fc09de25f741e...|   11681|2019-05-07 00:00:00|2019-05-07 00:00:00|36999|   36999|      0|false|                 Red|          N/A|      FORD|       Explorer|    7514|Standard|  Cross-traffic Ale...|                Optional|              Optional|                 null|                  null|               null|1st Row (Driver &...| Passenger Seat Only|                   null|1st & 2nd & 3rd Rows|            Standard|                               null|                null|       2|     34175.0|       null|          null|           null|          null|         null|            null|             null|           null|          null|       null|          null|          null|          null|       Optional|                null|Sport Utility Veh...|              null|         Hydraulic|       Not Applicable|        null|Not Applicable|   Standard|Optional|              null|           null|             null|          null|           null|         Not Applicable|              Standard|                null|           3500.0|  213.58310433156|             3.5|       4|4WD/4-Wheel Drive...|           null|              Standard|  null|Standard|          null|                   null|              V-Shaped|           null|                 6|      290.0|          null|    216.253|                 Ford|         3.5L Ti-VCT|                  null|                  Optional|                null|            Gasoline|                null|   null|      null|Class 2E: 6001 - ...|      null|          Standard|               Optional|         Optional|                           null|      FORD|      460|FORD MOTOR COMPAN...|              976|       Explorer|      1800|        2018|          Not Applicable|             Not Applicable|           null|       null|                   null|                   null|                   null|        null|       null|                null|           null|              null|                  null|                       null|               null|         null|                                  null|           CHICAGO|   Chicago Assembly |UNITED STATES (USA)|       ILLINOIS|             null|           null|                    null|               Standard|                 null|                    null|         Manual|          3|       7|                             Standard|            XLT|      null|Left Hand Drive (...|           null| Direct|           122|         null|          Standard|    Not Applicable|            null|Not Applicable|                    6|           Automatic|                null|    null|    null|45c4fc09de25f741e...|                null|MULTIPURPOSE PASS...|            null|            112.8|            null|               18|              18|        4|      null|\n",
      "|d1795f984bd6e4364...|    9038|2019-05-06 00:00:00|2019-05-08 00:00:00|18276|   18276|      0| true|Lightning Blue Me...|          N/A|      FORD|         Escape|    7514|Standard|                  null|                    null|                  null|                 null|                  null|               null|1st Row (Driver &...|    Driver Seat Only|                   null|      1st & 2nd Rows|            Standard|                               null|                null|       2|     24105.0|       null|          null|           null|          null|         null|            null|             null|           null|          null|       null|          null|          null|          null|           null|                null|Sport Utility Veh...|              null|         Hydraulic|       Not Applicable|        null|Not Applicable|   Standard|    null|              null|           null|             null|          null|           null|         Not Applicable|              Standard|                null|           2500.0|  152.55936023683|             2.5|       4|                 4x2|           null|              Standard|  null|Standard|          null|                   null|               In-Line|           null|                 4|      171.0|          null|   127.5147|                 Ford|          2.5L I-VCT|                  null|                      null|                null|            Gasoline|Flexible Fuel Veh...|   null|      null|Class 1C: 4001 - ...|      null|              null|                   null|             null|                           null|      FORD|      460|FORD MOTOR COMPAN...|              976|         Escape|      1798|        2019|          Not Applicable|             Not Applicable|           null|       null|                   null|                   null|                   null|        null|       null|                null|           null|              null|                  null|                       null|               null|         null|                                  null|        LOUISVILLE|Louisville Assembly |UNITED STATES (USA)|       KENTUCKY|             null|           null|                    null|               Standard|                 null|                    null|         Manual|          2|       5|                             Standard|              S|      null|Left Hand Drive (...|           null| Direct|          null|         null|          Standard|    Not Applicable|            null|Not Applicable|                 null|                null|                null|    null|    null|d1795f984bd6e4364...|                null|MULTIPURPOSE PASS...|            null|            105.9|            null|               17|              17|        4|      null|\n",
      "|6e2afe5b217193bb3...|    9118|2019-05-06 00:00:00|2019-05-08 00:00:00|22140|   22140|      0| true|               Black|          N/A|      FORD|         Escape|    7514|Standard|                  null|                Optional|              Optional|                 null|                  null|               null|1st Row (Driver &...|    Driver Seat Only|                   null|      1st & 2nd Rows|            Standard|                               null|                null|       2|     28000.0|       null|          null|           null|          null|         null|            null|             null|           null|          null|       null|          null|          null|          null|       Optional|                null|Sport Utility Veh...|              null|         Hydraulic|       Not Applicable|        null|Not Applicable|   Standard|    null|              null|           null|             null|          null|           null|         Not Applicable|              Standard|                null|           1500.0|   91.53561614209|             1.5|       4|4WD/4-Wheel Drive...|           null|              Standard|  null|Standard|          null|                   null|               In-Line|           null|                 4|      170.0|          null|    126.769|                 Ford|1.5L GTDI Sigma w...|                  null|                  Optional|Stoichiometric ga...|            Gasoline|                null|   null|      null|Class 1C: 4001 - ...|      null|          Standard|               Optional|         Optional|                           null|      FORD|      460|FORD MOTOR COMPAN...|              976|         Escape|      1798|        2019|          Not Applicable|             Not Applicable|           null|       null|                   null|                   null|                   null|        null|       null|                null|           null|              null|                  null|                       null|               null|         null|                              Optional|        LOUISVILLE|Louisville Assembly |UNITED STATES (USA)|       KENTUCKY|             null|           null|                    null|               Standard|                 null|                    null|         Manual|          2|       5|                             Standard|             SE|      null|Left Hand Drive (...|           null| Direct|          null|         null|          Standard|    Not Applicable|            null|Not Applicable|                 null|                null|                null|    null|    null|6e2afe5b217193bb3...|                null|MULTIPURPOSE PASS...|            null|            105.9|            null|               17|              17|        4|      null|\n",
      "|45c4fc09de25f741e...|   11681|2019-05-06 00:00:00|2019-05-08 00:00:00|    0|       0|      0| true|   Ruby Red Metallic|          N/A|      FORD|       Explorer|    7514|Standard|  Cross-traffic Ale...|                Optional|              Optional|                 null|                  null|               null|1st Row (Driver &...| Passenger Seat Only|                   null|1st & 2nd & 3rd Rows|            Standard|                               null|                null|       2|     34175.0|       null|          null|           null|          null|         null|            null|             null|           null|          null|       null|          null|          null|          null|       Optional|                null|Sport Utility Veh...|              null|         Hydraulic|       Not Applicable|        null|Not Applicable|   Standard|Optional|              null|           null|             null|          null|           null|         Not Applicable|              Standard|                null|           3500.0|  213.58310433156|             3.5|       4|4WD/4-Wheel Drive...|           null|              Standard|  null|Standard|          null|                   null|              V-Shaped|           null|                 6|      290.0|          null|    216.253|                 Ford|         3.5L Ti-VCT|                  null|                  Optional|                null|            Gasoline|                null|   null|      null|Class 2E: 6001 - ...|      null|          Standard|               Optional|         Optional|                           null|      FORD|      460|FORD MOTOR COMPAN...|              976|       Explorer|      1800|        2018|          Not Applicable|             Not Applicable|           null|       null|                   null|                   null|                   null|        null|       null|                null|           null|              null|                  null|                       null|               null|         null|                                  null|           CHICAGO|   Chicago Assembly |UNITED STATES (USA)|       ILLINOIS|             null|           null|                    null|               Standard|                 null|                    null|         Manual|          3|       7|                             Standard|            XLT|      null|Left Hand Drive (...|           null| Direct|           122|         null|          Standard|    Not Applicable|            null|Not Applicable|                    6|           Automatic|                null|    null|    null|45c4fc09de25f741e...|                null|MULTIPURPOSE PASS...|            null|            112.8|            null|               18|              18|        4|      null|\n",
      "|f24a5358ce834ef52...|   8668A|2019-05-07 00:00:00|2019-05-08 00:00:00|14496|   14496|      0|false|        Alpine White|          N/A|      JEEP|       Renegade|    7514|    null|                  null|                    null|                  null|                 null|                  null|               null|1st Row (Driver &...|                null|                   null|      1st & 2nd Rows|                null|                               null|                null|    null|        null|       null|          null|           null|          null|         null|            null|             null|           null|          null|       null|          null|          null|          null|           null|                null|Sport Utility Veh...|              null|         Hydraulic|       Not Applicable|        null|Not Applicable|       null|    null|              null|           null|             null|          null|           null|         Not Applicable|                  null|                null|           2400.0|  146.45698582735|             2.4|       4|FWD/Front Wheel D...|           null|                  null|  null|    null|          null|                   null|                  null|           null|                 4|      184.0|          null|   137.2088|                 null|                null|                  null|                      null|                null|            Gasoline|                null|   null|      null|Class 1C: 4001 - ...|      null|              null|                   null|             null|                           null|      JEEP|      483|    FCA ITALY S.P.A.|             1029|       Renegade|      6160|        2016|          Not Applicable|             Not Applicable|           null|       null|                   null|                   null|                   null|        null|       null|                null|           null|              null|                  null|          Active Seatbelts.|               null|         null|                                  null|             MELFI|                null|              ITALY|           null|             null|            Yes|                    null|                   null|                 null|                    null|         Manual|       null|    null|                                 null|           null|      null|Left Hand Drive (...|           null| Direct|          null|         null|              null|    Not Applicable|            null|Not Applicable|                 null|                null|Latitude (US-Mex....|    null|      No|f24a5358ce834ef52...|                null|MULTIPURPOSE PASS...|            null|             null|            null|             null|            null|     null|      null|\n",
      "|d719f73e9f670abb6...|   9115A|2019-05-06 00:00:00|2019-05-09 00:00:00|10222|   10222|      0|false|        Oxford White|          N/A|      FORD|         Fiesta|    7514|    null|                  null|                    null|                  null|                 null|                  null|               null|1st Row (Driver &...|    Driver Seat Only|                   null|      1st & 2nd Rows|                null|                               null|                null|    null|        null|       null|          null|           null|          null|         null|            null|             null|           null|          null|       null|          null|          null|Not Applicable|           null|      Not Applicable|        Sedan/Saloon|              null|              null|       Not Applicable|        null|Not Applicable|       null|    null|              null|           null|             null|          null|           null|         Not Applicable|                  null|                null|           1600.0|   97.63799055157|             1.6|       4|                null|           null|                  null|  null|    null|          null|                   null|               In-Line|           null|                 4|      197.0|          null|   146.9029|                 Ford|1.6L Ti-VCT Premi...|                  null|                      null|                null|Flexible Fuel Veh...|                null|   null|      null|                null|      null|              null|                   null|             null|                           null|      FORD|      460|FORD MOTOR COMPAN...|              979|         Fiesta|      3267|        2016|          Not Applicable|             Not Applicable|           null|       null|                   null|                   null|                   null|        null|       null|                null|           null|              null|                  null|                       null|               null|         null|                                  null|        CUAUTITLAN|         Cuautitlan |             MEXICO|           null|             null|           null|                    null|                   null|                 null|                    null|         Manual|       null|    null|                                 null|           null|      null|                null|           null| Direct|          null|         null|              null|    Not Applicable|            null|Not Applicable|                 null|                null|                  SE|    null|    null|d719f73e9f670abb6...|                null|       PASSENGER CAR|            null|             null|            null|             null|            null|     null|      null|\n",
      "|92c36195ba5a48c78...|  11460F|2019-05-07 00:00:00|2019-05-09 00:00:00|20494|   20494|      0|false|               White|          N/A|      FORD|Transit Connect|    7514|Standard|  Cross-traffic Ale...|                    null|                  null|                 null|                  null|               null|1st Row (Driver &...|                null|                   null|1st & 2nd & 3rd Rows|            Standard|                               null|                null|       2|     30530.0|       null|          null|           null|          null|         null|            null|             null|           null|          null|       null|          null|          null|          null|           null|                null|               Wagon|              null|         Hydraulic|       Not Applicable|        null|Not Applicable|   Standard|    null|              null|           null|             null|          null|           null|         Not Applicable|              Optional|                null|           2500.0|  152.55936023683|             2.5|    null|FWD/Front Wheel D...|           null|              Standard|  null|Standard|          null|                   null|               In-Line|           null|                 4|      169.0|          null|   126.0233|                 Ford|       2.5L DOHC PFI|                  null|                      null|                null|            Gasoline|                null|   null|      null|Class 1D: 5001 - ...|      null|          Standard|               Optional|             null|                           null|      FORD|      460|FORD OTOMOTIV SAN...|              986|Transit Connect|      1811|        2018|          Not Applicable|             Not Applicable|           null|       null|                   null|                   null|                   null|        null|       null|                null|           null|              null|                  null|                       null|               null|         null|                                  null|          VALENCIA|Valencia Assembly...|              SPAIN|           null|             null|           null|                    null|               Standard|                 null|                    null|         Manual|          3|       7|                             Standard|       Titanium|      null|Left Hand Drive (...|           null| Direct|          null|         null|          Standard|    Not Applicable|            null|Not Applicable|                    6|           Automatic|                null|    null|    null|92c36195ba5a48c78...|Dual Overhead Cam...|              TRUCK |            null|            120.6|            Long|               16|              16|        4|      null|\n",
      "|e6f56838d9d641177...|    9122|2019-05-06 00:00:00|2019-05-10 00:00:00|47174|   47174|      0| true|                Blue|          N/A|      FORD|          F-150|    7514|Standard|                  null|                    null|              Standard|                 null|                  null|               null|1st Row (Driver &...|                null|                   null|      1st & 2nd Rows|            Standard|                               null|                null|       2|        null|       null|          null|           null|          null|         null|            null|             null|           null|          null|       null|          null|          null|          null|           null|Crew/ Super Crew/...|              Pickup|              null|         Hydraulic|       Not Applicable|        null|Not Applicable|   Standard|Standard|              null|           null|             null|          null|           null|         Not Applicable|              Standard|                null|           5000.0|   305.1187204736|             5.0|    null|4WD/4-Wheel Drive...|           null|              Standard|  null|Standard|          null|                   null|              V-Shaped|           null|                 8|      395.0|          null|   294.5515|                 Ford|             5.0L 4V|           CD + stereo|                  Standard|                null|            Gasoline|                null|   null|      null|Class 2E: 6001 - ...|      null|              null|               Optional|         Optional|                           null|      FORD|      460|FORD MOTOR COMPAN...|              976|          F-150|      1801|        2019|          Not Applicable|             Not Applicable|           null|       null|                   null|                   null|                   null|        null|       null|                null|           null|              null|                  null|                       null|               null|         null|                              Standard|          DEARBORN|            Dearborn|UNITED STATES (USA)|       MICHIGAN|             null|           null|                    null|               Standard|                 null|                    null|         Manual|          2|       6|                             Standard|           null|      null|Left Hand Drive (...|           null| Direct|          null|         null|          Standard|    Not Applicable|            null|Not Applicable|                 null|           Automatic|                null|    null|    null|e6f56838d9d641177...|                null|              TRUCK |           156.8|            145.0|            null|               17|              17|        4|      null|\n",
      "|e7746ad17d68b1200...|    9020|2019-05-06 00:00:00|2019-05-10 00:00:00|19026|   19026|      0| true|            Magnetic|          N/A|      FORD|         Escape|    7514|Standard|                  null|                Optional|              Optional|                 null|                  null|               null|1st Row (Driver &...|    Driver Seat Only|                   null|      1st & 2nd Rows|            Standard|                               null|                null|       2|     26500.0|       null|          null|           null|          null|         null|            null|             null|           null|          null|       null|          null|          null|          null|       Optional|                null|Sport Utility Veh...|              null|         Hydraulic|       Not Applicable|        null|Not Applicable|   Standard|    null|              null|           null|             null|          null|           null|         Not Applicable|              Standard|                null|           1500.0|   91.53561614209|             1.5|       4|                 4x2|           null|              Standard|  null|Standard|          null|                   null|               In-Line|           null|                 4|      170.0|          null|    126.769|                 Ford|1.5L GTDI Sigma w...|                  null|                  Optional|Stoichiometric ga...|            Gasoline|                null|   null|      null|Class 1C: 4001 - ...|      null|          Standard|               Optional|         Optional|                           null|      FORD|      460|FORD MOTOR COMPAN...|              976|         Escape|      1798|        2019|          Not Applicable|             Not Applicable|           null|       null|                   null|                   null|                   null|        null|       null|                null|           null|              null|                  null|                       null|               null|         null|                              Optional|        LOUISVILLE|Louisville Assembly |UNITED STATES (USA)|       KENTUCKY|             null|           null|                    null|               Standard|                 null|                    null|         Manual|          2|       5|                             Standard|             SE|      null|Left Hand Drive (...|           null| Direct|          null|         null|          Standard|    Not Applicable|            null|Not Applicable|                 null|                null|                null|    null|    null|e7746ad17d68b1200...|                null|MULTIPURPOSE PASS...|            null|            105.9|            null|               17|              17|        4|      null|\n",
      "|1aba4319a748b7760...|   9151B|2019-05-10 00:00:00|2019-05-10 00:00:00|    0|       0|      0|false|              Silver|          N/A|      FORD|       Explorer|    7514|    null|                  null|                    null|                  null|                 null|                  null|               null|1st Row (Driver &...| Passenger Seat Only|                   null|1st & 2nd & 3rd Rows|                null|                               null|                null|    null|        null|       null|          null|           null|          null|         null|            null|             null|           null|          null|       null|          null|          null|          null|           null|                null|Sport Utility Veh...|              null|         Hydraulic|       Not Applicable|        null|Not Applicable|       null|    null|              null|           null|             null|          null|           null|         Not Applicable|                  null|                null|           3500.0|  213.58310433156|             3.5|       4|                null|           null|                  null|  null|    null|          null|                   null|              V-Shaped|           null|                 6|      290.0|          null|    216.253|                 Ford|                null|                  null|                      null|                null|            Gasoline|                null|   null|      null|Class 2E: 6001 - ...|      null|              null|                   null|             null|                           null|      FORD|      460|FORD MOTOR COMPAN...|              976|       Explorer|      1800|        2013|          Not Applicable|             Not Applicable|           null|       null|                   null|                   null|                   null|        null|       null|                null|           null|            Ti-VCT|                  null|                       null|               null|         null|                                  null|           CHICAGO|   Chicago Assembly |UNITED STATES (USA)|       ILLINOIS|             null|           null|                    null|                   null|                 null|                    null|         Manual|       null|    null|                                 null|            XLT|      null|                null|           null| Direct|          null|         null|              null|    Not Applicable|            null|Not Applicable|                 null|                null|                null|    null|    null|1aba4319a748b7760...|                null|MULTIPURPOSE PASS...|            null|             null|            null|             null|            null|     null|      null|\n",
      "|0fa9bdce44e8ee19e...|    9062|2019-05-06 00:00:00|2019-05-10 00:00:00|18951|   18951|      0| true|        Ingot Silver|          N/A|      FORD|         Escape|    7514|Standard|                  null|                Optional|              Optional|                 null|                  null|               null|1st Row (Driver &...|    Driver Seat Only|                   null|      1st & 2nd Rows|            Standard|                               null|                null|       2|     26500.0|       null|          null|           null|          null|         null|            null|             null|           null|          null|       null|          null|          null|          null|       Optional|                null|Sport Utility Veh...|              null|         Hydraulic|       Not Applicable|        null|Not Applicable|   Standard|    null|              null|           null|             null|          null|           null|         Not Applicable|              Standard|                null|           1500.0|   91.53561614209|             1.5|       4|                 4x2|           null|              Standard|  null|Standard|          null|                   null|               In-Line|           null|                 4|      170.0|          null|    126.769|                 Ford|1.5L GTDI Sigma w...|                  null|                  Optional|Stoichiometric ga...|            Gasoline|                null|   null|      null|Class 1C: 4001 - ...|      null|          Standard|               Optional|         Optional|                           null|      FORD|      460|FORD MOTOR COMPAN...|              976|         Escape|      1798|        2019|          Not Applicable|             Not Applicable|           null|       null|                   null|                   null|                   null|        null|       null|                null|           null|              null|                  null|                       null|               null|         null|                              Optional|        LOUISVILLE|Louisville Assembly |UNITED STATES (USA)|       KENTUCKY|             null|           null|                    null|               Standard|                 null|                    null|         Manual|          2|       5|                             Standard|             SE|      null|Left Hand Drive (...|           null| Direct|          null|         null|          Standard|    Not Applicable|            null|Not Applicable|                 null|                null|                null|    null|    null|0fa9bdce44e8ee19e...|                null|MULTIPURPOSE PASS...|            null|            105.9|            null|               17|              17|        4|      null|\n",
      "|93a38de3f791a9f76...|   11831|2019-05-07 00:00:00|2019-05-11 00:00:00|16649|   16649|      0|false|          Vice White|          N/A|     DODGE|        Journey|    7514|Standard|  Brake Assist: Sta...|                    null|                  null|                 null|                  null|               null|1st Row (Driver &...|                null|                   null|            All Rows|                null|                               null|                null|       2|     27995.0|       null|          null|           null|          null|         null|            null|             null|           null|          null|       null|          null|          null|          null|           null|                null|Hatchback/Liftbac...|              null|         Hydraulic|       Not Applicable|        null|Not Applicable|       null|    null|              null|           null|             null|          null|           4054|         Not Applicable|                  null|                null|           3600.0|  219.68547874103|             3.6|       4|FWD/Front Wheel D...|           null|                  null|  null|Standard|          null|                   null|              V-Shaped|           null|                 6|      283.0|          null|   211.0331|                  FCA|                null|                  null|                      null|                null|            Gasoline|                null|   null|      null|Class 1D: 5001 - ...|      null|          Standard|                   null|             null|                           null|     DODGE|      476|CHRYSLER DE MEXIC...|             1002|        Journey|      1939|        2018|          Not Applicable|             Not Applicable|           null|       null|                   null|                   null|                   null|        null|       null|Body Type: Hatchb...|           null|              null|                  null|           Active Seat Belt|               null|     Optional|                                  null|            TOLUCA|     Toluca Assembly|             MEXICO|STATE OF MEXICO|             null|           null|                    null|               Standard|                 null|                    null|         Manual|       null|       7|                             Standard|CROSSROAD (MUC)|      null|Left Hand Drive (...|           null| Direct|          null|         null|          Standard|    Not Applicable|            null|Not Applicable|                    4|           Automatic|                  JC|    null|      No|93a38de3f791a9f76...|                null|MULTIPURPOSE PASS...|            null|            113.8|            null|               19|              19|        4|      null|\n",
      "+--------------------+--------+-------------------+-------------------+-----+--------+-------+-----+--------------------+-------------+----------+---------------+--------+--------+----------------------+------------------------+----------------------+---------------------+----------------------+-------------------+--------------------+--------------------+-----------------------+--------------------+--------------------+-----------------------------------+--------------------+--------+------------+-----------+--------------+---------------+--------------+-------------+----------------+-----------------+---------------+--------------+-----------+--------------+--------------+--------------+---------------+--------------------+--------------------+------------------+------------------+---------------------+------------+--------------+-----------+--------+------------------+---------------+-----------------+--------------+---------------+-----------------------+----------------------+--------------------+-----------------+-----------------+----------------+--------+--------------------+---------------+----------------------+------+--------+--------------+-----------------------+----------------------+---------------+------------------+-----------+--------------+-----------+---------------------+--------------------+----------------------+--------------------------+--------------------+--------------------+--------------------+-------+----------+--------------------+----------+------------------+-----------------------+-----------------+-------------------------------+----------+---------+--------------------+-----------------+---------------+----------+------------+------------------------+---------------------------+---------------+-----------+-----------------------+-----------------------+-----------------------+------------+-----------+--------------------+---------------+------------------+----------------------+---------------------------+-------------------+-------------+--------------------------------------+------------------+--------------------+-------------------+---------------+-----------------+---------------+------------------------+-----------------------+---------------------+------------------------+---------------+-----------+--------+-------------------------------------+---------------+----------+--------------------+---------------+-------+--------------+-------------+------------------+------------------+----------------+--------------+---------------------+--------------------+--------------------+--------+--------+--------------------+--------------------+--------------------+----------------+-----------------+----------------+-----------------+----------------+---------+----------+\n",
      "only showing top 20 rows\n",
      "\n"
     ]
    }
   ],
   "source": [
    "df.show()"
   ]
  },
  {
   "cell_type": "code",
   "execution_count": 24,
   "id": "2579a54c",
   "metadata": {
    "id": "2579a54c"
   },
   "outputs": [
    {
     "data": {
      "text/plain": [
       "pyspark.sql.dataframe.DataFrame"
      ]
     },
     "execution_count": 24,
     "metadata": {},
     "output_type": "execute_result"
    }
   ],
   "source": [
    "type(df)"
   ]
  },
  {
   "cell_type": "code",
   "execution_count": 25,
   "id": "fc8a0781",
   "metadata": {
    "id": "fc8a0781"
   },
   "outputs": [
    {
     "data": {
      "text/plain": [
       "[('vin', 'string'),\n",
       " ('stockNum', 'string'),\n",
       " ('firstSeen', 'timestamp'),\n",
       " ('lastSeen', 'timestamp'),\n",
       " ('msrp', 'int'),\n",
       " ('askPrice', 'int'),\n",
       " ('mileage', 'int'),\n",
       " ('isNew', 'boolean'),\n",
       " ('color', 'string'),\n",
       " ('interiorColor', 'string'),\n",
       " ('brandName', 'string'),\n",
       " ('modelName', 'string'),\n",
       " ('dealerID', 'int'),\n",
       " ('vf_ABS', 'string'),\n",
       " ('vf_ActiveSafetySysNote', 'string'),\n",
       " ('vf_AdaptiveCruiseControl', 'string'),\n",
       " ('vf_AdaptiveDrivingBeam', 'string'),\n",
       " ('vf_AdaptiveHeadlights', 'string'),\n",
       " ('vf_AdditionalErrorText', 'string'),\n",
       " ('vf_AirBagLocCurtain', 'string'),\n",
       " ('vf_AirBagLocFront', 'string'),\n",
       " ('vf_AirBagLocKnee', 'string'),\n",
       " ('vf_AirBagLocSeatCushion', 'string'),\n",
       " ('vf_AirBagLocSide', 'string'),\n",
       " ('vf_AutoReverseSystem', 'string'),\n",
       " ('vf_AutomaticPedestrianAlertingSound', 'string'),\n",
       " ('vf_AxleConfiguration', 'string'),\n",
       " ('vf_Axles', 'int'),\n",
       " ('vf_BasePrice', 'double'),\n",
       " ('vf_BatteryA', 'string'),\n",
       " ('vf_BatteryA_to', 'string'),\n",
       " ('vf_BatteryCells', 'string'),\n",
       " ('vf_BatteryInfo', 'string'),\n",
       " ('vf_BatteryKWh', 'string'),\n",
       " ('vf_BatteryKWh_to', 'string'),\n",
       " ('vf_BatteryModules', 'string'),\n",
       " ('vf_BatteryPacks', 'int'),\n",
       " ('vf_BatteryType', 'string'),\n",
       " ('vf_BatteryV', 'int'),\n",
       " ('vf_BatteryV_to', 'string'),\n",
       " ('vf_BedLengthIN', 'int'),\n",
       " ('vf_BedType', 'string'),\n",
       " ('vf_BlindSpotMon', 'string'),\n",
       " ('vf_BodyCabType', 'string'),\n",
       " ('vf_BodyClass', 'string'),\n",
       " ('vf_BrakeSystemDesc', 'string'),\n",
       " ('vf_BrakeSystemType', 'string'),\n",
       " ('vf_BusFloorConfigType', 'string'),\n",
       " ('vf_BusLength', 'string'),\n",
       " ('vf_BusType', 'string'),\n",
       " ('vf_CAN_AACN', 'string'),\n",
       " ('vf_CIB', 'string'),\n",
       " ('vf_CashForClunkers', 'string'),\n",
       " ('vf_ChargerLevel', 'string'),\n",
       " ('vf_ChargerPowerKW', 'string'),\n",
       " ('vf_CoolingType', 'string'),\n",
       " ('vf_CurbWeightLB', 'int'),\n",
       " ('vf_CustomMotorcycleType', 'string'),\n",
       " ('vf_DaytimeRunningLight', 'string'),\n",
       " ('vf_DestinationMarket', 'string'),\n",
       " ('vf_DisplacementCC', 'double'),\n",
       " ('vf_DisplacementCI', 'double'),\n",
       " ('vf_DisplacementL', 'double'),\n",
       " ('vf_Doors', 'int'),\n",
       " ('vf_DriveType', 'string'),\n",
       " ('vf_DriverAssist', 'string'),\n",
       " ('vf_DynamicBrakeSupport', 'string'),\n",
       " ('vf_EDR', 'string'),\n",
       " ('vf_ESC', 'string'),\n",
       " ('vf_EVDriveUnit', 'string'),\n",
       " ('vf_ElectrificationLevel', 'string'),\n",
       " ('vf_EngineConfiguration', 'string'),\n",
       " ('vf_EngineCycles', 'int'),\n",
       " ('vf_EngineCylinders', 'int'),\n",
       " ('vf_EngineHP', 'double'),\n",
       " ('vf_EngineHP_to', 'double'),\n",
       " ('vf_EngineKW', 'double'),\n",
       " ('vf_EngineManufacturer', 'string'),\n",
       " ('vf_EngineModel', 'string'),\n",
       " ('vf_EntertainmentSystem', 'string'),\n",
       " ('vf_ForwardCollisionWarning', 'string'),\n",
       " ('vf_FuelInjectionType', 'string'),\n",
       " ('vf_FuelTypePrimary', 'string'),\n",
       " ('vf_FuelTypeSecondary', 'string'),\n",
       " ('vf_GCWR', 'string'),\n",
       " ('vf_GCWR_to', 'string'),\n",
       " ('vf_GVWR', 'string'),\n",
       " ('vf_GVWR_to', 'string'),\n",
       " ('vf_KeylessIgnition', 'string'),\n",
       " ('vf_LaneDepartureWarning', 'string'),\n",
       " ('vf_LaneKeepSystem', 'string'),\n",
       " ('vf_LowerBeamHeadlampLightSource', 'string'),\n",
       " ('vf_Make', 'string'),\n",
       " ('vf_MakeID', 'int'),\n",
       " ('vf_Manufacturer', 'string'),\n",
       " ('vf_ManufacturerId', 'int'),\n",
       " ('vf_Model', 'string'),\n",
       " ('vf_ModelID', 'int'),\n",
       " ('vf_ModelYear', 'int'),\n",
       " ('vf_MotorcycleChassisType', 'string'),\n",
       " ('vf_MotorcycleSuspensionType', 'string'),\n",
       " ('vf_NCSABodyType', 'string'),\n",
       " ('vf_NCSAMake', 'string'),\n",
       " ('vf_NCSAMapExcApprovedBy', 'string'),\n",
       " ('vf_NCSAMapExcApprovedOn', 'string'),\n",
       " ('vf_NCSAMappingException', 'string'),\n",
       " ('vf_NCSAModel', 'string'),\n",
       " ('vf_NCSANote', 'string'),\n",
       " ('vf_Note', 'string'),\n",
       " ('vf_OtherBusInfo', 'string'),\n",
       " ('vf_OtherEngineInfo', 'string'),\n",
       " ('vf_OtherMotorcycleInfo', 'string'),\n",
       " ('vf_OtherRestraintSystemInfo', 'string'),\n",
       " ('vf_OtherTrailerInfo', 'string'),\n",
       " ('vf_ParkAssist', 'string'),\n",
       " ('vf_PedestrianAutomaticEmergencyBraking', 'string'),\n",
       " ('vf_PlantCity', 'string'),\n",
       " ('vf_PlantCompanyName', 'string'),\n",
       " ('vf_PlantCountry', 'string'),\n",
       " ('vf_PlantState', 'string'),\n",
       " ('vf_PossibleValues', 'string'),\n",
       " ('vf_Pretensioner', 'string'),\n",
       " ('vf_RearCrossTrafficAlert', 'string'),\n",
       " ('vf_RearVisibilitySystem', 'string'),\n",
       " ('vf_SAEAutomationLevel', 'string'),\n",
       " ('vf_SAEAutomationLevel_to', 'string'),\n",
       " ('vf_SeatBeltsAll', 'string'),\n",
       " ('vf_SeatRows', 'int'),\n",
       " ('vf_Seats', 'int'),\n",
       " ('vf_SemiautomaticHeadlampBeamSwitching', 'string'),\n",
       " ('vf_Series', 'string'),\n",
       " ('vf_Series2', 'string'),\n",
       " ('vf_SteeringLocation', 'string'),\n",
       " ('vf_SuggestedVIN', 'string'),\n",
       " ('vf_TPMS', 'string'),\n",
       " ('vf_TopSpeedMPH', 'int'),\n",
       " ('vf_TrackWidth', 'double'),\n",
       " ('vf_TractionControl', 'string'),\n",
       " ('vf_TrailerBodyType', 'string'),\n",
       " ('vf_TrailerLength', 'string'),\n",
       " ('vf_TrailerType', 'string'),\n",
       " ('vf_TransmissionSpeeds', 'int'),\n",
       " ('vf_TransmissionStyle', 'string'),\n",
       " ('vf_Trim', 'string'),\n",
       " ('vf_Trim2', 'string'),\n",
       " ('vf_Turbo', 'string'),\n",
       " ('vf_VIN', 'string'),\n",
       " ('vf_ValveTrainDesign', 'string'),\n",
       " ('vf_VehicleType', 'string'),\n",
       " ('vf_WheelBaseLong', 'double'),\n",
       " ('vf_WheelBaseShort', 'double'),\n",
       " ('vf_WheelBaseType', 'string'),\n",
       " ('vf_WheelSizeFront', 'int'),\n",
       " ('vf_WheelSizeRear', 'int'),\n",
       " ('vf_Wheels', 'int'),\n",
       " ('vf_Windows', 'int')]"
      ]
     },
     "execution_count": 25,
     "metadata": {},
     "output_type": "execute_result"
    }
   ],
   "source": [
    "df.dtypes"
   ]
  },
  {
   "cell_type": "code",
   "execution_count": 26,
   "id": "79e9bad7",
   "metadata": {
    "id": "79e9bad7"
   },
   "outputs": [
    {
     "name": "stdout",
     "output_type": "stream",
     "text": [
      "root\n",
      " |-- vin: string (nullable = true)\n",
      " |-- stockNum: string (nullable = true)\n",
      " |-- firstSeen: timestamp (nullable = true)\n",
      " |-- lastSeen: timestamp (nullable = true)\n",
      " |-- msrp: integer (nullable = true)\n",
      " |-- askPrice: integer (nullable = true)\n",
      " |-- mileage: integer (nullable = true)\n",
      " |-- isNew: boolean (nullable = true)\n",
      " |-- color: string (nullable = true)\n",
      " |-- interiorColor: string (nullable = true)\n",
      " |-- brandName: string (nullable = true)\n",
      " |-- modelName: string (nullable = true)\n",
      " |-- dealerID: integer (nullable = true)\n",
      " |-- vf_ABS: string (nullable = true)\n",
      " |-- vf_ActiveSafetySysNote: string (nullable = true)\n",
      " |-- vf_AdaptiveCruiseControl: string (nullable = true)\n",
      " |-- vf_AdaptiveDrivingBeam: string (nullable = true)\n",
      " |-- vf_AdaptiveHeadlights: string (nullable = true)\n",
      " |-- vf_AdditionalErrorText: string (nullable = true)\n",
      " |-- vf_AirBagLocCurtain: string (nullable = true)\n",
      " |-- vf_AirBagLocFront: string (nullable = true)\n",
      " |-- vf_AirBagLocKnee: string (nullable = true)\n",
      " |-- vf_AirBagLocSeatCushion: string (nullable = true)\n",
      " |-- vf_AirBagLocSide: string (nullable = true)\n",
      " |-- vf_AutoReverseSystem: string (nullable = true)\n",
      " |-- vf_AutomaticPedestrianAlertingSound: string (nullable = true)\n",
      " |-- vf_AxleConfiguration: string (nullable = true)\n",
      " |-- vf_Axles: integer (nullable = true)\n",
      " |-- vf_BasePrice: double (nullable = true)\n",
      " |-- vf_BatteryA: string (nullable = true)\n",
      " |-- vf_BatteryA_to: string (nullable = true)\n",
      " |-- vf_BatteryCells: string (nullable = true)\n",
      " |-- vf_BatteryInfo: string (nullable = true)\n",
      " |-- vf_BatteryKWh: string (nullable = true)\n",
      " |-- vf_BatteryKWh_to: string (nullable = true)\n",
      " |-- vf_BatteryModules: string (nullable = true)\n",
      " |-- vf_BatteryPacks: integer (nullable = true)\n",
      " |-- vf_BatteryType: string (nullable = true)\n",
      " |-- vf_BatteryV: integer (nullable = true)\n",
      " |-- vf_BatteryV_to: string (nullable = true)\n",
      " |-- vf_BedLengthIN: integer (nullable = true)\n",
      " |-- vf_BedType: string (nullable = true)\n",
      " |-- vf_BlindSpotMon: string (nullable = true)\n",
      " |-- vf_BodyCabType: string (nullable = true)\n",
      " |-- vf_BodyClass: string (nullable = true)\n",
      " |-- vf_BrakeSystemDesc: string (nullable = true)\n",
      " |-- vf_BrakeSystemType: string (nullable = true)\n",
      " |-- vf_BusFloorConfigType: string (nullable = true)\n",
      " |-- vf_BusLength: string (nullable = true)\n",
      " |-- vf_BusType: string (nullable = true)\n",
      " |-- vf_CAN_AACN: string (nullable = true)\n",
      " |-- vf_CIB: string (nullable = true)\n",
      " |-- vf_CashForClunkers: string (nullable = true)\n",
      " |-- vf_ChargerLevel: string (nullable = true)\n",
      " |-- vf_ChargerPowerKW: string (nullable = true)\n",
      " |-- vf_CoolingType: string (nullable = true)\n",
      " |-- vf_CurbWeightLB: integer (nullable = true)\n",
      " |-- vf_CustomMotorcycleType: string (nullable = true)\n",
      " |-- vf_DaytimeRunningLight: string (nullable = true)\n",
      " |-- vf_DestinationMarket: string (nullable = true)\n",
      " |-- vf_DisplacementCC: double (nullable = true)\n",
      " |-- vf_DisplacementCI: double (nullable = true)\n",
      " |-- vf_DisplacementL: double (nullable = true)\n",
      " |-- vf_Doors: integer (nullable = true)\n",
      " |-- vf_DriveType: string (nullable = true)\n",
      " |-- vf_DriverAssist: string (nullable = true)\n",
      " |-- vf_DynamicBrakeSupport: string (nullable = true)\n",
      " |-- vf_EDR: string (nullable = true)\n",
      " |-- vf_ESC: string (nullable = true)\n",
      " |-- vf_EVDriveUnit: string (nullable = true)\n",
      " |-- vf_ElectrificationLevel: string (nullable = true)\n",
      " |-- vf_EngineConfiguration: string (nullable = true)\n",
      " |-- vf_EngineCycles: integer (nullable = true)\n",
      " |-- vf_EngineCylinders: integer (nullable = true)\n",
      " |-- vf_EngineHP: double (nullable = true)\n",
      " |-- vf_EngineHP_to: double (nullable = true)\n",
      " |-- vf_EngineKW: double (nullable = true)\n",
      " |-- vf_EngineManufacturer: string (nullable = true)\n",
      " |-- vf_EngineModel: string (nullable = true)\n",
      " |-- vf_EntertainmentSystem: string (nullable = true)\n",
      " |-- vf_ForwardCollisionWarning: string (nullable = true)\n",
      " |-- vf_FuelInjectionType: string (nullable = true)\n",
      " |-- vf_FuelTypePrimary: string (nullable = true)\n",
      " |-- vf_FuelTypeSecondary: string (nullable = true)\n",
      " |-- vf_GCWR: string (nullable = true)\n",
      " |-- vf_GCWR_to: string (nullable = true)\n",
      " |-- vf_GVWR: string (nullable = true)\n",
      " |-- vf_GVWR_to: string (nullable = true)\n",
      " |-- vf_KeylessIgnition: string (nullable = true)\n",
      " |-- vf_LaneDepartureWarning: string (nullable = true)\n",
      " |-- vf_LaneKeepSystem: string (nullable = true)\n",
      " |-- vf_LowerBeamHeadlampLightSource: string (nullable = true)\n",
      " |-- vf_Make: string (nullable = true)\n",
      " |-- vf_MakeID: integer (nullable = true)\n",
      " |-- vf_Manufacturer: string (nullable = true)\n",
      " |-- vf_ManufacturerId: integer (nullable = true)\n",
      " |-- vf_Model: string (nullable = true)\n",
      " |-- vf_ModelID: integer (nullable = true)\n",
      " |-- vf_ModelYear: integer (nullable = true)\n",
      " |-- vf_MotorcycleChassisType: string (nullable = true)\n",
      " |-- vf_MotorcycleSuspensionType: string (nullable = true)\n",
      " |-- vf_NCSABodyType: string (nullable = true)\n",
      " |-- vf_NCSAMake: string (nullable = true)\n",
      " |-- vf_NCSAMapExcApprovedBy: string (nullable = true)\n",
      " |-- vf_NCSAMapExcApprovedOn: string (nullable = true)\n",
      " |-- vf_NCSAMappingException: string (nullable = true)\n",
      " |-- vf_NCSAModel: string (nullable = true)\n",
      " |-- vf_NCSANote: string (nullable = true)\n",
      " |-- vf_Note: string (nullable = true)\n",
      " |-- vf_OtherBusInfo: string (nullable = true)\n",
      " |-- vf_OtherEngineInfo: string (nullable = true)\n",
      " |-- vf_OtherMotorcycleInfo: string (nullable = true)\n",
      " |-- vf_OtherRestraintSystemInfo: string (nullable = true)\n",
      " |-- vf_OtherTrailerInfo: string (nullable = true)\n",
      " |-- vf_ParkAssist: string (nullable = true)\n",
      " |-- vf_PedestrianAutomaticEmergencyBraking: string (nullable = true)\n",
      " |-- vf_PlantCity: string (nullable = true)\n",
      " |-- vf_PlantCompanyName: string (nullable = true)\n",
      " |-- vf_PlantCountry: string (nullable = true)\n",
      " |-- vf_PlantState: string (nullable = true)\n",
      " |-- vf_PossibleValues: string (nullable = true)\n",
      " |-- vf_Pretensioner: string (nullable = true)\n",
      " |-- vf_RearCrossTrafficAlert: string (nullable = true)\n",
      " |-- vf_RearVisibilitySystem: string (nullable = true)\n",
      " |-- vf_SAEAutomationLevel: string (nullable = true)\n",
      " |-- vf_SAEAutomationLevel_to: string (nullable = true)\n",
      " |-- vf_SeatBeltsAll: string (nullable = true)\n",
      " |-- vf_SeatRows: integer (nullable = true)\n",
      " |-- vf_Seats: integer (nullable = true)\n",
      " |-- vf_SemiautomaticHeadlampBeamSwitching: string (nullable = true)\n",
      " |-- vf_Series: string (nullable = true)\n",
      " |-- vf_Series2: string (nullable = true)\n",
      " |-- vf_SteeringLocation: string (nullable = true)\n",
      " |-- vf_SuggestedVIN: string (nullable = true)\n",
      " |-- vf_TPMS: string (nullable = true)\n",
      " |-- vf_TopSpeedMPH: integer (nullable = true)\n",
      " |-- vf_TrackWidth: double (nullable = true)\n",
      " |-- vf_TractionControl: string (nullable = true)\n",
      " |-- vf_TrailerBodyType: string (nullable = true)\n",
      " |-- vf_TrailerLength: string (nullable = true)\n",
      " |-- vf_TrailerType: string (nullable = true)\n",
      " |-- vf_TransmissionSpeeds: integer (nullable = true)\n",
      " |-- vf_TransmissionStyle: string (nullable = true)\n",
      " |-- vf_Trim: string (nullable = true)\n",
      " |-- vf_Trim2: string (nullable = true)\n",
      " |-- vf_Turbo: string (nullable = true)\n",
      " |-- vf_VIN: string (nullable = true)\n",
      " |-- vf_ValveTrainDesign: string (nullable = true)\n",
      " |-- vf_VehicleType: string (nullable = true)\n",
      " |-- vf_WheelBaseLong: double (nullable = true)\n",
      " |-- vf_WheelBaseShort: double (nullable = true)\n",
      " |-- vf_WheelBaseType: string (nullable = true)\n",
      " |-- vf_WheelSizeFront: integer (nullable = true)\n",
      " |-- vf_WheelSizeRear: integer (nullable = true)\n",
      " |-- vf_Wheels: integer (nullable = true)\n",
      " |-- vf_Windows: integer (nullable = true)\n",
      "\n"
     ]
    }
   ],
   "source": [
    "df.printSchema()"
   ]
  },
  {
   "cell_type": "code",
   "execution_count": 27,
   "id": "68c2f683",
   "metadata": {
    "id": "68c2f683"
   },
   "outputs": [
    {
     "data": {
      "text/plain": [
       "\"columns = ['msrp','askPrice','mileage','isNew','interiorColor','brandName','modelName',\\n  'dealerID','vf_ActiveSafetySysNote','vf_AdaptiveCruiseControl', 'vf_AdaptiveDrivingBeam','vf_AirBagLocCurtain',\\n  'vf_AirBagLocFront','vf_AirBagLocKnee', 'vf_AirBagLocSide','vf_AutoReverseSystem', 'vf_BasePrice','vf_BedType', \\n  'vf_BlindSpotMon', 'vf_BodyCabType','vf_BodyClass','vf_BrakeSystemType','vf_CAN_AACN','vf_CIB','vf_CashForClunkers', \\n  'vf_ChargerLevel','vf_DaytimeRunningLight','vf_DisplacementCC','vf_DisplacementCI','vf_DisplacementL','vf_Doors', \\n  'vf_DriveType','vf_DynamicBrakeSupport','vf_EngineConfiguration','vf_EngineCylinders', 'vf_EngineHP','vf_EngineKW',\\n  'vf_EngineManufacturer','vf_EngineModel', 'vf_ForwardCollisionWarning','vf_FuelInjectionType','vf_FuelTypePrimary',\\n  'vf_GVWR', 'vf_KeylessIgnition', 'vf_LaneDepartureWarning','vf_LaneKeepSystem','vf_Make','vf_MakeID','vf_Manufacturer', \\n  'vf_ManufacturerId','vf_Model','vf_ModelID','vf_ModelYear','vf_Note','vf_OtherEngineInfo','vf_OtherRestraintSystemInfo',\\n  'vf_PedestrianAutomaticEmergencyBraking','vf_PlantCity','vf_PlantCompanyName','vf_PlantCountry','vf_PlantState', \\n  'vf_RearVisibilitySystem','vf_SeatBeltsAll','vf_SeatRows', 'vf_Seats','vf_SemiautomaticHeadlampBeamSwitching','vf_Series',\\n  'vf_SteeringLocation','vf_TPMS','vf_TopSpeedMPH','vf_TractionControl','vf_TrailerLength','vf_TrailerType','vf_TransmissionSpeeds', \\n  'vf_TransmissionStyle','vf_Trim','vf_Turbo','vf_VIN','vf_ValveTrainDesign','vf_VehicleType', 'vf_WheelBaseShort', \\n  'vf_WheelSizeFront', 'vf_WheelSizeRear''vf_Wheels']\""
      ]
     },
     "execution_count": 27,
     "metadata": {},
     "output_type": "execute_result"
    }
   ],
   "source": [
    "'''columns = ['msrp','askPrice','mileage','isNew','interiorColor','brandName','modelName',\n",
    "  'dealerID','vf_ActiveSafetySysNote','vf_AdaptiveCruiseControl', 'vf_AdaptiveDrivingBeam','vf_AirBagLocCurtain',\n",
    "  'vf_AirBagLocFront','vf_AirBagLocKnee', 'vf_AirBagLocSide','vf_AutoReverseSystem', 'vf_BasePrice','vf_BedType', \n",
    "  'vf_BlindSpotMon', 'vf_BodyCabType','vf_BodyClass','vf_BrakeSystemType','vf_CAN_AACN','vf_CIB','vf_CashForClunkers', \n",
    "  'vf_ChargerLevel','vf_DaytimeRunningLight','vf_DisplacementCC','vf_DisplacementCI','vf_DisplacementL','vf_Doors', \n",
    "  'vf_DriveType','vf_DynamicBrakeSupport','vf_EngineConfiguration','vf_EngineCylinders', 'vf_EngineHP','vf_EngineKW',\n",
    "  'vf_EngineManufacturer','vf_EngineModel', 'vf_ForwardCollisionWarning','vf_FuelInjectionType','vf_FuelTypePrimary',\n",
    "  'vf_GVWR', 'vf_KeylessIgnition', 'vf_LaneDepartureWarning','vf_LaneKeepSystem','vf_Make','vf_MakeID','vf_Manufacturer', \n",
    "  'vf_ManufacturerId','vf_Model','vf_ModelID','vf_ModelYear','vf_Note','vf_OtherEngineInfo','vf_OtherRestraintSystemInfo',\n",
    "  'vf_PedestrianAutomaticEmergencyBraking','vf_PlantCity','vf_PlantCompanyName','vf_PlantCountry','vf_PlantState', \n",
    "  'vf_RearVisibilitySystem','vf_SeatBeltsAll','vf_SeatRows', 'vf_Seats','vf_SemiautomaticHeadlampBeamSwitching','vf_Series',\n",
    "  'vf_SteeringLocation','vf_TPMS','vf_TopSpeedMPH','vf_TractionControl','vf_TrailerLength','vf_TrailerType','vf_TransmissionSpeeds', \n",
    "  'vf_TransmissionStyle','vf_Trim','vf_Turbo','vf_VIN','vf_ValveTrainDesign','vf_VehicleType', 'vf_WheelBaseShort', \n",
    "  'vf_WheelSizeFront', 'vf_WheelSizeRear''vf_Wheels']'''"
   ]
  },
  {
   "cell_type": "code",
   "execution_count": 28,
   "id": "128f8407",
   "metadata": {},
   "outputs": [],
   "source": [
    "from pyspark.sql.types import StringType, BooleanType, IntegerType"
   ]
  },
  {
   "cell_type": "code",
   "execution_count": 32,
   "id": "8b770441",
   "metadata": {
    "id": "8b770441"
   },
   "outputs": [],
   "source": [
    "df_pyspark = df.select(['vin','firstseen','lastseen','askPrice','mileage','isNew','brandName','modelName',\n",
    "  'vf_AirBagLocFront','vf_AirBagLocKnee', 'vf_AirBagLocSide','vf_Axles','vf_BasePrice','vf_DisplacementCC','vf_DisplacementCI','vf_DisplacementL','vf_Doors', \n",
    "  'vf_EngineCylinders','vf_EngineHP','vf_EngineKW','vf_SeatRows','vf_Seats','vf_TopSpeedMPH','vf_TransmissionSpeeds','vf_WheelBaseShort','vf_WheelSizeFront','vf_WheelSizeRear','vf_Wheels','vf_Windows','msrp'])"
   ]
  },
  {
   "cell_type": "code",
   "execution_count": 33,
   "id": "e91f2f41",
   "metadata": {},
   "outputs": [
    {
     "data": {
      "text/plain": [
       "DataFrame[vin: string, firstseen: timestamp, lastseen: timestamp, askPrice: int, mileage: int, isNew: boolean, brandName: string, modelName: string, vf_AirBagLocFront: string, vf_AirBagLocKnee: string, vf_AirBagLocSide: string, vf_Axles: int, vf_BasePrice: double, vf_DisplacementCC: double, vf_DisplacementCI: double, vf_DisplacementL: double, vf_Doors: int, vf_EngineCylinders: int, vf_EngineHP: double, vf_EngineKW: double, vf_SeatRows: int, vf_Seats: int, vf_TopSpeedMPH: int, vf_TransmissionSpeeds: int, vf_WheelBaseShort: double, vf_WheelSizeFront: int, vf_WheelSizeRear: int, vf_Wheels: int, vf_Windows: int, msrp: int]"
      ]
     },
     "execution_count": 33,
     "metadata": {},
     "output_type": "execute_result"
    }
   ],
   "source": [
    "df_pyspark"
   ]
  },
  {
   "cell_type": "code",
   "execution_count": 34,
   "id": "cbe1658c",
   "metadata": {
    "id": "cbe1658c"
   },
   "outputs": [],
   "source": [
    "#Q1\n",
    "from pyspark.sql.functions import datediff,col,lit\n",
    "df1 = df_pyspark.withColumn('Time in lot',datediff(df['lastSeen'],df['FirstSeen']))"
   ]
  },
  {
   "cell_type": "code",
   "execution_count": 35,
   "id": "77f95349",
   "metadata": {},
   "outputs": [
    {
     "data": {
      "text/plain": [
       "DataFrame[vin: string, firstseen: timestamp, lastseen: timestamp, askPrice: int, mileage: int, isNew: boolean, brandName: string, modelName: string, vf_AirBagLocFront: string, vf_AirBagLocKnee: string, vf_AirBagLocSide: string, vf_Axles: int, vf_BasePrice: double, vf_DisplacementCC: double, vf_DisplacementCI: double, vf_DisplacementL: double, vf_Doors: int, vf_EngineCylinders: int, vf_EngineHP: double, vf_EngineKW: double, vf_SeatRows: int, vf_Seats: int, vf_TopSpeedMPH: int, vf_TransmissionSpeeds: int, vf_WheelBaseShort: double, vf_WheelSizeFront: int, vf_WheelSizeRear: int, vf_Wheels: int, vf_Windows: int, msrp: int, Time in lot: int]"
      ]
     },
     "execution_count": 35,
     "metadata": {},
     "output_type": "execute_result"
    }
   ],
   "source": [
    "df1"
   ]
  },
  {
   "cell_type": "code",
   "execution_count": 36,
   "id": "3768f81c",
   "metadata": {
    "id": "3768f81c"
   },
   "outputs": [
    {
     "name": "stdout",
     "output_type": "stream",
     "text": [
      "+-----------+\n",
      "|Time in lot|\n",
      "+-----------+\n",
      "|          0|\n",
      "|          0|\n",
      "|        703|\n",
      "|          1|\n",
      "|          1|\n",
      "|          0|\n",
      "|          0|\n",
      "|          0|\n",
      "|          0|\n",
      "|          2|\n",
      "|          2|\n",
      "|          2|\n",
      "|          1|\n",
      "|          3|\n",
      "|          2|\n",
      "|          4|\n",
      "|          4|\n",
      "|          0|\n",
      "|          4|\n",
      "|          4|\n",
      "+-----------+\n",
      "only showing top 20 rows\n",
      "\n"
     ]
    }
   ],
   "source": [
    "df1.select('Time in lot').show()"
   ]
  },
  {
   "cell_type": "code",
   "execution_count": 37,
   "id": "54cc9b70",
   "metadata": {
    "id": "54cc9b70"
   },
   "outputs": [
    {
     "name": "stdout",
     "output_type": "stream",
     "text": [
      "+--------------------+-------------------+-------------------+--------+-------+-----+----------+---------------+--------------------+--------------------+--------------------+--------+------------+-----------------+-----------------+----------------+--------+------------------+-----------+-----------+-----------+--------+--------------+---------------------+-----------------+-----------------+----------------+---------+----------+-----+-----------+\n",
      "|                 vin|          firstseen|           lastseen|askPrice|mileage|isNew| brandName|      modelName|   vf_AirBagLocFront|    vf_AirBagLocKnee|    vf_AirBagLocSide|vf_Axles|vf_BasePrice|vf_DisplacementCC|vf_DisplacementCI|vf_DisplacementL|vf_Doors|vf_EngineCylinders|vf_EngineHP|vf_EngineKW|vf_SeatRows|vf_Seats|vf_TopSpeedMPH|vf_TransmissionSpeeds|vf_WheelBaseShort|vf_WheelSizeFront|vf_WheelSizeRear|vf_Wheels|vf_Windows| msrp|Time in lot|\n",
      "+--------------------+-------------------+-------------------+--------+-------+-----+----------+---------------+--------------------+--------------------+--------------------+--------+------------+-----------------+-----------------+----------------+--------+------------------+-----------+-----------+-----------+--------+--------------+---------------------+-----------------+-----------------+----------------+---------+----------+-----+-----------+\n",
      "|abc5f0360059cf7b6...|2019-05-06 00:00:00|2019-05-06 00:00:00|    1498|      0|false|MITSUBISHI| Eclipse Spyder|1st Row (Driver &...|                null|                null|    null|        null|           3000.0|  183.07123228419|             3.0|       2|              null|       null|       null|       null|    null|          null|                 null|             null|             null|            null|     null|      null| 1498|          0|\n",
      "|e24402cc77f6fd2d6...|2019-05-06 00:00:00|2019-05-06 00:00:00|   10589|      0|false|    NISSAN|         Altima|1st Row (Driver &...|                null|1st Row (Driver &...|    null|        null|           2500.0|  152.55936023683|             2.5|       4|                 4|       null|       null|       null|    null|          null|                 null|             null|             null|            null|     null|      null|10589|          0|\n",
      "|1c5a8dc966b3d3b37...|2017-06-03 00:00:00|2019-05-07 00:00:00|    9940|      0|false|      FORD|         Escape|1st Row (Driver &...|    Driver Seat Only|      1st & 2nd Rows|    null|        null|           1600.0|   97.63799055157|             1.6|       4|                 4|      178.0|   132.7346|       null|    null|          null|                 null|             null|             null|            null|     null|      null|11992|        703|\n",
      "|edce23814c88f5a1d...|2019-05-06 00:00:00|2019-05-07 00:00:00|   12387|      0|false| CHEVROLET|          Cruze|1st Row (Driver &...|1st Row (Driver &...|      1st & 2nd Rows|       2|     23475.0|           1400.0|   85.43324173262|             1.4|       4|                 4|       null|       null|          2|       5|           130|                 null|            106.3|               17|              17|        4|         4|12387|          1|\n",
      "|6b4f8c610d14d864f...|2019-05-06 00:00:00|2019-05-07 00:00:00|   41659|      0| true|      FORD|          F-150|1st Row (Driver &...|                null|      1st & 2nd Rows|       2|        null|           5000.0|   305.1187204736|             5.0|    null|                 8|      395.0|   294.5515|          2|       6|          null|                 null|            145.0|               17|              17|        4|      null|41659|          1|\n",
      "|7a7752d920ebee107...|2019-05-07 00:00:00|2019-05-07 00:00:00|   12970|      0|false|      FORD|         Fusion|1st Row (Driver &...|1st Row (Driver &...|      1st & 2nd Rows|       2|     26500.0|           2000.0|  122.04748818946|             2.0|       4|                 4|      188.0|   140.1916|          2|       5|           105|                 null|            112.2|               17|              17|        4|      null|12970|          0|\n",
      "|ec634358248242175...|2019-05-07 00:00:00|2019-05-07 00:00:00|   15218|      0|false|      FORD|         Escape|1st Row (Driver &...|    Driver Seat Only|      1st & 2nd Rows|       2|     23940.0|           2500.0|  152.55936023683|             2.5|       4|                 4|      171.0|   127.5147|          2|       5|           114|                    6|            105.9|               17|              17|        4|      null|15218|          0|\n",
      "|f64e8bdce175d66b9...|2019-05-07 00:00:00|2019-05-07 00:00:00|   18755|      0|false|      FORD|           Flex|1st Row (Driver &...|                null|1st & 2nd & 3rd Rows|       2|     38495.0|           3500.0|  213.58310433156|             3.5|       4|                 6|      287.0|   214.0159|       null|       7|          null|                    6|            117.9|               19|              19|        4|      null|18755|          0|\n",
      "|45c4fc09de25f741e...|2019-05-07 00:00:00|2019-05-07 00:00:00|   36999|      0|false|      FORD|       Explorer|1st Row (Driver &...| Passenger Seat Only|1st & 2nd & 3rd Rows|       2|     34175.0|           3500.0|  213.58310433156|             3.5|       4|                 6|      290.0|    216.253|          3|       7|           122|                    6|            112.8|               18|              18|        4|      null|36999|          0|\n",
      "|d1795f984bd6e4364...|2019-05-06 00:00:00|2019-05-08 00:00:00|   18276|      0| true|      FORD|         Escape|1st Row (Driver &...|    Driver Seat Only|      1st & 2nd Rows|       2|     24105.0|           2500.0|  152.55936023683|             2.5|       4|                 4|      171.0|   127.5147|          2|       5|          null|                 null|            105.9|               17|              17|        4|      null|18276|          2|\n",
      "|6e2afe5b217193bb3...|2019-05-06 00:00:00|2019-05-08 00:00:00|   22140|      0| true|      FORD|         Escape|1st Row (Driver &...|    Driver Seat Only|      1st & 2nd Rows|       2|     28000.0|           1500.0|   91.53561614209|             1.5|       4|                 4|      170.0|    126.769|          2|       5|          null|                 null|            105.9|               17|              17|        4|      null|22140|          2|\n",
      "|45c4fc09de25f741e...|2019-05-06 00:00:00|2019-05-08 00:00:00|       0|      0| true|      FORD|       Explorer|1st Row (Driver &...| Passenger Seat Only|1st & 2nd & 3rd Rows|       2|     34175.0|           3500.0|  213.58310433156|             3.5|       4|                 6|      290.0|    216.253|          3|       7|           122|                    6|            112.8|               18|              18|        4|      null|    0|          2|\n",
      "|f24a5358ce834ef52...|2019-05-07 00:00:00|2019-05-08 00:00:00|   14496|      0|false|      JEEP|       Renegade|1st Row (Driver &...|                null|      1st & 2nd Rows|    null|        null|           2400.0|  146.45698582735|             2.4|       4|                 4|      184.0|   137.2088|       null|    null|          null|                 null|             null|             null|            null|     null|      null|14496|          1|\n",
      "|d719f73e9f670abb6...|2019-05-06 00:00:00|2019-05-09 00:00:00|   10222|      0|false|      FORD|         Fiesta|1st Row (Driver &...|    Driver Seat Only|      1st & 2nd Rows|    null|        null|           1600.0|   97.63799055157|             1.6|       4|                 4|      197.0|   146.9029|       null|    null|          null|                 null|             null|             null|            null|     null|      null|10222|          3|\n",
      "|92c36195ba5a48c78...|2019-05-07 00:00:00|2019-05-09 00:00:00|   20494|      0|false|      FORD|Transit Connect|1st Row (Driver &...|                null|1st & 2nd & 3rd Rows|       2|     30530.0|           2500.0|  152.55936023683|             2.5|    null|                 4|      169.0|   126.0233|          3|       7|          null|                    6|            120.6|               16|              16|        4|      null|20494|          2|\n",
      "|e6f56838d9d641177...|2019-05-06 00:00:00|2019-05-10 00:00:00|   47174|      0| true|      FORD|          F-150|1st Row (Driver &...|                null|      1st & 2nd Rows|       2|        null|           5000.0|   305.1187204736|             5.0|    null|                 8|      395.0|   294.5515|          2|       6|          null|                 null|            145.0|               17|              17|        4|      null|47174|          4|\n",
      "|e7746ad17d68b1200...|2019-05-06 00:00:00|2019-05-10 00:00:00|   19026|      0| true|      FORD|         Escape|1st Row (Driver &...|    Driver Seat Only|      1st & 2nd Rows|       2|     26500.0|           1500.0|   91.53561614209|             1.5|       4|                 4|      170.0|    126.769|          2|       5|          null|                 null|            105.9|               17|              17|        4|      null|19026|          4|\n",
      "|1aba4319a748b7760...|2019-05-10 00:00:00|2019-05-10 00:00:00|       0|      0|false|      FORD|       Explorer|1st Row (Driver &...| Passenger Seat Only|1st & 2nd & 3rd Rows|    null|        null|           3500.0|  213.58310433156|             3.5|       4|                 6|      290.0|    216.253|       null|    null|          null|                 null|             null|             null|            null|     null|      null|    0|          0|\n",
      "|0fa9bdce44e8ee19e...|2019-05-06 00:00:00|2019-05-10 00:00:00|   18951|      0| true|      FORD|         Escape|1st Row (Driver &...|    Driver Seat Only|      1st & 2nd Rows|       2|     26500.0|           1500.0|   91.53561614209|             1.5|       4|                 4|      170.0|    126.769|          2|       5|          null|                 null|            105.9|               17|              17|        4|      null|18951|          4|\n",
      "|93a38de3f791a9f76...|2019-05-07 00:00:00|2019-05-11 00:00:00|   16649|      0|false|     DODGE|        Journey|1st Row (Driver &...|                null|            All Rows|       2|     27995.0|           3600.0|  219.68547874103|             3.6|       4|                 6|      283.0|   211.0331|       null|       7|          null|                    4|            113.8|               19|              19|        4|      null|16649|          4|\n",
      "+--------------------+-------------------+-------------------+--------+-------+-----+----------+---------------+--------------------+--------------------+--------------------+--------+------------+-----------------+-----------------+----------------+--------+------------------+-----------+-----------+-----------+--------+--------------+---------------------+-----------------+-----------------+----------------+---------+----------+-----+-----------+\n",
      "only showing top 20 rows\n",
      "\n"
     ]
    }
   ],
   "source": [
    "df1.show()"
   ]
  },
  {
   "cell_type": "code",
   "execution_count": 38,
   "id": "8a04bc78",
   "metadata": {
    "id": "8a04bc78"
   },
   "outputs": [
    {
     "data": {
      "text/plain": [
       "9999"
      ]
     },
     "execution_count": 38,
     "metadata": {},
     "output_type": "execute_result"
    }
   ],
   "source": [
    "df1.count()"
   ]
  },
  {
   "cell_type": "code",
   "execution_count": 39,
   "id": "6fe100d6",
   "metadata": {
    "id": "6fe100d6",
    "scrolled": true
   },
   "outputs": [
    {
     "data": {
      "text/plain": [
       "[('vin', 'string'),\n",
       " ('firstseen', 'timestamp'),\n",
       " ('lastseen', 'timestamp'),\n",
       " ('askPrice', 'int'),\n",
       " ('mileage', 'int'),\n",
       " ('isNew', 'boolean'),\n",
       " ('brandName', 'string'),\n",
       " ('modelName', 'string'),\n",
       " ('vf_AirBagLocFront', 'string'),\n",
       " ('vf_AirBagLocKnee', 'string'),\n",
       " ('vf_AirBagLocSide', 'string'),\n",
       " ('vf_Axles', 'int'),\n",
       " ('vf_BasePrice', 'double'),\n",
       " ('vf_DisplacementCC', 'double'),\n",
       " ('vf_DisplacementCI', 'double'),\n",
       " ('vf_DisplacementL', 'double'),\n",
       " ('vf_Doors', 'int'),\n",
       " ('vf_EngineCylinders', 'int'),\n",
       " ('vf_EngineHP', 'double'),\n",
       " ('vf_EngineKW', 'double'),\n",
       " ('vf_SeatRows', 'int'),\n",
       " ('vf_Seats', 'int'),\n",
       " ('vf_TopSpeedMPH', 'int'),\n",
       " ('vf_TransmissionSpeeds', 'int'),\n",
       " ('vf_WheelBaseShort', 'double'),\n",
       " ('vf_WheelSizeFront', 'int'),\n",
       " ('vf_WheelSizeRear', 'int'),\n",
       " ('vf_Wheels', 'int'),\n",
       " ('vf_Windows', 'int'),\n",
       " ('msrp', 'int'),\n",
       " ('Time in lot', 'int')]"
      ]
     },
     "execution_count": 39,
     "metadata": {},
     "output_type": "execute_result"
    }
   ],
   "source": [
    "df1.dtypes"
   ]
  },
  {
   "cell_type": "code",
   "execution_count": 40,
   "id": "d03bb69f",
   "metadata": {},
   "outputs": [
    {
     "data": {
      "text/plain": [
       "[('vin', 'string'),\n",
       " ('askPrice', 'int'),\n",
       " ('mileage', 'int'),\n",
       " ('isNew', 'boolean'),\n",
       " ('brandName', 'string'),\n",
       " ('modelName', 'string'),\n",
       " ('vf_AirBagLocFront', 'string'),\n",
       " ('vf_AirBagLocKnee', 'string'),\n",
       " ('vf_AirBagLocSide', 'string'),\n",
       " ('vf_Axles', 'int'),\n",
       " ('vf_BasePrice', 'double'),\n",
       " ('vf_DisplacementCC', 'double'),\n",
       " ('vf_DisplacementCI', 'double'),\n",
       " ('vf_DisplacementL', 'double'),\n",
       " ('vf_Doors', 'int'),\n",
       " ('vf_EngineCylinders', 'int'),\n",
       " ('vf_EngineHP', 'double'),\n",
       " ('vf_EngineKW', 'double'),\n",
       " ('vf_SeatRows', 'int'),\n",
       " ('vf_Seats', 'int'),\n",
       " ('vf_TopSpeedMPH', 'int'),\n",
       " ('vf_TransmissionSpeeds', 'int'),\n",
       " ('vf_WheelBaseShort', 'double'),\n",
       " ('vf_WheelSizeFront', 'int'),\n",
       " ('vf_WheelSizeRear', 'int'),\n",
       " ('vf_Wheels', 'int'),\n",
       " ('vf_Windows', 'int'),\n",
       " ('msrp', 'int'),\n",
       " ('Time in lot', 'int')]"
      ]
     },
     "execution_count": 40,
     "metadata": {},
     "output_type": "execute_result"
    }
   ],
   "source": [
    "#dropping first seen and last seen columns as we have already added a new column 'Time in Lot' for it\n",
    "df2 = df1.drop(col(\"firstseen\"))\n",
    "df2 = df2.drop(col(\"lastseen\"))\n",
    "df2.dtypes"
   ]
  },
  {
   "cell_type": "code",
   "execution_count": 41,
   "id": "1c1a1fb7",
   "metadata": {
    "id": "1c1a1fb7",
    "scrolled": true
   },
   "outputs": [
    {
     "name": "stderr",
     "output_type": "stream",
     "text": [
      "                                                                                \r"
     ]
    },
    {
     "name": "stdout",
     "output_type": "stream",
     "text": [
      "+-------+--------------------+------------------+------------------+---------+------------------+--------------------+--------------------+--------------------+--------+-----------------+-----------------+-----------------+------------------+-------------------+------------------+-----------------+------------------+-------------------+------------------+------------------+---------------------+------------------+------------------+------------------+-------------------+------------------+------------------+------------------+\n",
      "|summary|                 vin|          askPrice|           mileage|brandName|         modelName|   vf_AirBagLocFront|    vf_AirBagLocKnee|    vf_AirBagLocSide|vf_Axles|     vf_BasePrice|vf_DisplacementCC|vf_DisplacementCI|  vf_DisplacementL|           vf_Doors|vf_EngineCylinders|      vf_EngineHP|       vf_EngineKW|        vf_SeatRows|          vf_Seats|    vf_TopSpeedMPH|vf_TransmissionSpeeds| vf_WheelBaseShort| vf_WheelSizeFront|  vf_WheelSizeRear|          vf_Wheels|        vf_Windows|              msrp|       Time in lot|\n",
      "+-------+--------------------+------------------+------------------+---------+------------------+--------------------+--------------------+--------------------+--------+-----------------+-----------------+-----------------+------------------+-------------------+------------------+-----------------+------------------+-------------------+------------------+------------------+---------------------+------------------+------------------+------------------+-------------------+------------------+------------------+------------------+\n",
      "|  count|                9999|              9999|              9999|     9998|              9995|                9614|                2111|                9045|    3994|             3678|             9966|             9966|              9966|               7128|              9695|             6695|              6695|               3109|              3746|              1902|                 1696|              3536|              3514|              3514|               4138|               235|              9999|              9999|\n",
      "|   mean|                null| 22955.33793379338| 6320.328532853286|     null|1609.7791095890411|                null|                null|                null|     2.0|36063.16204458945|4797.272173786794|292.7561052006703| 4.797513735148326|   3.94486531986532|5.9844249613202685|289.4704770198656|215.54971520836534| 2.2563525249276295| 5.677255739455419|123.88906414300736|    7.076061320754717|115.91787330316743|17.978372225384177|17.978372225384177|  4.000241662638956| 4.093617021276596|23733.083708370836|59.752075207520754|\n",
      "| stddev|                null|15235.056685347567|22770.516908204565|     null| 706.7657261101508|                null|                null|                null|     0.0| 12615.0830108456|14150.20336434486|863.4973427737722|14.150176193197973|0.48887325901473916|1.4962523905175527|84.16461615843923|63.083782139885145|0.46660933561448026|1.1413811450569364|16.333253412450844|    1.453545779502903| 11.61029648874238| 1.402526723290619| 1.402526723290619|0.06021426237702447|0.4233586986743347|16930.018699810367| 89.82195297415414|\n",
      "|    min|0004a1ef6e4dea132...|                 0|                 0|    ACURA|        124 Spider|1st Row (Driver &...|1st Row (Driver &...|1st & 2nd & 3rd Rows|       2|          13005.0|            471.0|     28.742183468|             0.471|                  2|                 2|             49.6|          36.98672|                  1|                 2|                85|                    1|              90.9|                15|                15|                  2|                 4|                 0|                 0|\n",
      "|    max|fffbea84036abbbe6...|             93500|            270326|    VOLVO|            e-Golf|    Driver Seat Only| Passenger Seat Only|    Driver Seat Only|       2|         143600.0|         200000.0| 12204.7488189464|             200.0|                  5|                10|            797.0|          594.3229|                  3|                 8|               200|                   10|             194.4|                22|                22|                  6|                 6|            412623|              1139|\n",
      "+-------+--------------------+------------------+------------------+---------+------------------+--------------------+--------------------+--------------------+--------+-----------------+-----------------+-----------------+------------------+-------------------+------------------+-----------------+------------------+-------------------+------------------+------------------+---------------------+------------------+------------------+------------------+-------------------+------------------+------------------+------------------+\n",
      "\n"
     ]
    }
   ],
   "source": [
    "df2.describe().show()"
   ]
  },
  {
   "cell_type": "code",
   "execution_count": 42,
   "id": "62b8492b",
   "metadata": {},
   "outputs": [
    {
     "name": "stdout",
     "output_type": "stream",
     "text": [
      "+-----+------------+--------+\n",
      "| msrp|vf_BasePrice|askPrice|\n",
      "+-----+------------+--------+\n",
      "| 1498|        null|    1498|\n",
      "|10589|        null|   10589|\n",
      "|11992|        null|    9940|\n",
      "|12387|     23475.0|   12387|\n",
      "|41659|        null|   41659|\n",
      "|12970|     26500.0|   12970|\n",
      "|15218|     23940.0|   15218|\n",
      "|18755|     38495.0|   18755|\n",
      "|36999|     34175.0|   36999|\n",
      "|18276|     24105.0|   18276|\n",
      "|22140|     28000.0|   22140|\n",
      "|    0|     34175.0|       0|\n",
      "|14496|        null|   14496|\n",
      "|10222|        null|   10222|\n",
      "|20494|     30530.0|   20494|\n",
      "|47174|        null|   47174|\n",
      "|19026|     26500.0|   19026|\n",
      "|    0|        null|       0|\n",
      "|18951|     26500.0|   18951|\n",
      "|16649|     27995.0|   16649|\n",
      "+-----+------------+--------+\n",
      "only showing top 20 rows\n",
      "\n"
     ]
    }
   ],
   "source": [
    "df2.select('msrp','vf_BasePrice','askPrice').show()"
   ]
  },
  {
   "cell_type": "code",
   "execution_count": 43,
   "id": "44cdff5a",
   "metadata": {},
   "outputs": [],
   "source": [
    "from pyspark.sql.functions import mean\n",
    "\n",
    "df2 = df2.na.drop(subset=['msrp','vf_BasePrice','askPrice'])"
   ]
  },
  {
   "cell_type": "code",
   "execution_count": 44,
   "id": "3d125d35",
   "metadata": {},
   "outputs": [
    {
     "name": "stdout",
     "output_type": "stream",
     "text": [
      "+-----+------------+--------+\n",
      "| msrp|vf_BasePrice|askPrice|\n",
      "+-----+------------+--------+\n",
      "|12387|     23475.0|   12387|\n",
      "|12970|     26500.0|   12970|\n",
      "|15218|     23940.0|   15218|\n",
      "|18755|     38495.0|   18755|\n",
      "|36999|     34175.0|   36999|\n",
      "|18276|     24105.0|   18276|\n",
      "|22140|     28000.0|   22140|\n",
      "|    0|     34175.0|       0|\n",
      "|20494|     30530.0|   20494|\n",
      "|19026|     26500.0|   19026|\n",
      "|18951|     26500.0|   18951|\n",
      "|16649|     27995.0|   16649|\n",
      "|16671|     30420.0|   16671|\n",
      "|16998|     27995.0|   16998|\n",
      "|20294|     30530.0|   20294|\n",
      "|45996|     63000.0|   45996|\n",
      "|23537|     29995.0|   23537|\n",
      "|12999|     23740.0|   12999|\n",
      "|13398|     23740.0|   13398|\n",
      "|14121|     19995.0|   13692|\n",
      "+-----+------------+--------+\n",
      "only showing top 20 rows\n",
      "\n"
     ]
    }
   ],
   "source": [
    "df2.select('msrp','vf_BasePrice','askPrice').show()"
   ]
  },
  {
   "cell_type": "code",
   "execution_count": 45,
   "id": "103fa146",
   "metadata": {},
   "outputs": [],
   "source": [
    "from pyspark.sql.functions import mean\n",
    "avg = df2.agg({'vf_TopSpeedMPH': 'mean' })\n",
    "df2 = df2.na.fill(value=avg.first()[0],subset=[\"vf_TopSpeedMPH\"])"
   ]
  },
  {
   "cell_type": "code",
   "execution_count": 46,
   "id": "56ba7687",
   "metadata": {
    "scrolled": true
   },
   "outputs": [
    {
     "name": "stdout",
     "output_type": "stream",
     "text": [
      "+--------------+\n",
      "|vf_TopSpeedMPH|\n",
      "+--------------+\n",
      "|           130|\n",
      "|           105|\n",
      "|           114|\n",
      "|           123|\n",
      "|           122|\n",
      "|           123|\n",
      "|           123|\n",
      "|           122|\n",
      "|           123|\n",
      "|           123|\n",
      "|           123|\n",
      "|           123|\n",
      "|           123|\n",
      "|           123|\n",
      "|           123|\n",
      "|           123|\n",
      "|           123|\n",
      "|           155|\n",
      "|           155|\n",
      "|           123|\n",
      "+--------------+\n",
      "only showing top 20 rows\n",
      "\n"
     ]
    }
   ],
   "source": [
    "df2.select('vf_TopSpeedMPH').show()"
   ]
  },
  {
   "cell_type": "code",
   "execution_count": 47,
   "id": "b1a7a75c",
   "metadata": {
    "scrolled": true
   },
   "outputs": [
    {
     "name": "stdout",
     "output_type": "stream",
     "text": [
      "+-----+\n",
      "|isNew|\n",
      "+-----+\n",
      "|    0|\n",
      "|    0|\n",
      "|    0|\n",
      "|    0|\n",
      "|    0|\n",
      "|    1|\n",
      "|    1|\n",
      "|    1|\n",
      "|    0|\n",
      "|    1|\n",
      "|    1|\n",
      "|    0|\n",
      "|    0|\n",
      "|    0|\n",
      "|    0|\n",
      "|    0|\n",
      "|    1|\n",
      "|    0|\n",
      "|    0|\n",
      "|    0|\n",
      "+-----+\n",
      "only showing top 20 rows\n",
      "\n"
     ]
    }
   ],
   "source": [
    "import pyspark.sql.functions as F\n",
    "df3 = df2.withColumn('isNew', F.when(df2['isNew'] == 'FALSE', 0).otherwise(1))\n",
    "df3.select('isNew').show()"
   ]
  },
  {
   "cell_type": "code",
   "execution_count": 48,
   "id": "2582e26c",
   "metadata": {
    "scrolled": true
   },
   "outputs": [
    {
     "name": "stdout",
     "output_type": "stream",
     "text": [
      "+-----------------+\n",
      "|vf_AirBagLocFront|\n",
      "+-----------------+\n",
      "|                2|\n",
      "|                2|\n",
      "|                2|\n",
      "|                2|\n",
      "|                2|\n",
      "|                2|\n",
      "|                2|\n",
      "|                2|\n",
      "|                2|\n",
      "|                2|\n",
      "|                2|\n",
      "|                2|\n",
      "|                2|\n",
      "|                2|\n",
      "|                2|\n",
      "|                2|\n",
      "|                2|\n",
      "|                2|\n",
      "|                2|\n",
      "|                2|\n",
      "|                2|\n",
      "|                2|\n",
      "|                2|\n",
      "|                2|\n",
      "|                2|\n",
      "|                2|\n",
      "|                2|\n",
      "|                2|\n",
      "|                2|\n",
      "|                2|\n",
      "|                2|\n",
      "|                2|\n",
      "|                2|\n",
      "|                2|\n",
      "|                2|\n",
      "|                2|\n",
      "|                2|\n",
      "|                2|\n",
      "|                2|\n",
      "|                2|\n",
      "|                2|\n",
      "|                2|\n",
      "|                2|\n",
      "|                2|\n",
      "|                2|\n",
      "+-----------------+\n",
      "only showing top 45 rows\n",
      "\n"
     ]
    }
   ],
   "source": [
    "#changing vf_AirBagLocFront from string to integer\n",
    "from pyspark.sql.functions import when\n",
    "df4 = df3.withColumn('vf_AirBagLocFront', (when(df3['vf_AirBagLocFront'] == '1st Row (Driver & Passenger)', 2).when(df3['vf_AirBagLocFront'] == 'Driver Seat Only', 1).when(df3['vf_AirBagLocFront'] == 'Passenger Seat Only', 1).when(df3['vf_AirBagLocFront'] == '1st & 2nd Rows', 4).when(df3['vf_AirBagLocFront'] == '1st & 2nd & 3rd Rows', 6).when(df3['vf_AirBagLocFront'] == 'All Rows', 4).otherwise(0)))\n",
    "df4.select('vf_AirBagLocFront').show(45)"
   ]
  },
  {
   "cell_type": "code",
   "execution_count": 49,
   "id": "7e8a6efe",
   "metadata": {},
   "outputs": [
    {
     "name": "stdout",
     "output_type": "stream",
     "text": [
      "+----------------+\n",
      "|vf_AirBagLocSide|\n",
      "+----------------+\n",
      "|               4|\n",
      "|               4|\n",
      "|               4|\n",
      "|               6|\n",
      "|               6|\n",
      "|               4|\n",
      "|               4|\n",
      "|               6|\n",
      "|               6|\n",
      "|               4|\n",
      "|               4|\n",
      "|               4|\n",
      "|               4|\n",
      "|               4|\n",
      "|               6|\n",
      "|               2|\n",
      "|               4|\n",
      "|               4|\n",
      "|               4|\n",
      "|               4|\n",
      "+----------------+\n",
      "only showing top 20 rows\n",
      "\n"
     ]
    }
   ],
   "source": [
    "#changing vf_AirBagLocSide from string to integer\n",
    "df5 = df4.withColumn('vf_AirBagLocSide', (when(df4['vf_AirBagLocSide'] == '1st Row (Driver & Passenger)', 2).when(df4['vf_AirBagLocSide'] == 'Driver Seat Only', 1).when(df4['vf_AirBagLocSide'] == 'Passenger Seat Only', 1).when(df4['vf_AirBagLocSide'] == '1st & 2nd Rows', 4).when(df4['vf_AirBagLocSide'] == '1st & 2nd & 3rd Rows', 6).when(df4['vf_AirBagLocSide'] == 'All Rows', 4).otherwise(0)))\n",
    "df5.select('vf_AirBagLocSide').show()"
   ]
  },
  {
   "cell_type": "code",
   "execution_count": 50,
   "id": "ce3e9f64",
   "metadata": {
    "scrolled": false
   },
   "outputs": [
    {
     "name": "stdout",
     "output_type": "stream",
     "text": [
      "+----------------+\n",
      "|vf_AirBagLocKnee|\n",
      "+----------------+\n",
      "|               2|\n",
      "|               2|\n",
      "|               0|\n",
      "|               0|\n",
      "|               0|\n",
      "|               0|\n",
      "|               0|\n",
      "|               0|\n",
      "|               0|\n",
      "|               0|\n",
      "|               0|\n",
      "|               0|\n",
      "|               2|\n",
      "|               0|\n",
      "|               0|\n",
      "|               0|\n",
      "|               0|\n",
      "|               2|\n",
      "|               2|\n",
      "|               0|\n",
      "+----------------+\n",
      "only showing top 20 rows\n",
      "\n"
     ]
    }
   ],
   "source": [
    "#changing vf_AirBagLocKnee from string to integer\n",
    "df6 = df5.withColumn('vf_AirBagLocKnee', (when(df5['vf_AirBagLocKnee'] == '1st Row (Driver & Passenger)', 2).when(df5['vf_AirBagLocSide'] == 'Driver Seat Only', 1).when(df5['vf_AirBagLocSide'] == 'Passenger Seat Only', 1).when(df5['vf_AirBagLocSide'] == '1st & 2nd Rows', 4).when(df5['vf_AirBagLocSide'] == '1st & 2nd & 3rd Rows', 6).when(df5['vf_AirBagLocSide'] == 'All Rows', 4).otherwise(0)))\n",
    "df6.select('vf_AirBagLocKnee').show()"
   ]
  },
  {
   "cell_type": "code",
   "execution_count": 51,
   "id": "ae0a1152",
   "metadata": {},
   "outputs": [
    {
     "name": "stdout",
     "output_type": "stream",
     "text": [
      "+--------+\n",
      "|vf_Axles|\n",
      "+--------+\n",
      "|       2|\n",
      "|       2|\n",
      "|       2|\n",
      "|       2|\n",
      "|       2|\n",
      "|       2|\n",
      "|       2|\n",
      "|       2|\n",
      "|       2|\n",
      "|       2|\n",
      "|       2|\n",
      "|       2|\n",
      "|       2|\n",
      "|       2|\n",
      "|       2|\n",
      "|       2|\n",
      "|       2|\n",
      "|       2|\n",
      "|       2|\n",
      "|       2|\n",
      "+--------+\n",
      "only showing top 20 rows\n",
      "\n"
     ]
    }
   ],
   "source": [
    "df6.select('vf_Axles').show()"
   ]
  },
  {
   "cell_type": "code",
   "execution_count": 52,
   "id": "5c096ca2",
   "metadata": {
    "scrolled": true
   },
   "outputs": [
    {
     "name": "stdout",
     "output_type": "stream",
     "text": [
      "+--------+\n",
      "|vf_Axles|\n",
      "+--------+\n",
      "|       2|\n",
      "|       2|\n",
      "|       2|\n",
      "|       2|\n",
      "|       2|\n",
      "|       2|\n",
      "|       2|\n",
      "|       2|\n",
      "|       2|\n",
      "|       2|\n",
      "|       2|\n",
      "|       2|\n",
      "|       2|\n",
      "|       2|\n",
      "|       2|\n",
      "|       2|\n",
      "|       2|\n",
      "|       2|\n",
      "|       2|\n",
      "|       2|\n",
      "+--------+\n",
      "only showing top 20 rows\n",
      "\n"
     ]
    }
   ],
   "source": [
    "#vf_Axles - filling null values with average\n",
    "avg_axles = df6.agg({'vf_Axles': 'mean' })\n",
    "df7 = df6.na.fill(value=avg_axles.first()[0],subset=[\"vf_Axles\"])\n",
    "df7.select('vf_Axles').show()"
   ]
  },
  {
   "cell_type": "code",
   "execution_count": 53,
   "id": "b4f4cdb6",
   "metadata": {},
   "outputs": [
    {
     "name": "stdout",
     "output_type": "stream",
     "text": [
      "+------------+\n",
      "|vf_BasePrice|\n",
      "+------------+\n",
      "|     23475.0|\n",
      "|     26500.0|\n",
      "|     23940.0|\n",
      "|     38495.0|\n",
      "|     34175.0|\n",
      "|     24105.0|\n",
      "|     28000.0|\n",
      "|     34175.0|\n",
      "|     30530.0|\n",
      "|     26500.0|\n",
      "|     26500.0|\n",
      "|     27995.0|\n",
      "|     30420.0|\n",
      "|     27995.0|\n",
      "|     30530.0|\n",
      "|     63000.0|\n",
      "|     29995.0|\n",
      "|     23740.0|\n",
      "|     23740.0|\n",
      "|     19995.0|\n",
      "+------------+\n",
      "only showing top 20 rows\n",
      "\n"
     ]
    }
   ],
   "source": [
    "df7.select('vf_BasePrice').show()"
   ]
  },
  {
   "cell_type": "code",
   "execution_count": 54,
   "id": "61e01652",
   "metadata": {
    "scrolled": true
   },
   "outputs": [
    {
     "name": "stdout",
     "output_type": "stream",
     "text": [
      "+------------+\n",
      "|vf_BasePrice|\n",
      "+------------+\n",
      "|     23475.0|\n",
      "|     26500.0|\n",
      "|     23940.0|\n",
      "|     38495.0|\n",
      "|     34175.0|\n",
      "|     24105.0|\n",
      "|     28000.0|\n",
      "|     34175.0|\n",
      "|     30530.0|\n",
      "|     26500.0|\n",
      "|     26500.0|\n",
      "|     27995.0|\n",
      "|     30420.0|\n",
      "|     27995.0|\n",
      "|     30530.0|\n",
      "|     63000.0|\n",
      "|     29995.0|\n",
      "|     23740.0|\n",
      "|     23740.0|\n",
      "|     19995.0|\n",
      "+------------+\n",
      "only showing top 20 rows\n",
      "\n"
     ]
    }
   ],
   "source": [
    "#vf_BasePrice - filling null values with average\n",
    "avg_bprice = df7.agg({'vf_BasePrice': 'mean' })\n",
    "df8 = df7.na.fill(value=int(avg_bprice.first()[0]),subset=[\"vf_BasePrice\"])\n",
    "df8.select('vf_BasePrice').show()"
   ]
  },
  {
   "cell_type": "code",
   "execution_count": 55,
   "id": "fb22400f",
   "metadata": {},
   "outputs": [
    {
     "name": "stdout",
     "output_type": "stream",
     "text": [
      "+-----------------+-----------------+----------------+--------+------------------+------------------+-----------------+-----------+--------+--------------+---------------------+-----------------+-----------------+----------------+---------+----------+\n",
      "|vf_DisplacementCC|vf_DisplacementCI|vf_DisplacementL|vf_Doors|vf_EngineCylinders|       vf_EngineHP|      vf_EngineKW|vf_SeatRows|vf_Seats|vf_TopSpeedMPH|vf_TransmissionSpeeds|vf_WheelBaseShort|vf_WheelSizeFront|vf_WheelSizeRear|vf_Wheels|vf_Windows|\n",
      "+-----------------+-----------------+----------------+--------+------------------+------------------+-----------------+-----------+--------+--------------+---------------------+-----------------+-----------------+----------------+---------+----------+\n",
      "|           1400.0|   85.43324173262|             1.4|       4|                 4|272.26227303295224|202.4157427034285|          2|       5|           130|                    7|            106.3|               17|              17|        4|         4|\n",
      "|           2000.0|  122.04748818946|             2.0|       4|                 4|             188.0|         140.1916|          2|       5|           105|                    7|            112.2|               17|              17|        4|         4|\n",
      "|           2500.0|  152.55936023683|             2.5|       4|                 4|             171.0|         127.5147|          2|       5|           114|                    6|            105.9|               17|              17|        4|         4|\n",
      "|           3500.0|  213.58310433156|             3.5|       4|                 6|             287.0|         214.0159|          2|       7|           123|                    6|            117.9|               19|              19|        4|         4|\n",
      "|           3500.0|  213.58310433156|             3.5|       4|                 6|             290.0|          216.253|          3|       7|           122|                    6|            112.8|               18|              18|        4|         4|\n",
      "|           2500.0|  152.55936023683|             2.5|       4|                 4|             171.0|         127.5147|          2|       5|           123|                    7|            105.9|               17|              17|        4|         4|\n",
      "|           1500.0|   91.53561614209|             1.5|       4|                 4|             170.0|          126.769|          2|       5|           123|                    7|            105.9|               17|              17|        4|         4|\n",
      "|           3500.0|  213.58310433156|             3.5|       4|                 6|             290.0|          216.253|          3|       7|           122|                    6|            112.8|               18|              18|        4|         4|\n",
      "|           2500.0|  152.55936023683|             2.5|       4|                 4|             169.0|         126.0233|          3|       7|           123|                    6|            120.6|               16|              16|        4|         4|\n",
      "|           1500.0|   91.53561614209|             1.5|       4|                 4|             170.0|          126.769|          2|       5|           123|                    7|            105.9|               17|              17|        4|         4|\n",
      "|           1500.0|   91.53561614209|             1.5|       4|                 4|             170.0|          126.769|          2|       5|           123|                    7|            105.9|               17|              17|        4|         4|\n",
      "|           3600.0|  219.68547874103|             3.6|       4|                 6|             283.0|         211.0331|          2|       7|           123|                    4|            113.8|               19|              19|        4|         4|\n",
      "|           2500.0|  152.55936023683|             2.5|       4|                 4|272.26227303295224|202.4157427034285|          2|       5|           123|                    6|            111.7|               18|              18|        4|         4|\n",
      "|           3600.0|  219.68547874103|             3.6|       4|                 6|             283.0|         211.0331|          2|       7|           123|                    4|            113.8|               19|              19|        4|         4|\n",
      "|           2500.0|  152.55936023683|             2.5|       4|                 4|             169.0|         126.0233|          3|       7|           123|                    6|            120.6|               16|              16|        4|         4|\n",
      "|           3000.0|   183.0712322841|             3.0|       4|                 6|             340.0|          253.538|          1|       2|           123|                    8|            103.2|               18|              18|        4|         4|\n",
      "|           2000.0|  122.04748818946|             2.0|       4|                 4|             245.0|         182.6965|          2|       5|           123|                    7|            112.2|               18|              18|        4|         4|\n",
      "|           1500.0|   91.53561614209|             1.5|       4|                 4|             181.0|         134.9717|          2|       5|           155|                    7|            112.2|               17|              17|        4|         4|\n",
      "|           1500.0|   91.53561614209|             1.5|       4|                 4|             181.0|         134.9717|          2|       5|           155|                    7|            112.2|               17|              17|        4|         4|\n",
      "|           2400.0|  146.45698582735|             2.4|       4|                 4|             180.0|          134.226|          2|       5|           123|                    7|            101.2|               16|              16|        4|         4|\n",
      "+-----------------+-----------------+----------------+--------+------------------+------------------+-----------------+-----------+--------+--------------+---------------------+-----------------+-----------------+----------------+---------+----------+\n",
      "only showing top 20 rows\n",
      "\n"
     ]
    }
   ],
   "source": [
    "#vf_DisplacementCI, vf_DisplacementCC, vf_DisplacementL, vf_Doors, vf_EngineCylinders, vf_EngineHP, vf_EngineKW, \n",
    "#vf_SeatRows, vf_Seats, vf_TopSpeedMPH, vf_TransmissionSpeeds, vf_WheelBaseShort, vf_WheelSizeFront, \n",
    "#vf_WheelSizeRear, vf_Wheels, vf_Windows - filling null values with average\n",
    "avg_dcc = df8.agg({'vf_DisplacementCC': 'mean' })\n",
    "df9 = df8.na.fill(value=int(avg_dcc.first()[0]),subset=[\"vf_DisplacementCC\"])\n",
    "avg_dci = df9.agg({'vf_DisplacementCI': 'mean' })\n",
    "df9 = df9.na.fill(value=int(avg_dci.first()[0]),subset=[\"vf_DisplacementCI\"])\n",
    "avg_dl = df9.agg({'vf_DisplacementL': 'mean' })\n",
    "df9 = df9.na.fill(value=int(avg_dl.first()[0]),subset=[\"vf_DisplacementL\"])\n",
    "df9 = df9.na.fill(value=4,subset=['vf_Doors'])\n",
    "avg_cyl = df9.agg({'vf_EngineCylinders': 'mean' })\n",
    "df9 = df9.na.fill(value=int(avg_cyl.first()[0]),subset=[\"vf_EngineCylinders\"])\n",
    "avg_ehp = df9.agg({'vf_EngineHP': 'mean' })\n",
    "df9 = df9.na.fill(value=avg_ehp.first()[0],subset=[\"vf_EngineHP\"])\n",
    "avg_ekw = df9.agg({'vf_EngineKW': 'mean' })\n",
    "df9 = df9.na.fill(value=avg_ekw.first()[0],subset=[\"vf_EngineKW\"])\n",
    "avg_sr = df9.agg({'vf_SeatRows': 'mean' })\n",
    "df9 = df9.na.fill(value=int(avg_sr.first()[0]),subset=[\"vf_SeatRows\"])\n",
    "avg_seats = df9.agg({'vf_Seats': 'mean' })\n",
    "df9 = df9.na.fill(value=int(avg_seats.first()[0]),subset=[\"vf_Seats\"])\n",
    "avg_speed = df9.agg({'vf_TopSpeedMPH': 'mean' })\n",
    "df9 = df9.na.fill(value=int(avg_speed.first()[0]),subset=[\"vf_TopSpeedMPH\"])\n",
    "avg_tspeed = df9.agg({'vf_TransmissionSpeeds': 'mean' })\n",
    "df9 = df9.na.fill(value=int(avg_tspeed.first()[0]),subset=[\"vf_TransmissionSpeeds\"])\n",
    "avg_wbs = df9.agg({'vf_WheelBaseShort': 'mean' })\n",
    "df9 = df9.na.fill(value=avg_wbs.first()[0],subset=[\"vf_WheelBaseShort\"])\n",
    "avg_wsf = df9.agg({'vf_WheelSizeFront': 'mean' })\n",
    "df9 = df9.na.fill(value=int(avg_wsf.first()[0]),subset=[\"vf_WheelSizeFront\"])\n",
    "avg_wsr = df9.agg({'vf_WheelSizeRear': 'mean' })\n",
    "df9 = df9.na.fill(value=int(avg_wsr.first()[0]),subset=[\"vf_WheelSizeRear\"])\n",
    "avg_wheels = df9.agg({'vf_Wheels': 'mean' })\n",
    "df9 = df9.na.fill(value=int(avg_wheels.first()[0]),subset=[\"vf_Wheels\"])\n",
    "df9 = df9.na.fill(value=4,subset=['vf_Windows'])\n",
    "df9.select('vf_DisplacementCC','vf_DisplacementCI','vf_DisplacementL','vf_Doors','vf_EngineCylinders','vf_EngineHP','vf_EngineKW','vf_SeatRows','vf_Seats','vf_TopSpeedMPH','vf_TransmissionSpeeds','vf_WheelBaseShort','vf_WheelSizeFront','vf_WheelSizeRear','vf_Wheels','vf_Windows').show()"
   ]
  },
  {
   "cell_type": "code",
   "execution_count": 56,
   "id": "9f0ed97b",
   "metadata": {},
   "outputs": [
    {
     "data": {
      "text/plain": [
       "[('vin', 'string'),\n",
       " ('askPrice', 'int'),\n",
       " ('mileage', 'int'),\n",
       " ('isNew', 'int'),\n",
       " ('brandName', 'string'),\n",
       " ('modelName', 'string'),\n",
       " ('vf_AirBagLocFront', 'int'),\n",
       " ('vf_AirBagLocKnee', 'int'),\n",
       " ('vf_AirBagLocSide', 'int'),\n",
       " ('vf_Axles', 'int'),\n",
       " ('vf_BasePrice', 'double'),\n",
       " ('vf_DisplacementCC', 'double'),\n",
       " ('vf_DisplacementCI', 'double'),\n",
       " ('vf_DisplacementL', 'double'),\n",
       " ('vf_Doors', 'int'),\n",
       " ('vf_EngineCylinders', 'int'),\n",
       " ('vf_EngineHP', 'double'),\n",
       " ('vf_EngineKW', 'double'),\n",
       " ('vf_SeatRows', 'int'),\n",
       " ('vf_Seats', 'int'),\n",
       " ('vf_TopSpeedMPH', 'int'),\n",
       " ('vf_TransmissionSpeeds', 'int'),\n",
       " ('vf_WheelBaseShort', 'double'),\n",
       " ('vf_WheelSizeFront', 'int'),\n",
       " ('vf_WheelSizeRear', 'int'),\n",
       " ('vf_Wheels', 'int'),\n",
       " ('vf_Windows', 'int'),\n",
       " ('msrp', 'int'),\n",
       " ('Time in lot', 'int')]"
      ]
     },
     "execution_count": 56,
     "metadata": {},
     "output_type": "execute_result"
    }
   ],
   "source": [
    "df9.dtypes\n"
   ]
  },
  {
   "cell_type": "code",
   "execution_count": 57,
   "id": "1c993a45",
   "metadata": {
    "id": "1c993a45",
    "outputId": "51f87cd8-fbf7-4464-c384-28003c936dd5"
   },
   "outputs": [
    {
     "data": {
      "text/html": [
       "<div>\n",
       "<style scoped>\n",
       "    .dataframe tbody tr th:only-of-type {\n",
       "        vertical-align: middle;\n",
       "    }\n",
       "\n",
       "    .dataframe tbody tr th {\n",
       "        vertical-align: top;\n",
       "    }\n",
       "\n",
       "    .dataframe thead th {\n",
       "        text-align: right;\n",
       "    }\n",
       "</style>\n",
       "<table border=\"1\" class=\"dataframe\">\n",
       "  <thead>\n",
       "    <tr style=\"text-align: right;\">\n",
       "      <th></th>\n",
       "      <th>Features</th>\n",
       "    </tr>\n",
       "  </thead>\n",
       "  <tbody>\n",
       "    <tr>\n",
       "      <th>0</th>\n",
       "      <td>[12387.0, 0.0, 0.0, 2.0, 2.0, 4.0, 2.0, 23475....</td>\n",
       "    </tr>\n",
       "    <tr>\n",
       "      <th>1</th>\n",
       "      <td>[12970.0, 0.0, 0.0, 2.0, 2.0, 4.0, 2.0, 26500....</td>\n",
       "    </tr>\n",
       "    <tr>\n",
       "      <th>2</th>\n",
       "      <td>[15218.0, 0.0, 0.0, 2.0, 0.0, 4.0, 2.0, 23940....</td>\n",
       "    </tr>\n",
       "    <tr>\n",
       "      <th>3</th>\n",
       "      <td>[18755.0, 0.0, 0.0, 2.0, 0.0, 6.0, 2.0, 38495....</td>\n",
       "    </tr>\n",
       "    <tr>\n",
       "      <th>4</th>\n",
       "      <td>[36999.0, 0.0, 0.0, 2.0, 0.0, 6.0, 2.0, 34175....</td>\n",
       "    </tr>\n",
       "  </tbody>\n",
       "</table>\n",
       "</div>"
      ],
      "text/plain": [
       "                                            Features\n",
       "0  [12387.0, 0.0, 0.0, 2.0, 2.0, 4.0, 2.0, 23475....\n",
       "1  [12970.0, 0.0, 0.0, 2.0, 2.0, 4.0, 2.0, 26500....\n",
       "2  [15218.0, 0.0, 0.0, 2.0, 0.0, 4.0, 2.0, 23940....\n",
       "3  [18755.0, 0.0, 0.0, 2.0, 0.0, 6.0, 2.0, 38495....\n",
       "4  [36999.0, 0.0, 0.0, 2.0, 0.0, 6.0, 2.0, 34175...."
      ]
     },
     "execution_count": 57,
     "metadata": {},
     "output_type": "execute_result"
    }
   ],
   "source": [
    "from pyspark.ml.feature import VectorAssembler\n",
    "ip_cols = ['askPrice','mileage','isNew','vf_AirBagLocFront','vf_AirBagLocKnee', 'vf_AirBagLocSide','vf_Axles','vf_BasePrice','vf_DisplacementCC','vf_DisplacementCI','vf_DisplacementL','vf_Doors', \n",
    "  'vf_EngineCylinders','vf_EngineHP','vf_EngineKW','vf_SeatRows','vf_Seats','vf_TopSpeedMPH','vf_TransmissionSpeeds','vf_WheelBaseShort','vf_WheelSizeFront','vf_WheelSizeRear','vf_Wheels','vf_Windows','Time in lot']\n",
    "op_col = \"Features\"\n",
    "vec_df = VectorAssembler(inputCols = ip_cols, outputCol = op_col)\n",
    "\n",
    "df_ml = vec_df.transform(df9)\n",
    "df_ml.select(['Features']).toPandas().head(5)"
   ]
  },
  {
   "cell_type": "code",
   "execution_count": 148,
   "id": "1486c274",
   "metadata": {},
   "outputs": [],
   "source": [
    "#vec_df = VectorAssembler(inputCols=['mileage','isNew','vf_AirBagLocFront','vf_AirBagLocKnee', 'vf_AirBagLocSide','vf_Axles','vf_BasePrice','vf_DisplacementCC','vf_DisplacementCI','vf_DisplacementL','vf_Doors', \n",
    "#  'vf_EngineCylinders','vf_EngineHP','vf_EngineKW','vf_SeatRows','vf_Seats','vf_TopSpeedMPH','vf_TransmissionSpeeds','vf_WheelBaseShort','vf_WheelSizeFront','vf_WheelSizeRear','vf_Wheels','vf_Windows','Time in lot'],outputCol = 'Features')"
   ]
  },
  {
   "cell_type": "code",
   "execution_count": 58,
   "id": "38adf5bf",
   "metadata": {
    "scrolled": true
   },
   "outputs": [
    {
     "name": "stdout",
     "output_type": "stream",
     "text": [
      "+--------------------+-----+\n",
      "|            Features| msrp|\n",
      "+--------------------+-----+\n",
      "|[12387.0,0.0,0.0,...|12387|\n",
      "|[12970.0,0.0,0.0,...|12970|\n",
      "|[15218.0,0.0,0.0,...|15218|\n",
      "|[18755.0,0.0,0.0,...|18755|\n",
      "|[36999.0,0.0,0.0,...|36999|\n",
      "|[18276.0,0.0,1.0,...|18276|\n",
      "|[22140.0,0.0,1.0,...|22140|\n",
      "|[0.0,0.0,1.0,2.0,...|    0|\n",
      "|[20494.0,0.0,0.0,...|20494|\n",
      "|[19026.0,0.0,1.0,...|19026|\n",
      "|[18951.0,0.0,1.0,...|18951|\n",
      "|[16649.0,0.0,0.0,...|16649|\n",
      "|[16671.0,0.0,0.0,...|16671|\n",
      "|[16998.0,0.0,0.0,...|16998|\n",
      "|[20294.0,0.0,0.0,...|20294|\n",
      "|[45996.0,0.0,0.0,...|45996|\n",
      "|[23537.0,0.0,1.0,...|23537|\n",
      "|[12999.0,0.0,0.0,...|12999|\n",
      "|[13398.0,0.0,0.0,...|13398|\n",
      "|[13692.0,0.0,0.0,...|14121|\n",
      "+--------------------+-----+\n",
      "only showing top 20 rows\n",
      "\n"
     ]
    }
   ],
   "source": [
    "final_df = df_ml.select(['Features','msrp'])\n",
    "final_df.show(20)"
   ]
  },
  {
   "cell_type": "code",
   "execution_count": 84,
   "id": "f12288b0",
   "metadata": {},
   "outputs": [
    {
     "data": {
      "text/plain": [
       "2574"
      ]
     },
     "execution_count": 84,
     "metadata": {},
     "output_type": "execute_result"
    }
   ],
   "source": [
    "len_df = final_df.count()\n",
    "\n",
    "train_len = int(0.7*len_df)\n",
    "train_len"
   ]
  },
  {
   "cell_type": "code",
   "execution_count": 86,
   "id": "0739d601",
   "metadata": {
    "scrolled": true
   },
   "outputs": [
    {
     "name": "stdout",
     "output_type": "stream",
     "text": [
      "+--------------------+-----+\n",
      "|            Features| msrp|\n",
      "+--------------------+-----+\n",
      "|[12387.0,0.0,0.0,...|12387|\n",
      "|[12970.0,0.0,0.0,...|12970|\n",
      "|[15218.0,0.0,0.0,...|15218|\n",
      "|[18755.0,0.0,0.0,...|18755|\n",
      "|[36999.0,0.0,0.0,...|36999|\n",
      "|[18276.0,0.0,1.0,...|18276|\n",
      "|[22140.0,0.0,1.0,...|22140|\n",
      "|[0.0,0.0,1.0,2.0,...|    0|\n",
      "|[20494.0,0.0,0.0,...|20494|\n",
      "|[19026.0,0.0,1.0,...|19026|\n",
      "|[18951.0,0.0,1.0,...|18951|\n",
      "|[16649.0,0.0,0.0,...|16649|\n",
      "|[16671.0,0.0,0.0,...|16671|\n",
      "|[16998.0,0.0,0.0,...|16998|\n",
      "|[20294.0,0.0,0.0,...|20294|\n",
      "|[45996.0,0.0,0.0,...|45996|\n",
      "|[23537.0,0.0,1.0,...|23537|\n",
      "|[12999.0,0.0,0.0,...|12999|\n",
      "|[13398.0,0.0,0.0,...|13398|\n",
      "|[13692.0,0.0,0.0,...|14121|\n",
      "+--------------------+-----+\n",
      "only showing top 20 rows\n",
      "\n"
     ]
    },
    {
     "data": {
      "text/plain": [
       "2574"
      ]
     },
     "execution_count": 86,
     "metadata": {},
     "output_type": "execute_result"
    }
   ],
   "source": [
    "test_df = final_df\n",
    "train_df = final_df.limit(train_len)\n",
    "train_df.show()\n",
    "train_df.count()\n"
   ]
  },
  {
   "cell_type": "code",
   "execution_count": 87,
   "id": "38f1d63c",
   "metadata": {},
   "outputs": [
    {
     "name": "stdout",
     "output_type": "stream",
     "text": [
      "+--------------------+-----+\n",
      "|            Features| msrp|\n",
      "+--------------------+-----+\n",
      "|[27962.0,0.0,0.0,...|27962|\n",
      "|[32962.0,0.0,0.0,...|32962|\n",
      "|[28430.0,0.0,1.0,...|28430|\n",
      "|[37562.0,0.0,1.0,...|44135|\n",
      "|[33962.0,0.0,0.0,...|33962|\n",
      "|[56962.0,0.0,0.0,...|56962|\n",
      "|[33962.0,0.0,0.0,...|33962|\n",
      "|[23962.0,0.0,0.0,...|23962|\n",
      "|[26462.0,0.0,0.0,...|26962|\n",
      "|[33962.0,0.0,0.0,...|33962|\n",
      "|[61462.0,0.0,0.0,...|61462|\n",
      "|[31762.0,0.0,1.0,...|37040|\n",
      "|[31962.0,0.0,0.0,...|32462|\n",
      "|[39962.0,0.0,1.0,...|47380|\n",
      "|[55962.0,0.0,0.0,...|55962|\n",
      "|[32962.0,0.0,0.0,...|32962|\n",
      "|[25962.0,0.0,0.0,...|25962|\n",
      "|[52962.0,0.0,0.0,...|52962|\n",
      "|[36962.0,0.0,0.0,...|36962|\n",
      "|[32462.0,0.0,0.0,...|32962|\n",
      "+--------------------+-----+\n",
      "only showing top 20 rows\n",
      "\n"
     ]
    },
    {
     "data": {
      "text/plain": [
       "1092"
      ]
     },
     "execution_count": 87,
     "metadata": {},
     "output_type": "execute_result"
    }
   ],
   "source": [
    "test_df = test_df.subtract(train_df)\n",
    "test_df.show()\n",
    "test_df.count()"
   ]
  },
  {
   "cell_type": "code",
   "execution_count": 72,
   "id": "69850427",
   "metadata": {
    "id": "69850427",
    "scrolled": false
   },
   "outputs": [],
   "source": [
    "#Test train split\n",
    "#train_df, test_df = final_df.randomSplit([0.7,0.3], seed = 26)"
   ]
  },
  {
   "cell_type": "code",
   "execution_count": 88,
   "id": "64cbf50a",
   "metadata": {},
   "outputs": [],
   "source": [
    "#Train test split\n",
    "#from pyspark.sql.functions import rand\n",
    "#train_df = final_df.filter(final_df.rand < 0.5)\n",
    "#test_df = final_df.filter(final_df.rand >= 0.5)"
   ]
  },
  {
   "cell_type": "code",
   "execution_count": 89,
   "id": "b8253ac5",
   "metadata": {
    "id": "b8253ac5",
    "outputId": "c8fa3c66-4fec-4e28-e931-ddc12c11441c"
   },
   "outputs": [
    {
     "data": {
      "text/plain": [
       "2574"
      ]
     },
     "execution_count": 89,
     "metadata": {},
     "output_type": "execute_result"
    }
   ],
   "source": [
    "train_df.count()"
   ]
  },
  {
   "cell_type": "code",
   "execution_count": 90,
   "id": "34bf701d",
   "metadata": {
    "id": "34bf701d",
    "outputId": "83f8d334-bf4f-44fa-fa36-a7fb9d791126"
   },
   "outputs": [
    {
     "data": {
      "text/plain": [
       "1092"
      ]
     },
     "execution_count": 90,
     "metadata": {},
     "output_type": "execute_result"
    }
   ],
   "source": [
    "test_df.count()"
   ]
  },
  {
   "cell_type": "code",
   "execution_count": 91,
   "id": "ad11dc9d",
   "metadata": {
    "id": "ad11dc9d"
   },
   "outputs": [],
   "source": [
    "from pyspark.ml.regression import LinearRegression"
   ]
  },
  {
   "cell_type": "code",
   "execution_count": 92,
   "id": "a259f7ab",
   "metadata": {
    "id": "a259f7ab"
   },
   "outputs": [],
   "source": [
    "lr = LinearRegression(featuresCol = 'Features', labelCol='msrp', maxIter=1000)"
   ]
  },
  {
   "cell_type": "code",
   "execution_count": 93,
   "id": "3cbfd0da",
   "metadata": {},
   "outputs": [
    {
     "name": "stdout",
     "output_type": "stream",
     "text": [
      "+--------------------+-----+\n",
      "|            Features| msrp|\n",
      "+--------------------+-----+\n",
      "|[12387.0,0.0,0.0,...|12387|\n",
      "|[12970.0,0.0,0.0,...|12970|\n",
      "|[15218.0,0.0,0.0,...|15218|\n",
      "|[18755.0,0.0,0.0,...|18755|\n",
      "|[36999.0,0.0,0.0,...|36999|\n",
      "|[18276.0,0.0,1.0,...|18276|\n",
      "|[22140.0,0.0,1.0,...|22140|\n",
      "|[0.0,0.0,1.0,2.0,...|    0|\n",
      "|[20494.0,0.0,0.0,...|20494|\n",
      "|[19026.0,0.0,1.0,...|19026|\n",
      "|[18951.0,0.0,1.0,...|18951|\n",
      "|[16649.0,0.0,0.0,...|16649|\n",
      "|[16671.0,0.0,0.0,...|16671|\n",
      "|[16998.0,0.0,0.0,...|16998|\n",
      "|[20294.0,0.0,0.0,...|20294|\n",
      "|[45996.0,0.0,0.0,...|45996|\n",
      "|[23537.0,0.0,1.0,...|23537|\n",
      "|[12999.0,0.0,0.0,...|12999|\n",
      "|[13398.0,0.0,0.0,...|13398|\n",
      "|[13692.0,0.0,0.0,...|14121|\n",
      "|[20997.0,0.0,0.0,...|20997|\n",
      "|[12568.0,0.0,1.0,...|12568|\n",
      "|[14680.0,0.0,1.0,...|15680|\n",
      "|[16829.0,0.0,1.0,...|17829|\n",
      "|[12568.0,0.0,1.0,...|12568|\n",
      "|[12959.0,0.0,0.0,...|12959|\n",
      "|[12998.0,0.0,0.0,...|12998|\n",
      "|[19514.0,0.0,1.0,...|19514|\n",
      "|[12930.0,0.0,0.0,...|12930|\n",
      "|[12970.0,0.0,0.0,...|12994|\n",
      "|[20978.0,0.0,0.0,...|20978|\n",
      "|[23652.0,0.0,1.0,...|23652|\n",
      "|[10999.0,0.0,0.0,...|10999|\n",
      "|[12575.0,0.0,0.0,...|12575|\n",
      "|[24457.0,0.0,0.0,...|24457|\n",
      "|[12799.0,0.0,0.0,...|12799|\n",
      "|[14529.0,0.0,0.0,...|14529|\n",
      "|[15683.0,0.0,0.0,...|15683|\n",
      "|[24726.0,0.0,0.0,...|24726|\n",
      "|[12572.0,0.0,1.0,...|12572|\n",
      "|[17999.0,0.0,0.0,...|17999|\n",
      "|[45644.0,0.0,0.0,...|45644|\n",
      "|[12568.0,0.0,1.0,...|12568|\n",
      "|[18868.0,0.0,1.0,...|19868|\n",
      "|[24286.0,0.0,1.0,...|24286|\n",
      "|[12394.0,0.0,0.0,...|12394|\n",
      "|[14520.0,0.0,0.0,...|14999|\n",
      "|[24885.0,0.0,0.0,...|24885|\n",
      "|[24998.0,0.0,0.0,...|24998|\n",
      "|[11999.0,0.0,0.0,...|11999|\n",
      "|[15976.0,0.0,1.0,...|16476|\n",
      "|[13769.0,0.0,0.0,...|13819|\n",
      "|[12902.0,0.0,0.0,...|12902|\n",
      "|[17645.0,0.0,0.0,...|17695|\n",
      "|[12357.0,0.0,1.0,...|12357|\n",
      "|[14384.0,0.0,0.0,...|14384|\n",
      "|[18781.0,0.0,1.0,...|18781|\n",
      "|[23550.0,0.0,1.0,...|23550|\n",
      "|[13295.0,0.0,0.0,...|13295|\n",
      "|[18328.0,0.0,0.0,...|18328|\n",
      "|[26060.0,0.0,0.0,...|26060|\n",
      "|[12949.0,0.0,0.0,...|12999|\n",
      "|[16925.0,0.0,1.0,...|16925|\n",
      "|[15900.0,0.0,0.0,...|15986|\n",
      "|[12899.0,0.0,0.0,...|12900|\n",
      "|[17821.0,0.0,0.0,...|17821|\n",
      "|[33841.0,0.0,1.0,...|33841|\n",
      "|[33125.0,0.0,1.0,...|33125|\n",
      "|[12998.0,0.0,0.0,...|12998|\n",
      "|[14621.0,0.0,0.0,...|14667|\n",
      "|[20383.0,0.0,1.0,...|20383|\n",
      "|[29288.0,0.0,1.0,...|29288|\n",
      "|[36163.0,0.0,1.0,...|36163|\n",
      "|[16860.0,0.0,1.0,...|16860|\n",
      "|[12994.0,0.0,0.0,...|12994|\n",
      "|[12995.0,0.0,0.0,...|13509|\n",
      "|[12281.0,0.0,0.0,...|12685|\n",
      "|[16462.0,0.0,1.0,...|17462|\n",
      "|[23481.0,0.0,1.0,...|23481|\n",
      "|[15999.0,0.0,0.0,...|16475|\n",
      "|[18787.0,0.0,1.0,...|23787|\n",
      "|[16648.0,0.0,0.0,...|16648|\n",
      "|[18787.0,0.0,1.0,...|18787|\n",
      "|[12687.0,0.0,0.0,...|12951|\n",
      "|[12998.0,0.0,0.0,...|13596|\n",
      "|[18851.0,0.0,0.0,...|18875|\n",
      "|[16860.0,0.0,1.0,...|21360|\n",
      "|[18787.0,0.0,1.0,...|20037|\n",
      "|[20663.0,0.0,1.0,...|24163|\n",
      "|[12407.0,0.0,1.0,...|12407|\n",
      "|[12568.0,0.0,1.0,...|12568|\n",
      "|[16860.0,0.0,1.0,...|21360|\n",
      "|[24999.0,0.0,0.0,...|24999|\n",
      "|[13998.0,0.0,0.0,...|13998|\n",
      "|[21689.0,0.0,0.0,...|21689|\n",
      "|[14800.0,0.0,0.0,...|14800|\n",
      "|[16349.0,0.0,0.0,...|16428|\n",
      "|[18272.0,0.0,0.0,...|18273|\n",
      "|[10339.0,0.0,0.0,...|10752|\n",
      "|[21935.0,0.0,0.0,...|21935|\n",
      "+--------------------+-----+\n",
      "only showing top 100 rows\n",
      "\n"
     ]
    }
   ],
   "source": [
    "train_df.show(100)"
   ]
  },
  {
   "cell_type": "code",
   "execution_count": 94,
   "id": "c24e49eb",
   "metadata": {},
   "outputs": [
    {
     "name": "stdout",
     "output_type": "stream",
     "text": [
      "+--------------------+-----+\n",
      "|            Features| msrp|\n",
      "+--------------------+-----+\n",
      "|[27962.0,0.0,0.0,...|27962|\n",
      "|[32962.0,0.0,0.0,...|32962|\n",
      "|[28430.0,0.0,1.0,...|28430|\n",
      "|[37562.0,0.0,1.0,...|44135|\n",
      "|[33962.0,0.0,0.0,...|33962|\n",
      "|[56962.0,0.0,0.0,...|56962|\n",
      "|[33962.0,0.0,0.0,...|33962|\n",
      "|[23962.0,0.0,0.0,...|23962|\n",
      "|[26462.0,0.0,0.0,...|26962|\n",
      "|[33962.0,0.0,0.0,...|33962|\n",
      "|[61462.0,0.0,0.0,...|61462|\n",
      "|[31762.0,0.0,1.0,...|37040|\n",
      "|[31962.0,0.0,0.0,...|32462|\n",
      "|[39962.0,0.0,1.0,...|47380|\n",
      "|[55962.0,0.0,0.0,...|55962|\n",
      "|[32962.0,0.0,0.0,...|32962|\n",
      "|[25962.0,0.0,0.0,...|25962|\n",
      "|[52962.0,0.0,0.0,...|52962|\n",
      "|[36962.0,0.0,0.0,...|36962|\n",
      "|[32462.0,0.0,0.0,...|32962|\n",
      "+--------------------+-----+\n",
      "only showing top 20 rows\n",
      "\n"
     ]
    }
   ],
   "source": [
    "test_df.show()"
   ]
  },
  {
   "cell_type": "code",
   "execution_count": 95,
   "id": "a0d988bb",
   "metadata": {
    "id": "a0d988bb"
   },
   "outputs": [
    {
     "name": "stdout",
     "output_type": "stream",
     "text": [
      "22/12/07 09:38:43 WARN Instrumentation: [1459a871] regParam is zero, which might cause numerical instability and overfitting.\n",
      "22/12/07 09:38:43 WARN InstanceBuilder$NativeBLAS: Failed to load implementation from:dev.ludovic.netlib.blas.JNIBLAS\n",
      "22/12/07 09:38:43 WARN InstanceBuilder$NativeBLAS: Failed to load implementation from:dev.ludovic.netlib.blas.ForeignLinkerBLAS\n",
      "22/12/07 09:38:43 WARN InstanceBuilder$NativeLAPACK: Failed to load implementation from:dev.ludovic.netlib.lapack.JNILAPACK\n",
      "22/12/07 09:38:43 WARN Instrumentation: [1459a871] Cholesky solver failed due to singular covariance matrix. Retrying with Quasi-Newton solver.\n"
     ]
    }
   ],
   "source": [
    "lr_model = lr.fit(train_df)"
   ]
  },
  {
   "cell_type": "code",
   "execution_count": 96,
   "id": "0dae3cb6",
   "metadata": {
    "id": "0dae3cb6"
   },
   "outputs": [],
   "source": [
    "y_pred = lr_model.transform(test_df)"
   ]
  },
  {
   "cell_type": "code",
   "execution_count": 97,
   "id": "adb0d59c",
   "metadata": {
    "id": "adb0d59c",
    "outputId": "5520c71b-b351-4781-8d84-3e640ae00929",
    "scrolled": true
   },
   "outputs": [
    {
     "name": "stdout",
     "output_type": "stream",
     "text": [
      "+--------------------+-----+------------------+\n",
      "|            Features| msrp|        prediction|\n",
      "+--------------------+-----+------------------+\n",
      "|[27962.0,0.0,0.0,...|27962| 28613.18119566859|\n",
      "|[32962.0,0.0,0.0,...|32962| 33263.44111300582|\n",
      "|[28430.0,0.0,1.0,...|28430|30446.303625853638|\n",
      "|[37562.0,0.0,1.0,...|44135|39906.832302568124|\n",
      "|[33962.0,0.0,0.0,...|33962| 33989.25386221418|\n",
      "|[56962.0,0.0,0.0,...|56962|57356.144496655084|\n",
      "|[33962.0,0.0,0.0,...|33962| 34034.50510450264|\n",
      "|[23962.0,0.0,0.0,...|23962|24012.808437279633|\n",
      "|[26462.0,0.0,0.0,...|26962|26978.042044894195|\n",
      "|[33962.0,0.0,0.0,...|33962|33972.309695202595|\n",
      "|[61462.0,0.0,0.0,...|61462| 61904.03188024244|\n",
      "|[31762.0,0.0,1.0,...|37040| 35140.83301554947|\n",
      "|[31962.0,0.0,0.0,...|32462|32348.598976167024|\n",
      "|[39962.0,0.0,1.0,...|47380| 42594.78199001183|\n",
      "|[55962.0,0.0,0.0,...|55962|  56011.1259364615|\n",
      "|[32962.0,0.0,0.0,...|32962| 33104.11465479882|\n",
      "|[25962.0,0.0,0.0,...|25962| 25408.80916867444|\n",
      "|[52962.0,0.0,0.0,...|52962| 52547.22657504253|\n",
      "|[36962.0,0.0,0.0,...|36962| 37198.15989667976|\n",
      "|[32462.0,0.0,0.0,...|32962| 32942.85244690456|\n",
      "+--------------------+-----+------------------+\n",
      "only showing top 20 rows\n",
      "\n"
     ]
    }
   ],
   "source": [
    "y_pred.show()"
   ]
  },
  {
   "cell_type": "code",
   "execution_count": 98,
   "id": "9386361f",
   "metadata": {
    "id": "9386361f",
    "outputId": "08a8e817-69ce-4875-a2da-41129b9724c0",
    "scrolled": true
   },
   "outputs": [
    {
     "name": "stdout",
     "output_type": "stream",
     "text": [
      "+-------+-----------------+-------------------+\n",
      "|summary|             msrp|         prediction|\n",
      "+-------+-----------------+-------------------+\n",
      "|  count|             1092|               1092|\n",
      "|   mean|35446.53754578755|  34560.03562395302|\n",
      "| stddev|20163.11506465241|  14004.00870247903|\n",
      "|    min|                0|-255.99827909185456|\n",
      "|    max|           412623|  95495.75298610076|\n",
      "+-------+-----------------+-------------------+\n",
      "\n"
     ]
    }
   ],
   "source": [
    "y_pred.describe().show()"
   ]
  },
  {
   "cell_type": "code",
   "execution_count": 99,
   "id": "d8d6330a",
   "metadata": {
    "scrolled": true
   },
   "outputs": [
    {
     "name": "stdout",
     "output_type": "stream",
     "text": [
      "Coefficients: [1.0043975112183214,-0.014797486413576973,2091.2713028936464,-12.486804960087552,58.61398418279996,34.911650476930205,0.0,-0.002479340368617685,0.0017661263484190018,0.028921764524519385,1.7391306909587945,380.6831580857333,-95.057096739133,-2.6779545590939557,5.38493994757674,230.026279073777,-45.847650175004325,0.558284231486903,33.65684647631677,10.074809848199479,4.0404912314828705,4.0404912314828705,-916.1899163254149,-204.5554514001452,5.6564052860576535]\n",
      "Intercept: 1111.3590915967047\n"
     ]
    }
   ],
   "source": [
    "print(\"Coefficients: \" + str(lr_model.coefficients))\n",
    "print(\"Intercept: \" + str(lr_model.intercept))"
   ]
  },
  {
   "cell_type": "code",
   "execution_count": 100,
   "id": "af9f9842",
   "metadata": {},
   "outputs": [
    {
     "name": "stdout",
     "output_type": "stream",
     "text": [
      "RMSE: 1485.681797\n",
      "r2: 0.989587\n"
     ]
    }
   ],
   "source": [
    "trainingSummary = lr_model.summary\n",
    "print(\"RMSE: %f\" % trainingSummary.rootMeanSquaredError)\n",
    "print(\"r2: %f\" % trainingSummary.r2)"
   ]
  },
  {
   "cell_type": "code",
   "execution_count": 101,
   "id": "076bc829",
   "metadata": {},
   "outputs": [
    {
     "name": "stdout",
     "output_type": "stream",
     "text": [
      "+------------------+-----+--------------------+\n",
      "|        prediction| msrp|            Features|\n",
      "+------------------+-----+--------------------+\n",
      "| 28613.18119566859|27962|[27962.0,0.0,0.0,...|\n",
      "| 33263.44111300582|32962|[32962.0,0.0,0.0,...|\n",
      "|30446.303625853638|28430|[28430.0,0.0,1.0,...|\n",
      "|39906.832302568124|44135|[37562.0,0.0,1.0,...|\n",
      "| 33989.25386221418|33962|[33962.0,0.0,0.0,...|\n",
      "|57356.144496655084|56962|[56962.0,0.0,0.0,...|\n",
      "| 34034.50510450264|33962|[33962.0,0.0,0.0,...|\n",
      "|24012.808437279633|23962|[23962.0,0.0,0.0,...|\n",
      "|26978.042044894195|26962|[26462.0,0.0,0.0,...|\n",
      "|33972.309695202595|33962|[33962.0,0.0,0.0,...|\n",
      "| 61904.03188024244|61462|[61462.0,0.0,0.0,...|\n",
      "| 35140.83301554947|37040|[31762.0,0.0,1.0,...|\n",
      "|32348.598976167024|32462|[31962.0,0.0,0.0,...|\n",
      "| 42594.78199001183|47380|[39962.0,0.0,1.0,...|\n",
      "|  56011.1259364615|55962|[55962.0,0.0,0.0,...|\n",
      "| 33104.11465479882|32962|[32962.0,0.0,0.0,...|\n",
      "| 25408.80916867444|25962|[25962.0,0.0,0.0,...|\n",
      "| 52547.22657504253|52962|[52962.0,0.0,0.0,...|\n",
      "| 37198.15989667976|36962|[36962.0,0.0,0.0,...|\n",
      "| 32942.85244690456|32962|[32462.0,0.0,0.0,...|\n",
      "+------------------+-----+--------------------+\n",
      "only showing top 20 rows\n",
      "\n",
      "R Squared (R2) on test data = 0.49683\n"
     ]
    }
   ],
   "source": [
    "y_pred.select(\"prediction\",\"msrp\",\"Features\").show()\n",
    "from pyspark.ml.evaluation import RegressionEvaluator\n",
    "lr_evaluator = RegressionEvaluator(predictionCol=\"prediction\", labelCol=\"msrp\",metricName=\"r2\")\n",
    "print(\"R Squared (R2) on test data = %g\" % lr_evaluator.evaluate(y_pred))"
   ]
  },
  {
   "cell_type": "code",
   "execution_count": 102,
   "id": "d7764100",
   "metadata": {
    "scrolled": true
   },
   "outputs": [
    {
     "name": "stdout",
     "output_type": "stream",
     "text": [
      "+------------------+-----+--------------------+\n",
      "|        prediction| msrp|            Features|\n",
      "+------------------+-----+--------------------+\n",
      "|28851.537313432837|27962|[27962.0,0.0,0.0,...|\n",
      "|34362.063953488374|32962|[32962.0,0.0,0.0,...|\n",
      "|31645.285714285714|28430|[28430.0,0.0,1.0,...|\n",
      "| 37567.87333333334|44135|[37562.0,0.0,1.0,...|\n",
      "|34362.063953488374|33962|[33962.0,0.0,0.0,...|\n",
      "+------------------+-----+--------------------+\n",
      "only showing top 5 rows\n",
      "\n",
      "Root Mean Squared Error (RMSE) on test data = 14567.7\n"
     ]
    }
   ],
   "source": [
    "#Decision tree\n",
    "from pyspark.ml.regression import DecisionTreeRegressor\n",
    "dt = DecisionTreeRegressor(featuresCol ='Features', labelCol = 'msrp')\n",
    "dt_model = dt.fit(train_df)\n",
    "dt_pred = dt_model.transform(test_df)\n",
    "dt_evaluator = RegressionEvaluator(\n",
    "    labelCol=\"msrp\", predictionCol=\"prediction\", metricName=\"rmse\")\n",
    "rmse = dt_evaluator.evaluate(dt_pred)\n",
    "dt_pred.select(\"prediction\",\"msrp\",\"Features\").show(5)\n",
    "print(\"Root Mean Squared Error (RMSE) on test data = %g\" % rmse)\n"
   ]
  },
  {
   "cell_type": "code",
   "execution_count": 103,
   "id": "d764b92f",
   "metadata": {},
   "outputs": [
    {
     "name": "stdout",
     "output_type": "stream",
     "text": [
      "+------------------+-----+--------------------+\n",
      "|        prediction| msrp|            Features|\n",
      "+------------------+-----+--------------------+\n",
      "| 28547.29476285316|27962|[27962.0,0.0,0.0,...|\n",
      "|33632.054347140955|32962|[32962.0,0.0,0.0,...|\n",
      "|30313.922722000254|28430|[28430.0,0.0,1.0,...|\n",
      "|40843.328451429115|44135|[37562.0,0.0,1.0,...|\n",
      "| 33891.63099132587|33962|[33962.0,0.0,0.0,...|\n",
      "+------------------+-----+--------------------+\n",
      "only showing top 5 rows\n",
      "\n"
     ]
    }
   ],
   "source": [
    "#Gradient boosted tree regression\n",
    "\n",
    "from pyspark.ml.regression import GBTRegressor\n",
    "gbt = GBTRegressor(featuresCol = 'Features', labelCol = 'msrp', maxIter=10)\n",
    "gbt_model = gbt.fit(train_df)\n",
    "gbt_predictions = gbt_model.transform(test_df)\n",
    "gbt_predictions.select('prediction', 'msrp', 'Features').show(5)"
   ]
  },
  {
   "cell_type": "code",
   "execution_count": 104,
   "id": "9832d4b2",
   "metadata": {},
   "outputs": [
    {
     "name": "stdout",
     "output_type": "stream",
     "text": [
      "Root Mean Squared Error (RMSE) on test data = 14414.6\n"
     ]
    }
   ],
   "source": [
    "gbt_evaluator = RegressionEvaluator(\n",
    "    labelCol=\"msrp\", predictionCol=\"prediction\", metricName=\"rmse\")\n",
    "rmse = gbt_evaluator.evaluate(gbt_predictions)\n",
    "print(\"Root Mean Squared Error (RMSE) on test data = %g\" % rmse)\n"
   ]
  },
  {
   "cell_type": "code",
   "execution_count": 105,
   "id": "8cfff8e0",
   "metadata": {},
   "outputs": [
    {
     "name": "stdout",
     "output_type": "stream",
     "text": [
      "+------------------+-----+--------------------+\n",
      "|        prediction| msrp|            Features|\n",
      "+------------------+-----+--------------------+\n",
      "|32410.118371011682|27962|[27962.0,0.0,0.0,...|\n",
      "|35798.568380479366|32962|[32962.0,0.0,0.0,...|\n",
      "|27913.756314866023|28430|[28430.0,0.0,1.0,...|\n",
      "|38809.698206700974|44135|[37562.0,0.0,1.0,...|\n",
      "| 35406.18711739892|33962|[33962.0,0.0,0.0,...|\n",
      "+------------------+-----+--------------------+\n",
      "only showing top 5 rows\n",
      "\n"
     ]
    }
   ],
   "source": [
    "#Random Forest regression\n",
    "\n",
    "from pyspark.ml.regression import RandomForestRegressor\n",
    "rf = RandomForestRegressor(featuresCol = 'Features', labelCol = 'msrp')\n",
    "rf_model = rf.fit(train_df)\n",
    "rf_predictions = rf_model.transform(test_df)\n",
    "rf_predictions.select('prediction', 'msrp', 'Features').show(5)"
   ]
  },
  {
   "cell_type": "code",
   "execution_count": 106,
   "id": "ed821045",
   "metadata": {},
   "outputs": [
    {
     "name": "stdout",
     "output_type": "stream",
     "text": [
      "Root Mean Squared Error (RMSE) on test data = 14974.9\n"
     ]
    }
   ],
   "source": [
    "rf_evaluator = RegressionEvaluator(\n",
    "    labelCol=\"msrp\", predictionCol=\"prediction\", metricName=\"rmse\")\n",
    "rmse = rf_evaluator.evaluate(rf_predictions)\n",
    "print(\"Root Mean Squared Error (RMSE) on test data = %g\" % rmse)\n"
   ]
  },
  {
   "cell_type": "code",
   "execution_count": 107,
   "id": "992ac492",
   "metadata": {},
   "outputs": [
    {
     "name": "stdout",
     "output_type": "stream",
     "text": [
      "+------------------+-----+--------------------+\n",
      "|        prediction| msrp|            Features|\n",
      "+------------------+-----+--------------------+\n",
      "|           28962.0|27962|[27962.0,0.0,0.0,...|\n",
      "| 33346.55714285714|32962|[32962.0,0.0,0.0,...|\n",
      "|           29242.0|28430|[28430.0,0.0,1.0,...|\n",
      "|38781.793103448275|44135|[37562.0,0.0,1.0,...|\n",
      "| 34947.76388888889|33962|[33962.0,0.0,0.0,...|\n",
      "+------------------+-----+--------------------+\n",
      "only showing top 5 rows\n",
      "\n"
     ]
    }
   ],
   "source": [
    "#isotonic regressor\n",
    "\n",
    "from pyspark.ml.regression import IsotonicRegression\n",
    "ir = IsotonicRegression(featuresCol = 'Features', labelCol = 'msrp')\n",
    "ir_model = ir.fit(train_df)\n",
    "ir_predictions = ir_model.transform(test_df)\n",
    "ir_predictions.select('prediction', 'msrp', 'Features').show(5)"
   ]
  },
  {
   "cell_type": "code",
   "execution_count": 108,
   "id": "a5129625",
   "metadata": {},
   "outputs": [
    {
     "name": "stdout",
     "output_type": "stream",
     "text": [
      "Root Mean Squared Error (RMSE) on test data = 14436.3\n"
     ]
    }
   ],
   "source": [
    "ir_evaluator = RegressionEvaluator(\n",
    "    labelCol=\"msrp\", predictionCol=\"prediction\", metricName=\"rmse\")\n",
    "rmse = ir_evaluator.evaluate(ir_predictions)\n",
    "print(\"Root Mean Squared Error (RMSE) on test data = %g\" % rmse)\n"
   ]
  },
  {
   "cell_type": "code",
   "execution_count": null,
   "id": "b4d648ed",
   "metadata": {
    "id": "b4d648ed"
   },
   "outputs": [],
   "source": [
    "#changing vf_AirBagLocFront from string to integer\n",
    "from pyspark.sql.functions import when\n",
    "df4 = df3.withColumn('vf_AirBagLocFront', (when(df3['vf_AirBagLocFront'] == '1st Row (Driver & Passenger)', 2).when(df3['vf_AirBagLocFront'] == 'Driver Seat Only', 1).when(df3['vf_AirBagLocFront'] == 'Passenger Seat Only', 1).when(df3['vf_AirBagLocFront'] == '1st & 2nd Rows', 4).when(df3['vf_AirBagLocFront'] == '1st & 2nd & 3rd Rows', 6).when(df3['vf_AirBagLocFront'] == 'All Rows', 4).otherwise(0)))\n",
    "df4.select('vf_AirBagLocFront').show(45)\n",
    "\n",
    "#changing vf_AirBagLocSide from string to integer\n",
    "df5 = df4.withColumn('vf_AirBagLocSide', (when(df4['vf_AirBagLocSide'] == '1st Row (Driver & Passenger)', 2).when(df4['vf_AirBagLocSide'] == 'Driver Seat Only', 1).when(df4['vf_AirBagLocSide'] == 'Passenger Seat Only', 1).when(df4['vf_AirBagLocSide'] == '1st & 2nd Rows', 4).when(df4['vf_AirBagLocSide'] == '1st & 2nd & 3rd Rows', 6).when(df4['vf_AirBagLocSide'] == 'All Rows', 4).otherwise(0)))\n",
    "df5.select('vf_AirBagLocSide').show()\n",
    "\n",
    "#changing vf_AirBagLocKnee from string to integer\n",
    "df6 = df5.withColumn('vf_AirBagLocKnee', (when(df5['vf_AirBagLocKnee'] == '1st Row (Driver & Passenger)', 2).when(df5['vf_AirBagLocSide'] == 'Driver Seat Only', 1).when(df5['vf_AirBagLocSide'] == 'Passenger Seat Only', 1).when(df5['vf_AirBagLocSide'] == '1st & 2nd Rows', 4).when(df5['vf_AirBagLocSide'] == '1st & 2nd & 3rd Rows', 6).when(df5['vf_AirBagLocSide'] == 'All Rows', 4).otherwise(0)))\n",
    "df6.select('vf_AirBagLocKnee').show()\n",
    "\n",
    "df6.select('vf_Axles').show()\n",
    "\n",
    "#vf_Axles - filling null values with average\n",
    "avg_axles = df6.agg({'vf_Axles': 'mean' })\n",
    "df7 = df6.na.fill(value=avg_axles.first()[0],subset=[\"vf_Axles\"])\n",
    "df7.select('vf_Axles').show()\n",
    "\n",
    "df7.select('vf_BasePrice').show()\n",
    "\n",
    "#vf_BasePrice - filling null values with average\n",
    "avg_bprice = df7.agg({'vf_BasePrice': 'mean' })\n",
    "df8 = df7.na.fill(value=int(avg_bprice.first()[0]),subset=[\"vf_BasePrice\"])\n",
    "df8.select('vf_BasePrice').show()\n",
    "\n",
    "#vf_DisplacementCI, vf_DisplacementCC, vf_DisplacementL, vf_Doors, vf_EngineCylinders, vf_EngineHP, vf_EngineKW, \n",
    "#vf_SeatRows, vf_Seats, vf_TopSpeedMPH, vf_TransmissionSpeeds, vf_WheelBaseShort, vf_WheelSizeFront, \n",
    "#vf_WheelSizeRear, vf_Wheels, vf_Windows - filling null values with average\n",
    "avg_dcc = df8.agg({'vf_DisplacementCC': 'mean' })\n",
    "df9 = df8.na.fill(value=int(avg_dcc.first()[0]),subset=[\"vf_DisplacementCC\"])\n",
    "avg_dci = df9.agg({'vf_DisplacementCI': 'mean' })\n",
    "df9 = df9.na.fill(value=int(avg_dci.first()[0]),subset=[\"vf_DisplacementCI\"])\n",
    "avg_dl = df9.agg({'vf_DisplacementL': 'mean' })\n",
    "df9 = df9.na.fill(value=int(avg_dl.first()[0]),subset=[\"vf_DisplacementL\"])\n",
    "df9 = df9.na.fill(value=4,subset=['vf_Doors'])\n",
    "avg_cyl = df9.agg({'vf_EngineCylinders': 'mean' })\n",
    "df9 = df9.na.fill(value=int(avg_cyl.first()[0]),subset=[\"vf_EngineCylinders\"])\n",
    "avg_ehp = df9.agg({'vf_EngineHP': 'mean' })\n",
    "df9 = df9.na.fill(value=avg_ehp.first()[0],subset=[\"vf_EngineHP\"])\n",
    "avg_ekw = df9.agg({'vf_EngineKW': 'mean' })\n",
    "df9 = df9.na.fill(value=avg_ekw.first()[0],subset=[\"vf_EngineKW\"])\n",
    "avg_sr = df9.agg({'vf_SeatRows': 'mean' })\n",
    "df9 = df9.na.fill(value=int(avg_sr.first()[0]),subset=[\"vf_SeatRows\"])\n",
    "avg_seats = df9.agg({'vf_Seats': 'mean' })\n",
    "df9 = df9.na.fill(value=int(avg_seats.first()[0]),subset=[\"vf_Seats\"])\n",
    "avg_speed = df9.agg({'vf_TopSpeedMPH': 'mean' })\n",
    "df9 = df9.na.fill(value=int(avg_speed.first()[0]),subset=[\"vf_TopSpeedMPH\"])\n",
    "avg_tspeed = df9.agg({'vf_TransmissionSpeeds': 'mean' })\n",
    "df9 = df9.na.fill(value=int(avg_tspeed.first()[0]),subset=[\"vf_TransmissionSpeeds\"])\n",
    "avg_wbs = df9.agg({'vf_WheelBaseShort': 'mean' })\n",
    "df9 = df9.na.fill(value=avg_wbs.first()[0],subset=[\"vf_WheelBaseShort\"])\n",
    "avg_wsf = df9.agg({'vf_WheelSizeFront': 'mean' })\n",
    "df9 = df9.na.fill(value=int(avg_wsf.first()[0]),subset=[\"vf_WheelSizeFront\"])\n",
    "avg_wsr = df9.agg({'vf_WheelSizeRear': 'mean' })\n",
    "df9 = df9.na.fill(value=int(avg_wsr.first()[0]),subset=[\"vf_WheelSizeRear\"])\n",
    "avg_wheels = df9.agg({'vf_Wheels': 'mean' })\n",
    "df9 = df9.na.fill(value=int(avg_wheels.first()[0]),subset=[\"vf_Wheels\"])\n",
    "df9 = df9.na.fill(value=4,subset=['vf_Windows'])\n",
    "df9.select('vf_DisplacementCC','vf_DisplacementCI','vf_DisplacementL','vf_Doors','vf_EngineCylinders','vf_EngineHP','vf_EngineKW','vf_SeatRows','vf_Seats','vf_TopSpeedMPH','vf_TransmissionSpeeds','vf_WheelBaseShort','vf_WheelSizeFront','vf_WheelSizeRear','vf_Wheels','vf_Windows').show()\n",
    "\n",
    "df9.dtypes\n",
    "\n",
    "\n",
    "from pyspark.ml.feature import VectorAssembler\n",
    "ip_cols = ['askPrice','mileage','isNew','vf_AirBagLocFront','vf_AirBagLocKnee', 'vf_AirBagLocSide','vf_Axles','vf_BasePrice','vf_DisplacementCC','vf_DisplacementCI','vf_DisplacementL','vf_Doors', \n",
    "  'vf_EngineCylinders','vf_EngineHP','vf_EngineKW','vf_SeatRows','vf_Seats','vf_TopSpeedMPH','vf_TransmissionSpeeds','vf_WheelBaseShort','vf_WheelSizeFront','vf_WheelSizeRear','vf_Wheels','vf_Windows','Time in lot']\n",
    "op_col = \"Features\"\n",
    "vec_df = VectorAssembler(inputCols = ip_cols, outputCol = op_col)\n",
    "\n",
    "df_ml = vec_df.transform(df9)\n",
    "df_ml.select(['Features']).toPandas().head(5)\n",
    "\n",
    "#vec_df = VectorAssembler(inputCols=['mileage','isNew','vf_AirBagLocFront','vf_AirBagLocKnee', 'vf_AirBagLocSide','vf_Axles','vf_BasePrice','vf_DisplacementCC','vf_DisplacementCI','vf_DisplacementL','vf_Doors', \n",
    "#  'vf_EngineCylinders','vf_EngineHP','vf_EngineKW','vf_SeatRows','vf_Seats','vf_TopSpeedMPH','vf_TransmissionSpeeds','vf_WheelBaseShort','vf_WheelSizeFront','vf_WheelSizeRear','vf_Wheels','vf_Windows','Time in lot'],outputCol = 'Features')\n",
    "\n",
    "final_df = df_ml.select(['Features','msrp'])\n",
    "final_df.show(20)\n",
    "\n",
    "#Test train split\n",
    "train_df, test_df = final_df.randomSplit([0.7,0.3])\n",
    "\n",
    "train_df.count()\n",
    "\n",
    "test_df.count()\n",
    "\n",
    "from pyspark.ml.regression import LinearRegression\n",
    "\n",
    "lr = LinearRegression(featuresCol = 'Features', labelCol='msrp', maxIter=1000)\n",
    "\n",
    "lr_model = lr.fit(train_df)\n",
    "\n",
    "y_pred = lr_model.transform(test_df)\n",
    "\n",
    "y_pred.show()\n",
    "\n",
    "y_pred.describe().show()\n",
    "\n",
    "print(\"Coefficients: \" + str(lr_model.coefficients))\n",
    "print(\"Intercept: \" + str(lr_model.intercept))\n",
    "\n",
    "trainingSummary = lr_model.summary\n",
    "print(\"RMSE: %f\" % trainingSummary.rootMeanSquaredError)\n",
    "print(\"r2: %f\" % trainingSummary.r2)\n",
    "\n",
    "y_pred.select(\"prediction\",\"msrp\",\"Features\").show(5)\n",
    "from pyspark.ml.evaluation import RegressionEvaluator\n",
    "lr_evaluator = RegressionEvaluator(predictionCol=\"prediction\", labelCol=\"msrp\",metricName=\"r2\")\n",
    "print(\"R Squared (R2) on test data = %g\" % lr_evaluator.evaluate(y_pred))\n",
    "\n",
    "#Decision tree\n",
    "from pyspark.ml.regression import DecisionTreeRegressor\n",
    "dt = DecisionTreeRegressor(featuresCol ='Features', labelCol = 'msrp')\n",
    "dt_model = dt.fit(train_df)\n",
    "dt_pred = dt_model.transform(test_df)\n",
    "dt_evaluator = RegressionEvaluator(\n",
    "    labelCol=\"msrp\", predictionCol=\"prediction\", metricName=\"rmse\")\n",
    "rmse = dt_evaluator.evaluate(dt_pred)\n",
    "dt_pred.select(\"prediction\",\"msrp\",\"Features\").show(5)\n",
    "print(\"Root Mean Squared Error (RMSE) on test data = %g\" % rmse)\n",
    "\n",
    "\n",
    "#Gradient boosted tree regression\n",
    "\n",
    "from pyspark.ml.regression import GBTRegressor\n",
    "gbt = GBTRegressor(featuresCol = 'Features', labelCol = 'msrp', maxIter=10)\n",
    "gbt_model = gbt.fit(train_df)\n",
    "gbt_predictions = gbt_model.transform(test_df)\n",
    "gbt_predictions.select('prediction', 'msrp', 'Features').show(5)\n",
    "\n",
    "gbt_evaluator = RegressionEvaluator(\n",
    "    labelCol=\"msrp\", predictionCol=\"prediction\", metricName=\"rmse\")\n",
    "rmse = gbt_evaluator.evaluate(gbt_predictions)\n",
    "print(\"Root Mean Squared Error (RMSE) on test data = %g\" % rmse)\n",
    "\n",
    "\n",
    "#Random Forest regression\n",
    "\n",
    "from pyspark.ml.regression import RandomForestRegressor\n",
    "rf = RandomForestRegressor(featuresCol = 'Features', labelCol = 'msrp')\n",
    "rf_model = rf.fit(train_df)\n",
    "rf_predictions = rf_model.transform(test_df)\n",
    "rf_predictions.select('prediction', 'msrp', 'Features').show(5)\n",
    "\n",
    "rf_evaluator = RegressionEvaluator(\n",
    "    labelCol=\"msrp\", predictionCol=\"prediction\", metricName=\"rmse\")\n",
    "rmse = rf_evaluator.evaluate(rf_predictions)\n",
    "print(\"Root Mean Squared Error (RMSE) on test data = %g\" % rmse)\n",
    "\n",
    "\n",
    "#isotonic regressor\n",
    "\n",
    "from pyspark.ml.regression import IsotonicRegression\n",
    "ir = IsotonicRegression(featuresCol = 'Features', labelCol = 'msrp')\n",
    "ir_model = ir.fit(train_df)\n",
    "ir_predictions = ir_model.transform(test_df)\n",
    "ir_predictions.select('prediction', 'msrp', 'Features').show(5)\n",
    "\n",
    "ir_evaluator = RegressionEvaluator(\n",
    "    labelCol=\"msrp\", predictionCol=\"prediction\", metricName=\"rmse\")\n",
    "rmse = ir_evaluator.evaluate(ir_predictions)\n",
    "print(\"Root Mean Squared Error (RMSE) on test data = %g\" % rmse)\n"
   ]
  },
  {
   "cell_type": "code",
   "execution_count": null,
   "id": "f69f00da",
   "metadata": {
    "id": "f69f00da"
   },
   "outputs": [],
   "source": []
  },
  {
   "cell_type": "code",
   "execution_count": null,
   "id": "536ad966",
   "metadata": {
    "id": "536ad966"
   },
   "outputs": [],
   "source": []
  },
  {
   "cell_type": "code",
   "execution_count": null,
   "id": "4de0fb44",
   "metadata": {
    "id": "4de0fb44"
   },
   "outputs": [],
   "source": []
  },
  {
   "cell_type": "code",
   "execution_count": null,
   "id": "2428c6c5",
   "metadata": {
    "id": "2428c6c5"
   },
   "outputs": [],
   "source": []
  },
  {
   "cell_type": "code",
   "execution_count": null,
   "id": "a3f97df6",
   "metadata": {
    "id": "a3f97df6"
   },
   "outputs": [],
   "source": []
  },
  {
   "cell_type": "code",
   "execution_count": null,
   "id": "fe9497d6",
   "metadata": {
    "id": "fe9497d6"
   },
   "outputs": [],
   "source": []
  },
  {
   "cell_type": "code",
   "execution_count": null,
   "id": "f6cba272",
   "metadata": {
    "id": "f6cba272"
   },
   "outputs": [],
   "source": []
  },
  {
   "cell_type": "code",
   "execution_count": null,
   "id": "a87f59df",
   "metadata": {
    "id": "a87f59df"
   },
   "outputs": [],
   "source": []
  },
  {
   "cell_type": "code",
   "execution_count": null,
   "id": "fe9c8d1c",
   "metadata": {
    "id": "fe9c8d1c"
   },
   "outputs": [],
   "source": []
  },
  {
   "cell_type": "code",
   "execution_count": null,
   "id": "8f98ab1b",
   "metadata": {
    "id": "8f98ab1b"
   },
   "outputs": [],
   "source": []
  },
  {
   "cell_type": "code",
   "execution_count": null,
   "id": "d5a6ac40",
   "metadata": {
    "id": "d5a6ac40"
   },
   "outputs": [],
   "source": []
  },
  {
   "cell_type": "code",
   "execution_count": null,
   "id": "ee923bfc",
   "metadata": {
    "id": "ee923bfc"
   },
   "outputs": [],
   "source": []
  },
  {
   "cell_type": "code",
   "execution_count": null,
   "id": "475bbf5f",
   "metadata": {
    "id": "475bbf5f"
   },
   "outputs": [],
   "source": []
  },
  {
   "cell_type": "code",
   "execution_count": null,
   "id": "cf4e7fcf",
   "metadata": {
    "id": "cf4e7fcf"
   },
   "outputs": [],
   "source": []
  },
  {
   "cell_type": "code",
   "execution_count": null,
   "id": "ced8483e",
   "metadata": {
    "id": "ced8483e"
   },
   "outputs": [],
   "source": []
  },
  {
   "cell_type": "code",
   "execution_count": null,
   "id": "607d82d5",
   "metadata": {
    "id": "607d82d5"
   },
   "outputs": [],
   "source": []
  },
  {
   "cell_type": "code",
   "execution_count": null,
   "id": "c2195cc6",
   "metadata": {
    "id": "c2195cc6"
   },
   "outputs": [],
   "source": []
  },
  {
   "cell_type": "code",
   "execution_count": null,
   "id": "236d1813",
   "metadata": {
    "id": "236d1813"
   },
   "outputs": [],
   "source": []
  },
  {
   "cell_type": "code",
   "execution_count": null,
   "id": "3798e02e",
   "metadata": {
    "id": "3798e02e"
   },
   "outputs": [],
   "source": []
  },
  {
   "cell_type": "code",
   "execution_count": null,
   "id": "e77d1d38",
   "metadata": {
    "id": "e77d1d38"
   },
   "outputs": [],
   "source": []
  }
 ],
 "metadata": {
  "colab": {
   "provenance": []
  },
  "kernelspec": {
   "display_name": "Python 3 (ipykernel)",
   "language": "python",
   "name": "python3"
  },
  "language_info": {
   "codemirror_mode": {
    "name": "ipython",
    "version": 3
   },
   "file_extension": ".py",
   "mimetype": "text/x-python",
   "name": "python",
   "nbconvert_exporter": "python",
   "pygments_lexer": "ipython3",
   "version": "3.9.13"
  }
 },
 "nbformat": 4,
 "nbformat_minor": 5
}
